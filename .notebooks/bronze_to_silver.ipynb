{
 "cells": [
  {
   "cell_type": "code",
   "execution_count": 1,
   "metadata": {},
   "outputs": [],
   "source": [
    "from pyspark.sql import SparkSession"
   ]
  },
  {
   "cell_type": "code",
   "execution_count": 2,
   "metadata": {},
   "outputs": [
    {
     "name": "stderr",
     "output_type": "stream",
     "text": [
      "SLF4J: Class path contains multiple SLF4J bindings.\n",
      "SLF4J: Found binding in [jar:file:/home/glue_user/spark/jars/log4j-slf4j-impl-2.17.2.jar!/org/slf4j/impl/StaticLoggerBinder.class]\n",
      "SLF4J: Found binding in [jar:file:/home/glue_user/spark/jars/slf4j-reload4j-1.7.36.jar!/org/slf4j/impl/StaticLoggerBinder.class]\n",
      "SLF4J: Found binding in [jar:file:/home/glue_user/aws-glue-libs/jars/log4j-slf4j-impl-2.17.2.jar!/org/slf4j/impl/StaticLoggerBinder.class]\n",
      "SLF4J: Found binding in [jar:file:/home/glue_user/aws-glue-libs/jars/slf4j-reload4j-1.7.36.jar!/org/slf4j/impl/StaticLoggerBinder.class]\n",
      "SLF4J: See http://www.slf4j.org/codes.html#multiple_bindings for an explanation.\n",
      "SLF4J: Actual binding is of type [org.apache.logging.slf4j.Log4jLoggerFactory]\n",
      "Setting default log level to \"WARN\".\n",
      "To adjust logging level use sc.setLogLevel(newLevel). For SparkR, use setLogLevel(newLevel).\n"
     ]
    }
   ],
   "source": [
    "spark = SparkSession.builder.getOrCreate()"
   ]
  },
  {
   "cell_type": "code",
   "execution_count": 3,
   "metadata": {},
   "outputs": [],
   "source": [
    "spark.conf.set('spark.sql.sources.partitionOverwriteMode', 'dynamic')"
   ]
  },
  {
   "attachments": {},
   "cell_type": "markdown",
   "metadata": {},
   "source": [
    "AUDITORIA MUNICIPAL "
   ]
  },
  {
   "cell_type": "code",
   "execution_count": 4,
   "metadata": {},
   "outputs": [
    {
     "name": "stderr",
     "output_type": "stream",
     "text": [
      "24/01/20 13:16:25 WARN MetricsConfig: Cannot locate configuration: tried hadoop-metrics2-s3a-file-system.properties,hadoop-metrics2.properties\n",
      "                                                                                \r"
     ]
    }
   ],
   "source": [
    "auditoria_df = (spark.read.option(\"delimiter\", \";\") \n",
    "                          .option(\"header\", True)\n",
    "                          .option('encoding', 'ISO-8859-1') \n",
    "                          .csv(\"s3://bronze/auditoria_municipal/6-siap-net-orgaos-municipais-autoridades-2016.csv\"))"
   ]
  },
  {
   "cell_type": "code",
   "execution_count": 5,
   "metadata": {},
   "outputs": [
    {
     "name": "stdout",
     "output_type": "stream",
     "text": [
      "+---------------+--------------------+---------------+--------------------+------------+--------------+--------------------+----------------+-----+---------------+--------------------+-------------------+--------------------+----+-------------+----------+\n",
      "|CodigoMunicipio|       NomeMunicipio|CodigoTipoOrgao|       NomeTipoOrgao|AnoExercicio|SequenciaOrgao|           NomeOrgao|CodigoAutoridade|Trata|mentoAutoridade|     CargoAutoridade|SequenciaAutoridade|                Nome|Sexo|InicioMandato|FimMandato|\n",
      "+---------------+--------------------+---------------+--------------------+------------+--------------+--------------------+----------------+-----+---------------+--------------------+-------------------+--------------------+----+-------------+----------+\n",
      "|---------------|-----------------...|---------------|-----------------...|------------|--------------|-----------------...|----------------|-----|---------------|-----------------...|-------------------|-----------------...|----|-------------|----------|\n",
      "|            240|          ADAMANTINA|              1|          PREFEITURA|        1998|             1|PREFEITURA MUNICI...|               1|EXMO.|            SR.|      PREFEITO ATUAL|                  1|  JOSÉ LAÉRCIO ROSSI|   M|   01/01/1997|31/12/2000|\n",
      "|            240|          ADAMANTINA|              1|          PREFEITURA|        1998|             1|PREFEITURA MUNICI...|               2|EXMO.|            SR.|PREFEITO NO EXERC...|                  2|  JOSÉ LAÉRCIO ROSSI|   M|   01/01/1997|31/12/2000|\n",
      "|            240|          ADAMANTINA|              1|          PREFEITURA|        1998|             1|PREFEITURA MUNICI...|               3|EXMO.|            SR.| VICE-PREFEITO ATUAL|                  1|     ANTONIO GRANADO|   M|   01/01/1997|31/12/2000|\n",
      "|            240|          ADAMANTINA|              1|          PREFEITURA|        1998|             1|PREFEITURA MUNICI...|               8|EXMA.|           SRA.|INTEGRANTE ATUAL ...|                  1|TATIANA APARECIDA...|   F|         null|      null|\n",
      "|            240|          ADAMANTINA|              1|          PREFEITURA|        1998|             1|PREFEITURA MUNICI...|               8|EXMO.|            SR.|INTEGRANTE ATUAL ...|                  2|HÉLIO VIEIRA MALH...|   M|         null|      null|\n",
      "|            240|          ADAMANTINA|              1|          PREFEITURA|        1998|             1|PREFEITURA MUNICI...|               9|EXMO.|            SR.|PRESIDENTE NO EXE...|                  1|PAULO ROBERTO GUM...|   M|   23/07/1997|23/07/1998|\n",
      "|            240|          ADAMANTINA|              1|          PREFEITURA|        1998|             1|PREFEITURA MUNICI...|               4|EXMO.|            SR.|VICE-PREFEITO NO ...|                  1|     ANTONIO GRANADO|   M|   01/01/1997|31/12/2000|\n",
      "|            240|          ADAMANTINA|              1|          PREFEITURA|        1998|             1|PREFEITURA MUNICI...|              10|EXMO.|            SR.|INTEGRANTE NO EXE...|                  1| VALTER PAULO BARROS|   M|         null|      null|\n",
      "|            240|          ADAMANTINA|              1|          PREFEITURA|        1998|             1|PREFEITURA MUNICI...|              10|EXMA.|           SRA.|INTEGRANTE NO EXE...|                  2|TATIANA APARECIDA...|   F|         null|      null|\n",
      "|            240|          ADAMANTINA|              1|          PREFEITURA|        1998|             1|PREFEITURA MUNICI...|               2|EXMO.|            SR.|PREFEITO NO EXERC...|                  1|  JOSÉ LAÉRCIO ROSSI|   M|   01/01/1997|31/12/2000|\n",
      "|            240|          ADAMANTINA|              1|          PREFEITURA|        1998|             1|PREFEITURA MUNICI...|               7|EXMO.|            SR.|PRESIDENTE ATUAL ...|                  1| VALTER PAULO BARROS|   M|   06/04/1999|06/04/2000|\n",
      "|            240|          ADAMANTINA|              2|              CAMARA|        1998|             1|CÂMARA MUNICIPAL ...|              10|EXMO.|            SR.|INTEGRANTE NO EXE...|                  2|SINVAL ROSA DE OL...|   M|         null|      null|\n",
      "|            240|          ADAMANTINA|              2|              CAMARA|        1998|             1|CÂMARA MUNICIPAL ...|              11|EXMO.|            SR.|PRESIDENTE ATUAL ...|                  1|DINIZ PARÚSSOLO M...|   M|   01/01/1999|31/12/2000|\n",
      "|            240|          ADAMANTINA|              2|              CAMARA|        1998|             1|CÂMARA MUNICIPAL ...|              15|EXMO.|            SR.|PRESIDENTE NO EXE...|                  1|DINIZ PARÚSSOLO M...|   M|   01/01/1997|31/12/1998|\n",
      "|            240|          ADAMANTINA|              2|              CAMARA|        1998|             1|CÂMARA MUNICIPAL ...|              16|EXMO.|            SR.|VICE-PRESIDENTE N...|                  1|    OSWALDO FIORILLO|   M|         null|      null|\n",
      "|            240|          ADAMANTINA|              2|              CAMARA|        1998|             1|CÂMARA MUNICIPAL ...|               7|EXMO.|            SR.|PRESIDENTE ATUAL ...|                  1|ROBERTO HIROSHI N...|   M|   10/03/1999|31/12/2000|\n",
      "|            240|          ADAMANTINA|              2|              CAMARA|        1998|             1|CÂMARA MUNICIPAL ...|               8|EXMA.|           SRA.|INTEGRANTE ATUAL ...|                  2|SHIRLEI DUARTE CA...|   F|         null|      null|\n",
      "|            240|          ADAMANTINA|              2|              CAMARA|        1998|             1|CÂMARA MUNICIPAL ...|               9|EXMO.|            SR.|PRESIDENTE NO EXE...|                  1|FERNANDO CHAGAS F...|   M|   01/01/1997|31/12/1998|\n",
      "|            240|          ADAMANTINA|              2|              CAMARA|        1998|             1|CÂMARA MUNICIPAL ...|              10|EXMO.|            SR.|INTEGRANTE NO EXE...|                  1| LINO TRAVISI JUNIOR|   M|         null|      null|\n",
      "+---------------+--------------------+---------------+--------------------+------------+--------------+--------------------+----------------+-----+---------------+--------------------+-------------------+--------------------+----+-------------+----------+\n",
      "only showing top 20 rows\n",
      "\n"
     ]
    }
   ],
   "source": [
    "auditoria_df.show()"
   ]
  },
  {
   "cell_type": "code",
   "execution_count": 6,
   "metadata": {},
   "outputs": [
    {
     "name": "stdout",
     "output_type": "stream",
     "text": [
      "root\n",
      " |-- CodigoMunicipio: string (nullable = true)\n",
      " |-- NomeMunicipio: string (nullable = true)\n",
      " |-- CodigoTipoOrgao: string (nullable = true)\n",
      " |-- NomeTipoOrgao: string (nullable = true)\n",
      " |-- AnoExercicio: string (nullable = true)\n",
      " |-- SequenciaOrgao: string (nullable = true)\n",
      " |-- NomeOrgao: string (nullable = true)\n",
      " |-- CodigoAutoridade: string (nullable = true)\n",
      " |-- Trata: string (nullable = true)\n",
      " |-- mentoAutoridade: string (nullable = true)\n",
      " |-- CargoAutoridade: string (nullable = true)\n",
      " |-- SequenciaAutoridade: string (nullable = true)\n",
      " |-- Nome: string (nullable = true)\n",
      " |-- Sexo: string (nullable = true)\n",
      " |-- InicioMandato: string (nullable = true)\n",
      " |-- FimMandato: string (nullable = true)\n",
      "\n"
     ]
    }
   ],
   "source": [
    "auditoria_df.printSchema()"
   ]
  },
  {
   "cell_type": "code",
   "execution_count": 7,
   "metadata": {},
   "outputs": [],
   "source": [
    "from pyspark.sql import functions as F"
   ]
  },
  {
   "cell_type": "code",
   "execution_count": 8,
   "metadata": {},
   "outputs": [],
   "source": [
    "auditoria_df_01 = auditoria_df.select(F.col('CodigoMunicipio').cast('int')  \n",
    "                                     ,F.col('NomeMunicipio')\n",
    "                                     ,F.col('CodigoTipoOrgao').cast('int')   \n",
    "                                     ,F.col('NomeTipoOrgao') \n",
    "                                     ,F.col('AnoExercicio').cast('int') \n",
    "                                     ,F.col('SequenciaOrgao').cast('int') \n",
    "                                     ,F.col('NomeOrgao') \n",
    "                                     ,F.col('CodigoAutoridade').cast('int')\n",
    "                                     ,F.col('Trata') \n",
    "                                     ,F.col('mentoAutoridade') \n",
    "                                     ,F.col('CargoAutoridade') \n",
    "                                     ,F.col('SequenciaAutoridade').cast('int') \n",
    "                                     ,F.col('Nome') \n",
    "                                     ,F.col('Sexo') \n",
    "                                     ,F.to_date('InicioMandato', 'dd/MM/yyyy').alias('InicioMandato')\n",
    "                                     ,F.to_date('FimMandato', 'dd/MM/yyyy').alias('FimMandato'))        "
   ]
  },
  {
   "cell_type": "code",
   "execution_count": 9,
   "metadata": {},
   "outputs": [
    {
     "name": "stdout",
     "output_type": "stream",
     "text": [
      "root\n",
      " |-- CodigoMunicipio: integer (nullable = true)\n",
      " |-- NomeMunicipio: string (nullable = true)\n",
      " |-- CodigoTipoOrgao: integer (nullable = true)\n",
      " |-- NomeTipoOrgao: string (nullable = true)\n",
      " |-- AnoExercicio: integer (nullable = true)\n",
      " |-- SequenciaOrgao: integer (nullable = true)\n",
      " |-- NomeOrgao: string (nullable = true)\n",
      " |-- CodigoAutoridade: integer (nullable = true)\n",
      " |-- Trata: string (nullable = true)\n",
      " |-- mentoAutoridade: string (nullable = true)\n",
      " |-- CargoAutoridade: string (nullable = true)\n",
      " |-- SequenciaAutoridade: integer (nullable = true)\n",
      " |-- Nome: string (nullable = true)\n",
      " |-- Sexo: string (nullable = true)\n",
      " |-- InicioMandato: date (nullable = true)\n",
      " |-- FimMandato: date (nullable = true)\n",
      "\n"
     ]
    }
   ],
   "source": [
    "auditoria_df_01.printSchema()"
   ]
  },
  {
   "cell_type": "code",
   "execution_count": 10,
   "metadata": {},
   "outputs": [
    {
     "name": "stderr",
     "output_type": "stream",
     "text": [
      "                                                                                \r"
     ]
    }
   ],
   "source": [
    "auditoria_df_01.write.parquet(path= \"s3://silver/auditoria_municipal/\", mode=\"overwrite\", partitionBy=\"AnoExercicio\")"
   ]
  },
  {
   "attachments": {},
   "cell_type": "markdown",
   "metadata": {},
   "source": [
    "DESPESAS"
   ]
  },
  {
   "cell_type": "code",
   "execution_count": 11,
   "metadata": {},
   "outputs": [],
   "source": [
    "despesas_df = (spark.read.option(\"delimiter\", \";\") \n",
    "                         .option(\"header\", True) \n",
    "                         .option('encoding', 'ISO-8859-1') \n",
    "                         .csv(\"s3://bronze/despesas/despesas-2023.csv\"))"
   ]
  },
  {
   "cell_type": "code",
   "execution_count": 12,
   "metadata": {},
   "outputs": [
    {
     "name": "stdout",
     "output_type": "stream",
     "text": [
      "+------------------+-------------+------------+---------------------+--------------------+--------------+---------------+----------+----------+------------------------+------------------------+--------------------+------------------+----------+------------------+--------------------+-----------+--------------------+-------+--------------------+----------------+--------------------+--------------------+--------------------+--------------------+\n",
      "|id_despesa_detalhe|ano_exercicio|ds_municipio|codigo_municipio_ibge|            ds_orgao|mes_referencia|mes_ref_extenso|tp_despesa|nr_empenho|tp_identificador_despesa|nr_identificador_despesa|          ds_despesa|dt_emissao_despesa|vl_despesa| ds_funcao_governo|ds_subfuncao_governo|cd_programa|         ds_programa|cd_acao|             ds_acao|ds_fonte_recurso|ds_cd_aplicacao_fixo|   ds_modalidade_lic|         ds_elemento|   historico_despesa|\n",
      "+------------------+-------------+------------+---------------------+--------------------+--------------+---------------+----------+----------+------------------------+------------------------+--------------------+------------------+----------+------------------+--------------------+-----------+--------------------+-------+--------------------+----------------+--------------------+--------------------+--------------------+--------------------+\n",
      "|         575343425|         2023|Bady Bassitt|              3504602|CÂMARA MUNICIPAL ...|             1|        Janeiro| Empenhado|   27-2023|    CNPJ - PESSOA JUR...|          51857878000189|CAMARA MUNICIPAL ...|        19/01/2023|   3312,86|       LEGISLATIVA|    AÇÃO LEGISLATIVA|          1|Gestao em Acoes P...|   2003|Operacao e Manut ...|         TESOURO|        0110 - GERAL|OUTROS/NÃO APLICÁVEL|31901199 - OUTRAS...|Referente a venci...|\n",
      "|         575343426|         2023|Bady Bassitt|              3504602|CÂMARA MUNICIPAL ...|             1|        Janeiro| Empenhado|    7-2023|    CNPJ - PESSOA JUR...|          04740876000125|          ALELO S.A.|        02/01/2023|  38400,00|       LEGISLATIVA|    AÇÃO LEGISLATIVA|          1|Gestao em Acoes P...|   2003|Operacao e Manut ...|         TESOURO|        0110 - GERAL|             CONVITE|33904601 - INDENI...|Referente a impla...|\n",
      "|         575343842|         2023|Bady Bassitt|              3504602|CÂMARA MUNICIPAL ...|             1|        Janeiro| Empenhado|   11-2023|    CNPJ - PESSOA JUR...|          37145063000146|ALEGRIA COMERCIO ...|        02/01/2023|    450,00|       LEGISLATIVA|    AÇÃO LEGISLATIVA|          1|Gestao em Acoes P...|   2003|Operacao e Manut ...|         TESOURO|        0110 - GERAL|DISPENSA DE LICIT...|33903912 - LOCAÇÃ...|Referente a locac...|\n",
      "|         575343843|         2023|Bady Bassitt|              3504602|CÂMARA MUNICIPAL ...|             1|        Janeiro| Empenhado|   34-2023|    CNPJ - PESSOA JUR...|          51857878000189|CAMARA MUNICIPAL ...|        19/01/2023|    495,35|       LEGISLATIVA|    AÇÃO LEGISLATIVA|          1|Gestao em Acoes P...|   2003|Operacao e Manut ...|         TESOURO|        0110 - GERAL|OUTROS/NÃO APLICÁVEL|31901133 - GRATIF...|Referente a venci...|\n",
      "|         575344128|         2023|Bady Bassitt|              3504602|CÂMARA MUNICIPAL ...|             1|        Janeiro| Empenhado|   19-2023|           PESSOA FÍSICA|                  683988| LUCAS TAVARES SIMAO|        19/01/2023|   1257,44|       LEGISLATIVA|    AÇÃO LEGISLATIVA|          1|Gestao em Acoes P...|   2003|Operacao e Manut ...|         TESOURO|        0110 - GERAL|OUTROS/NÃO APLICÁVEL|31901133 - GRATIF...|Referente rescisa...|\n",
      "|         575344129|         2023|Bady Bassitt|              3504602|CÂMARA MUNICIPAL ...|             1|        Janeiro| Empenhado|   41-2023|    CNPJ - PESSOA JUR...|          10366515000163|MARIA APARECIDA N...|        23/01/2023|    671,50|       LEGISLATIVA|    AÇÃO LEGISLATIVA|          1|Gestao em Acoes P...|   2003|Operacao e Manut ...|         TESOURO|        0110 - GERAL|DISPENSA DE LICIT...|33903016 - MATERI...|Referente ao forn...|\n",
      "|         575344927|         2023|Bady Bassitt|              3504602|CÂMARA MUNICIPAL ...|             1|        Janeiro| Empenhado|   29-2023|    CNPJ - PESSOA JUR...|          51857878000189|CAMARA MUNICIPAL ...|        19/01/2023|    660,48|       LEGISLATIVA|    AÇÃO LEGISLATIVA|          1|Gestao em Acoes P...|   2003|Operacao e Manut ...|         TESOURO|        0110 - GERAL|OUTROS/NÃO APLICÁVEL|31901133 - GRATIF...|Referente a venci...|\n",
      "|         575344928|         2023|Bady Bassitt|              3504602|CÂMARA MUNICIPAL ...|             1|        Janeiro| Empenhado|    9-2023|    CNPJ - PESSOA JUR...|          51962678000196|FUNDACAO PARA O V...|        02/01/2023| 111863,10|       LEGISLATIVA|    AÇÃO LEGISLATIVA|          1|Gestao em Acoes P...|   2003|Operacao e Manut ...|         TESOURO|        0110 - GERAL|DISPENSA DE LICIT...|33903905 - SERVIÇ...|Referente a servi...|\n",
      "|         575345344|         2023|Bady Bassitt|              3504602|CÂMARA MUNICIPAL ...|             1|        Janeiro| Empenhado|   13-2023|    CNPJ - PESSOA JUR...|          17358997000159|JOSE EDUARDO BERT...|        13/01/2023|   2000,00|       LEGISLATIVA|    AÇÃO LEGISLATIVA|          1|Gestao em Acoes P...|   2003|Operacao e Manut ...|         TESOURO|        0110 - GERAL|DISPENSA DE LICIT...|33903905 - SERVIÇ...|Referente servico...|\n",
      "|         575345345|         2023|Bady Bassitt|              3504602|CÂMARA MUNICIPAL ...|             1|        Janeiro| Empenhado|   36-2023|    CNPJ - PESSOA JUR...|          15271502000124|FUNDO MUNICIPAL D...|        19/01/2023|   1359,72|PREVIDÊNCIA SOCIAL|PREVIDÊNCIA DO RE...|          1|Gestao em Acoes P...|   2003|Operacao e Manut ...|         TESOURO|        0110 - GERAL|OUTROS/NÃO APLICÁVEL|31911308 - CONTRI...|Referente recolhi...|\n",
      "|         575345630|         2023|Bady Bassitt|              3504602|CÂMARA MUNICIPAL ...|             1|        Janeiro| Empenhado|   20-2023|           PESSOA FÍSICA|                  683988| LUCAS TAVARES SIMAO|        19/01/2023|   5918,87|       LEGISLATIVA|    AÇÃO LEGISLATIVA|          1|Gestao em Acoes P...|   2003|Operacao e Manut ...|         TESOURO|        0110 - GERAL|OUTROS/NÃO APLICÁVEL|31901142 - FÉRIAS...|Referente rescisa...|\n",
      "|         575345631|         2023|Bady Bassitt|              3504602|CÂMARA MUNICIPAL ...|             1|        Janeiro| Empenhado|   44-2023|    CNPJ - PESSOA JUR...|          17358997000159|JOSE EDUARDO BERT...|        26/01/2023|    120,00|       LEGISLATIVA|    AÇÃO LEGISLATIVA|          1|Gestao em Acoes P...|   2003|Operacao e Manut ...|         TESOURO|        0110 - GERAL|DISPENSA DE LICIT...|33903917 - MANUTE...|Referente consert...|\n",
      "|         575346430|         2023|Bady Bassitt|              3504602|CÂMARA MUNICIPAL ...|             1|        Janeiro| Empenhado|   30-2023|    CNPJ - PESSOA JUR...|          51857878000189|CAMARA MUNICIPAL ...|        19/01/2023|    990,70|       LEGISLATIVA|    AÇÃO LEGISLATIVA|          1|Gestao em Acoes P...|   2003|Operacao e Manut ...|         TESOURO|        0110 - GERAL|OUTROS/NÃO APLICÁVEL|31901133 - GRATIF...|Referente a venci...|\n",
      "|         575346431|         2023|Bady Bassitt|              3504602|CÂMARA MUNICIPAL ...|             1|        Janeiro| Empenhado|   42-2023|    CNPJ - PESSOA JUR...|          29979036000140|INSTITUTO NACIONA...|        26/01/2023|   4196,19|PREVIDÊNCIA SOCIAL|  PREVIDÊNCIA BÁSICA|          1|Gestao em Acoes P...|   2002|Operacao e Manut ...|         TESOURO|        0110 - GERAL|OUTROS/NÃO APLICÁVEL|31901302 - CONTRI...|Recolhimento ao I...|\n",
      "|         575346847|         2023|Bady Bassitt|              3504602|CÂMARA MUNICIPAL ...|             1|        Janeiro| Empenhado|   15-2023|    CNPJ - PESSOA JUR...|          06090241000155|EDITORA D HOJE IN...|        13/01/2023|    746,85|       LEGISLATIVA|    AÇÃO LEGISLATIVA|          1|Gestao em Acoes P...|   2003|Operacao e Manut ...|         TESOURO|        0110 - GERAL|DISPENSA DE LICIT...|33903990 - SERVIÇ...|Referente a servi...|\n",
      "|         575346848|         2023|Bady Bassitt|              3504602|CÂMARA MUNICIPAL ...|             1|        Janeiro| Empenhado|   38-2023|    CNPJ - PESSOA JUR...|          27177659000174|EDNA MARIA BILIAT...|        19/01/2023|   3550,00|       LEGISLATIVA|    AÇÃO LEGISLATIVA|          1|Gestao em Acoes P...|   2003|Operacao e Manut ...|         TESOURO|        0110 - GERAL|DISPENSA DE LICIT...|33903978 - LIMPEZ...|Referente a servi...|\n",
      "|         575347133|         2023|Bady Bassitt|              3504602|CÂMARA MUNICIPAL ...|             1|        Janeiro| Empenhado|   22-2023|    CNPJ - PESSOA JUR...|          46231165000175|MARISILDA VIUDES ...|        19/01/2023|    435,00|       LEGISLATIVA|    AÇÃO LEGISLATIVA|          1|Gestao em Acoes P...|   2003|Operacao e Manut ...|         TESOURO|        0110 - GERAL|DISPENSA DE LICIT...|33903917 - MANUTE...|Referente servico...|\n",
      "|         575347134|         2023|Bady Bassitt|              3504602|CÂMARA MUNICIPAL ...|             1|        Janeiro| Empenhado|   46-2023|    CNPJ - PESSOA JUR...|          63890172000106|J.L.E. CONTABILID...|        27/01/2023|   9480,32|       LEGISLATIVA|    AÇÃO LEGISLATIVA|          1|Gestao em Acoes P...|   2003|Operacao e Manut ...|         TESOURO|        0110 - GERAL|             CONVITE|33903905 - SERVIÇ...|Referente servico...|\n",
      "|         575347932|         2023|Bady Bassitt|              3504602|CÂMARA MUNICIPAL ...|             1|        Janeiro| Empenhado|    1-2023|    CNPJ - PESSOA JUR...|          01704233000138|FIORILLI SOFTWARE...|        02/01/2023|  22680,00|       LEGISLATIVA|    AÇÃO LEGISLATIVA|          1|Gestao em Acoes P...|   2003|Operacao e Manut ...|         TESOURO|        0110 - GERAL|    TOMADA DE PREÇOS|33904016 - LOCAÇÃ...|Referente locacao...|\n",
      "|         575347933|         2023|Bady Bassitt|              3504602|CÂMARA MUNICIPAL ...|             1|        Janeiro| Empenhado|   32-2023|    CNPJ - PESSOA JUR...|          51857878000189|CAMARA MUNICIPAL ...|        19/01/2023|   5454,00|       LEGISLATIVA|    AÇÃO LEGISLATIVA|          1|Gestao em Acoes P...|   2003|Operacao e Manut ...|         TESOURO|        0110 - GERAL|OUTROS/NÃO APLICÁVEL|31901101 - VENCIM...|Referente a venci...|\n",
      "+------------------+-------------+------------+---------------------+--------------------+--------------+---------------+----------+----------+------------------------+------------------------+--------------------+------------------+----------+------------------+--------------------+-----------+--------------------+-------+--------------------+----------------+--------------------+--------------------+--------------------+--------------------+\n",
      "only showing top 20 rows\n",
      "\n"
     ]
    }
   ],
   "source": [
    "despesas_df.show()"
   ]
  },
  {
   "cell_type": "code",
   "execution_count": 13,
   "metadata": {},
   "outputs": [
    {
     "name": "stdout",
     "output_type": "stream",
     "text": [
      "root\n",
      " |-- id_despesa_detalhe: string (nullable = true)\n",
      " |-- ano_exercicio: string (nullable = true)\n",
      " |-- ds_municipio: string (nullable = true)\n",
      " |-- codigo_municipio_ibge: string (nullable = true)\n",
      " |-- ds_orgao: string (nullable = true)\n",
      " |-- mes_referencia: string (nullable = true)\n",
      " |-- mes_ref_extenso: string (nullable = true)\n",
      " |-- tp_despesa: string (nullable = true)\n",
      " |-- nr_empenho: string (nullable = true)\n",
      " |-- tp_identificador_despesa: string (nullable = true)\n",
      " |-- nr_identificador_despesa: string (nullable = true)\n",
      " |-- ds_despesa: string (nullable = true)\n",
      " |-- dt_emissao_despesa: string (nullable = true)\n",
      " |-- vl_despesa: string (nullable = true)\n",
      " |-- ds_funcao_governo: string (nullable = true)\n",
      " |-- ds_subfuncao_governo: string (nullable = true)\n",
      " |-- cd_programa: string (nullable = true)\n",
      " |-- ds_programa: string (nullable = true)\n",
      " |-- cd_acao: string (nullable = true)\n",
      " |-- ds_acao: string (nullable = true)\n",
      " |-- ds_fonte_recurso: string (nullable = true)\n",
      " |-- ds_cd_aplicacao_fixo: string (nullable = true)\n",
      " |-- ds_modalidade_lic: string (nullable = true)\n",
      " |-- ds_elemento: string (nullable = true)\n",
      " |-- historico_despesa: string (nullable = true)\n",
      "\n"
     ]
    }
   ],
   "source": [
    "despesas_df.printSchema()"
   ]
  },
  {
   "cell_type": "code",
   "execution_count": 34,
   "metadata": {},
   "outputs": [],
   "source": [
    "despesas_df_01 = despesas_df.select(F.col('id_despesa_detalhe')  \n",
    "                                   ,F.col('ano_exercicio').cast('int') \n",
    "                                   ,F.col('ds_municipio')  \n",
    "                                   ,F.col('codigo_municipio_ibge').cast('int')  \n",
    "                                   ,F.col('ds_orgao')\n",
    "                                   ,F.col('mes_referencia').cast('int') \n",
    "                                   ,F.col('mes_ref_extenso') \n",
    "                                   ,F.col('tp_despesa')\n",
    "                                   ,F.col('nr_empenho') \n",
    "                                   ,F.col('tp_identificador_despesa') \n",
    "                                   ,F.col('nr_identificador_despesa').cast('bigint') \n",
    "                                   ,F.col('ds_despesa')\n",
    "                                   ,F.to_date('dt_emissao_despesa', 'dd/MM/yyyy').alias('dt_emissao_despesa')\n",
    "                                   ,F.regexp_replace(F.col('vl_despesa'), \",\", \".\").cast('decimal(9,2)').alias('vl_despesa') \n",
    "                                   ,F.col('ds_funcao_governo')       \n",
    "                                   ,F.col('ds_subfuncao_governo')       \n",
    "                                   ,F.col('cd_programa').cast('int')        \n",
    "                                   ,F.col('ds_programa')       \n",
    "                                   ,F.col('cd_acao').cast('int')  \n",
    "                                   ,F.col('ds_fonte_recurso')        \n",
    "                                   ,F.col('ds_cd_aplicacao_fixo')        \n",
    "                                   ,F.col('ds_modalidade_lic')        \n",
    "                                   ,F.col('ds_elemento')        \n",
    "                                   ,F.col('historico_despesa'))"
   ]
  },
  {
   "cell_type": "code",
   "execution_count": 35,
   "metadata": {},
   "outputs": [
    {
     "name": "stdout",
     "output_type": "stream",
     "text": [
      "root\n",
      " |-- id_despesa_detalhe: string (nullable = true)\n",
      " |-- ano_exercicio: integer (nullable = true)\n",
      " |-- ds_municipio: string (nullable = true)\n",
      " |-- codigo_municipio_ibge: integer (nullable = true)\n",
      " |-- ds_orgao: string (nullable = true)\n",
      " |-- mes_referencia: integer (nullable = true)\n",
      " |-- mes_ref_extenso: string (nullable = true)\n",
      " |-- tp_despesa: string (nullable = true)\n",
      " |-- nr_empenho: string (nullable = true)\n",
      " |-- tp_identificador_despesa: string (nullable = true)\n",
      " |-- nr_identificador_despesa: long (nullable = true)\n",
      " |-- ds_despesa: string (nullable = true)\n",
      " |-- dt_emissao_despesa: date (nullable = true)\n",
      " |-- vl_despesa: decimal(9,2) (nullable = true)\n",
      " |-- ds_funcao_governo: string (nullable = true)\n",
      " |-- ds_subfuncao_governo: string (nullable = true)\n",
      " |-- cd_programa: integer (nullable = true)\n",
      " |-- ds_programa: string (nullable = true)\n",
      " |-- cd_acao: integer (nullable = true)\n",
      " |-- ds_fonte_recurso: string (nullable = true)\n",
      " |-- ds_cd_aplicacao_fixo: string (nullable = true)\n",
      " |-- ds_modalidade_lic: string (nullable = true)\n",
      " |-- ds_elemento: string (nullable = true)\n",
      " |-- historico_despesa: string (nullable = true)\n",
      "\n"
     ]
    }
   ],
   "source": [
    "despesas_df_01.printSchema()"
   ]
  },
  {
   "cell_type": "code",
   "execution_count": 36,
   "metadata": {},
   "outputs": [
    {
     "name": "stdout",
     "output_type": "stream",
     "text": [
      "+------------------+-------------+------------+---------------------+--------------------+--------------+---------------+----------+----------+------------------------+------------------------+--------------------+------------------+----------+------------------+--------------------+-----------+--------------------+-------+----------------+--------------------+--------------------+--------------------+--------------------+\n",
      "|id_despesa_detalhe|ano_exercicio|ds_municipio|codigo_municipio_ibge|            ds_orgao|mes_referencia|mes_ref_extenso|tp_despesa|nr_empenho|tp_identificador_despesa|nr_identificador_despesa|          ds_despesa|dt_emissao_despesa|vl_despesa| ds_funcao_governo|ds_subfuncao_governo|cd_programa|         ds_programa|cd_acao|ds_fonte_recurso|ds_cd_aplicacao_fixo|   ds_modalidade_lic|         ds_elemento|   historico_despesa|\n",
      "+------------------+-------------+------------+---------------------+--------------------+--------------+---------------+----------+----------+------------------------+------------------------+--------------------+------------------+----------+------------------+--------------------+-----------+--------------------+-------+----------------+--------------------+--------------------+--------------------+--------------------+\n",
      "|         575343425|         2023|Bady Bassitt|              3504602|CÂMARA MUNICIPAL ...|             1|        Janeiro| Empenhado|   27-2023|    CNPJ - PESSOA JUR...|          51857878000189|CAMARA MUNICIPAL ...|        2023-01-19|   3312.86|       LEGISLATIVA|    AÇÃO LEGISLATIVA|          1|Gestao em Acoes P...|   2003|         TESOURO|        0110 - GERAL|OUTROS/NÃO APLICÁVEL|31901199 - OUTRAS...|Referente a venci...|\n",
      "|         575343426|         2023|Bady Bassitt|              3504602|CÂMARA MUNICIPAL ...|             1|        Janeiro| Empenhado|    7-2023|    CNPJ - PESSOA JUR...|           4740876000125|          ALELO S.A.|        2023-01-02|  38400.00|       LEGISLATIVA|    AÇÃO LEGISLATIVA|          1|Gestao em Acoes P...|   2003|         TESOURO|        0110 - GERAL|             CONVITE|33904601 - INDENI...|Referente a impla...|\n",
      "|         575343842|         2023|Bady Bassitt|              3504602|CÂMARA MUNICIPAL ...|             1|        Janeiro| Empenhado|   11-2023|    CNPJ - PESSOA JUR...|          37145063000146|ALEGRIA COMERCIO ...|        2023-01-02|    450.00|       LEGISLATIVA|    AÇÃO LEGISLATIVA|          1|Gestao em Acoes P...|   2003|         TESOURO|        0110 - GERAL|DISPENSA DE LICIT...|33903912 - LOCAÇÃ...|Referente a locac...|\n",
      "|         575343843|         2023|Bady Bassitt|              3504602|CÂMARA MUNICIPAL ...|             1|        Janeiro| Empenhado|   34-2023|    CNPJ - PESSOA JUR...|          51857878000189|CAMARA MUNICIPAL ...|        2023-01-19|    495.35|       LEGISLATIVA|    AÇÃO LEGISLATIVA|          1|Gestao em Acoes P...|   2003|         TESOURO|        0110 - GERAL|OUTROS/NÃO APLICÁVEL|31901133 - GRATIF...|Referente a venci...|\n",
      "|         575344128|         2023|Bady Bassitt|              3504602|CÂMARA MUNICIPAL ...|             1|        Janeiro| Empenhado|   19-2023|           PESSOA FÍSICA|                  683988| LUCAS TAVARES SIMAO|        2023-01-19|   1257.44|       LEGISLATIVA|    AÇÃO LEGISLATIVA|          1|Gestao em Acoes P...|   2003|         TESOURO|        0110 - GERAL|OUTROS/NÃO APLICÁVEL|31901133 - GRATIF...|Referente rescisa...|\n",
      "|         575344129|         2023|Bady Bassitt|              3504602|CÂMARA MUNICIPAL ...|             1|        Janeiro| Empenhado|   41-2023|    CNPJ - PESSOA JUR...|          10366515000163|MARIA APARECIDA N...|        2023-01-23|    671.50|       LEGISLATIVA|    AÇÃO LEGISLATIVA|          1|Gestao em Acoes P...|   2003|         TESOURO|        0110 - GERAL|DISPENSA DE LICIT...|33903016 - MATERI...|Referente ao forn...|\n",
      "|         575344927|         2023|Bady Bassitt|              3504602|CÂMARA MUNICIPAL ...|             1|        Janeiro| Empenhado|   29-2023|    CNPJ - PESSOA JUR...|          51857878000189|CAMARA MUNICIPAL ...|        2023-01-19|    660.48|       LEGISLATIVA|    AÇÃO LEGISLATIVA|          1|Gestao em Acoes P...|   2003|         TESOURO|        0110 - GERAL|OUTROS/NÃO APLICÁVEL|31901133 - GRATIF...|Referente a venci...|\n",
      "|         575344928|         2023|Bady Bassitt|              3504602|CÂMARA MUNICIPAL ...|             1|        Janeiro| Empenhado|    9-2023|    CNPJ - PESSOA JUR...|          51962678000196|FUNDACAO PARA O V...|        2023-01-02| 111863.10|       LEGISLATIVA|    AÇÃO LEGISLATIVA|          1|Gestao em Acoes P...|   2003|         TESOURO|        0110 - GERAL|DISPENSA DE LICIT...|33903905 - SERVIÇ...|Referente a servi...|\n",
      "|         575345344|         2023|Bady Bassitt|              3504602|CÂMARA MUNICIPAL ...|             1|        Janeiro| Empenhado|   13-2023|    CNPJ - PESSOA JUR...|          17358997000159|JOSE EDUARDO BERT...|        2023-01-13|   2000.00|       LEGISLATIVA|    AÇÃO LEGISLATIVA|          1|Gestao em Acoes P...|   2003|         TESOURO|        0110 - GERAL|DISPENSA DE LICIT...|33903905 - SERVIÇ...|Referente servico...|\n",
      "|         575345345|         2023|Bady Bassitt|              3504602|CÂMARA MUNICIPAL ...|             1|        Janeiro| Empenhado|   36-2023|    CNPJ - PESSOA JUR...|          15271502000124|FUNDO MUNICIPAL D...|        2023-01-19|   1359.72|PREVIDÊNCIA SOCIAL|PREVIDÊNCIA DO RE...|          1|Gestao em Acoes P...|   2003|         TESOURO|        0110 - GERAL|OUTROS/NÃO APLICÁVEL|31911308 - CONTRI...|Referente recolhi...|\n",
      "|         575345630|         2023|Bady Bassitt|              3504602|CÂMARA MUNICIPAL ...|             1|        Janeiro| Empenhado|   20-2023|           PESSOA FÍSICA|                  683988| LUCAS TAVARES SIMAO|        2023-01-19|   5918.87|       LEGISLATIVA|    AÇÃO LEGISLATIVA|          1|Gestao em Acoes P...|   2003|         TESOURO|        0110 - GERAL|OUTROS/NÃO APLICÁVEL|31901142 - FÉRIAS...|Referente rescisa...|\n",
      "|         575345631|         2023|Bady Bassitt|              3504602|CÂMARA MUNICIPAL ...|             1|        Janeiro| Empenhado|   44-2023|    CNPJ - PESSOA JUR...|          17358997000159|JOSE EDUARDO BERT...|        2023-01-26|    120.00|       LEGISLATIVA|    AÇÃO LEGISLATIVA|          1|Gestao em Acoes P...|   2003|         TESOURO|        0110 - GERAL|DISPENSA DE LICIT...|33903917 - MANUTE...|Referente consert...|\n",
      "|         575346430|         2023|Bady Bassitt|              3504602|CÂMARA MUNICIPAL ...|             1|        Janeiro| Empenhado|   30-2023|    CNPJ - PESSOA JUR...|          51857878000189|CAMARA MUNICIPAL ...|        2023-01-19|    990.70|       LEGISLATIVA|    AÇÃO LEGISLATIVA|          1|Gestao em Acoes P...|   2003|         TESOURO|        0110 - GERAL|OUTROS/NÃO APLICÁVEL|31901133 - GRATIF...|Referente a venci...|\n",
      "|         575346431|         2023|Bady Bassitt|              3504602|CÂMARA MUNICIPAL ...|             1|        Janeiro| Empenhado|   42-2023|    CNPJ - PESSOA JUR...|          29979036000140|INSTITUTO NACIONA...|        2023-01-26|   4196.19|PREVIDÊNCIA SOCIAL|  PREVIDÊNCIA BÁSICA|          1|Gestao em Acoes P...|   2002|         TESOURO|        0110 - GERAL|OUTROS/NÃO APLICÁVEL|31901302 - CONTRI...|Recolhimento ao I...|\n",
      "|         575346847|         2023|Bady Bassitt|              3504602|CÂMARA MUNICIPAL ...|             1|        Janeiro| Empenhado|   15-2023|    CNPJ - PESSOA JUR...|           6090241000155|EDITORA D HOJE IN...|        2023-01-13|    746.85|       LEGISLATIVA|    AÇÃO LEGISLATIVA|          1|Gestao em Acoes P...|   2003|         TESOURO|        0110 - GERAL|DISPENSA DE LICIT...|33903990 - SERVIÇ...|Referente a servi...|\n",
      "|         575346848|         2023|Bady Bassitt|              3504602|CÂMARA MUNICIPAL ...|             1|        Janeiro| Empenhado|   38-2023|    CNPJ - PESSOA JUR...|          27177659000174|EDNA MARIA BILIAT...|        2023-01-19|   3550.00|       LEGISLATIVA|    AÇÃO LEGISLATIVA|          1|Gestao em Acoes P...|   2003|         TESOURO|        0110 - GERAL|DISPENSA DE LICIT...|33903978 - LIMPEZ...|Referente a servi...|\n",
      "|         575347133|         2023|Bady Bassitt|              3504602|CÂMARA MUNICIPAL ...|             1|        Janeiro| Empenhado|   22-2023|    CNPJ - PESSOA JUR...|          46231165000175|MARISILDA VIUDES ...|        2023-01-19|    435.00|       LEGISLATIVA|    AÇÃO LEGISLATIVA|          1|Gestao em Acoes P...|   2003|         TESOURO|        0110 - GERAL|DISPENSA DE LICIT...|33903917 - MANUTE...|Referente servico...|\n",
      "|         575347134|         2023|Bady Bassitt|              3504602|CÂMARA MUNICIPAL ...|             1|        Janeiro| Empenhado|   46-2023|    CNPJ - PESSOA JUR...|          63890172000106|J.L.E. CONTABILID...|        2023-01-27|   9480.32|       LEGISLATIVA|    AÇÃO LEGISLATIVA|          1|Gestao em Acoes P...|   2003|         TESOURO|        0110 - GERAL|             CONVITE|33903905 - SERVIÇ...|Referente servico...|\n",
      "|         575347932|         2023|Bady Bassitt|              3504602|CÂMARA MUNICIPAL ...|             1|        Janeiro| Empenhado|    1-2023|    CNPJ - PESSOA JUR...|           1704233000138|FIORILLI SOFTWARE...|        2023-01-02|  22680.00|       LEGISLATIVA|    AÇÃO LEGISLATIVA|          1|Gestao em Acoes P...|   2003|         TESOURO|        0110 - GERAL|    TOMADA DE PREÇOS|33904016 - LOCAÇÃ...|Referente locacao...|\n",
      "|         575347933|         2023|Bady Bassitt|              3504602|CÂMARA MUNICIPAL ...|             1|        Janeiro| Empenhado|   32-2023|    CNPJ - PESSOA JUR...|          51857878000189|CAMARA MUNICIPAL ...|        2023-01-19|   5454.00|       LEGISLATIVA|    AÇÃO LEGISLATIVA|          1|Gestao em Acoes P...|   2003|         TESOURO|        0110 - GERAL|OUTROS/NÃO APLICÁVEL|31901101 - VENCIM...|Referente a venci...|\n",
      "+------------------+-------------+------------+---------------------+--------------------+--------------+---------------+----------+----------+------------------------+------------------------+--------------------+------------------+----------+------------------+--------------------+-----------+--------------------+-------+----------------+--------------------+--------------------+--------------------+--------------------+\n",
      "only showing top 20 rows\n",
      "\n"
     ]
    }
   ],
   "source": [
    "despesas_df_01.show()"
   ]
  },
  {
   "cell_type": "code",
   "execution_count": 38,
   "metadata": {},
   "outputs": [
    {
     "name": "stderr",
     "output_type": "stream",
     "text": [
      "                                                                                \r"
     ]
    }
   ],
   "source": [
    "despesas_df_01.write.parquet(path= \"s3://silver/despesas/\", mode=\"overwrite\", partitionBy=\"ano_exercicio\")"
   ]
  }
 ],
 "metadata": {
  "kernelspec": {
   "display_name": "workspace-dqq3IVyd",
   "language": "python",
   "name": "python3"
  },
  "language_info": {
   "codemirror_mode": {
    "name": "ipython",
    "version": 3
   },
   "file_extension": ".py",
   "mimetype": "text/x-python",
   "name": "python",
   "nbconvert_exporter": "python",
   "pygments_lexer": "ipython3",
   "version": "3.10.2"
  },
  "orig_nbformat": 4
 },
 "nbformat": 4,
 "nbformat_minor": 2
}
