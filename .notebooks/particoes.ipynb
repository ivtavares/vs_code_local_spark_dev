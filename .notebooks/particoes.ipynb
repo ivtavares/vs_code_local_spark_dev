{
 "cells": [
  {
   "cell_type": "markdown",
   "metadata": {},
   "source": [
    "## Criação da partições de competition"
   ]
  },
  {
   "cell_type": "code",
   "execution_count": 17,
   "metadata": {},
   "outputs": [],
   "source": [
    "from pyspark.sql import SparkSession\n",
    "from pyspark.sql import functions as sf\n",
    "import boto3"
   ]
  },
  {
   "cell_type": "code",
   "execution_count": 2,
   "metadata": {},
   "outputs": [
    {
     "name": "stderr",
     "output_type": "stream",
     "text": [
      "SLF4J: Class path contains multiple SLF4J bindings.\n",
      "SLF4J: Found binding in [jar:file:/home/glue_user/spark/jars/log4j-slf4j-impl-2.17.2.jar!/org/slf4j/impl/StaticLoggerBinder.class]\n",
      "SLF4J: Found binding in [jar:file:/home/glue_user/spark/jars/slf4j-reload4j-1.7.36.jar!/org/slf4j/impl/StaticLoggerBinder.class]\n",
      "SLF4J: Found binding in [jar:file:/home/glue_user/aws-glue-libs/jars/log4j-slf4j-impl-2.17.2.jar!/org/slf4j/impl/StaticLoggerBinder.class]\n",
      "SLF4J: Found binding in [jar:file:/home/glue_user/aws-glue-libs/jars/slf4j-reload4j-1.7.36.jar!/org/slf4j/impl/StaticLoggerBinder.class]\n",
      "SLF4J: See http://www.slf4j.org/codes.html#multiple_bindings for an explanation.\n",
      "SLF4J: Actual binding is of type [org.apache.logging.slf4j.Log4jLoggerFactory]\n",
      "Setting default log level to \"WARN\".\n",
      "To adjust logging level use sc.setLogLevel(newLevel). For SparkR, use setLogLevel(newLevel).\n"
     ]
    }
   ],
   "source": [
    "spark = SparkSession.builder.getOrCreate()"
   ]
  },
  {
   "cell_type": "code",
   "execution_count": 4,
   "metadata": {},
   "outputs": [
    {
     "name": "stderr",
     "output_type": "stream",
     "text": [
      "24/01/05 04:26:50 WARN MetricsConfig: Cannot locate configuration: tried hadoop-metrics2-s3a-file-system.properties,hadoop-metrics2.properties\n",
      "                                                                                \r"
     ]
    }
   ],
   "source": [
    "df_competition = spark.read.option(\"multiline\", \"true\").json(\"s3://sor/football/data/competitions.json\")"
   ]
  },
  {
   "cell_type": "code",
   "execution_count": 79,
   "metadata": {},
   "outputs": [
    {
     "name": "stdout",
     "output_type": "stream",
     "text": [
      "+------------------+--------------+-------------------------+----------------+-----------------+------------+--------------------+-------------------+--------------------+--------------------+---------+-----------+\n",
      "|competition_gender|competition_id|competition_international|competition_name|competition_youth|country_name|     match_available|match_available_360|       match_updated|   match_updated_360|season_id|season_name|\n",
      "+------------------+--------------+-------------------------+----------------+-----------------+------------+--------------------+-------------------+--------------------+--------------------+---------+-----------+\n",
      "|              male|             9|                    false|   1. Bundesliga|            false|     Germany|2023-12-12T07:43:...|               null|2023-12-12T07:43:...|                null|       27|  2015/2016|\n",
      "|              male|            16|                    false|Champions League|            false|      Europe|2023-03-07T12:20:...|               null|2023-03-07T12:20:...|2021-06-13T16:17:...|        4|  2018/2019|\n",
      "|              male|            16|                    false|Champions League|            false|      Europe|2021-01-23T21:55:...|               null|2021-08-27T11:26:...|2021-06-13T16:17:...|        1|  2017/2018|\n",
      "|              male|            16|                    false|Champions League|            false|      Europe|    2020-07-29T05:00|               null|2021-08-27T11:26:...|2021-06-13T16:17:...|        2|  2016/2017|\n",
      "|              male|            16|                    false|Champions League|            false|      Europe|    2020-07-29T05:00|               null|2021-08-27T11:26:...|2021-06-13T16:17:...|       27|  2015/2016|\n",
      "|              male|            16|                    false|Champions League|            false|      Europe|    2020-07-29T05:00|               null|2021-08-27T11:26:...|2021-06-13T16:17:...|       26|  2014/2015|\n",
      "|              male|            16|                    false|Champions League|            false|      Europe|    2020-07-29T05:00|               null|2021-08-27T11:26:...|2021-06-13T16:17:...|       25|  2013/2014|\n",
      "|              male|            16|                    false|Champions League|            false|      Europe|2021-07-10T13:41:...|               null|2021-08-27T11:26:...|2021-06-13T16:17:...|       24|  2012/2013|\n",
      "|              male|            16|                    false|Champions League|            false|      Europe|    2020-07-29T05:00|               null|2021-08-27T11:26:...|2021-06-13T16:17:...|       23|  2011/2012|\n",
      "|              male|            16|                    false|Champions League|            false|      Europe|2022-01-26T21:07:...|               null|2022-01-26T21:07:...|2021-06-13T16:17:...|       22|  2010/2011|\n",
      "|              male|            16|                    false|Champions League|            false|      Europe|2022-11-15T17:26:...|               null|2022-11-15T17:26:...|2021-06-13T16:17:...|       21|  2009/2010|\n",
      "|              male|            16|                    false|Champions League|            false|      Europe|2021-11-07T14:20:...|               null|2021-11-07T14:20:...|2021-06-13T16:17:...|       41|  2008/2009|\n",
      "|              male|            16|                    false|Champions League|            false|      Europe|2021-03-31T04:18:...|               null|2021-03-31T04:18:...|2021-06-13T16:17:...|       39|  2006/2007|\n",
      "|              male|            16|                    false|Champions League|            false|      Europe|2021-04-01T06:18:...|               null|2021-04-01T06:18:...|2021-06-13T16:17:...|       37|  2004/2005|\n",
      "|              male|            16|                    false|Champions League|            false|      Europe|2022-11-24T21:06:...|               null|2022-11-24T21:06:...|2021-06-13T16:17:...|       44|  2003/2004|\n",
      "|              male|            16|                    false|Champions League|            false|      Europe|    2020-07-29T05:00|               null|    2020-07-29T05:00|2021-06-13T16:17:...|       76|  1999/2000|\n",
      "|              male|            16|                    false|Champions League|            false|      Europe|2023-07-06T12:49:...|               null|2023-07-06T12:49:...|                null|      277|  1972/1973|\n",
      "|              male|            16|                    false|Champions League|            false|      Europe|    2020-07-29T05:00|               null|    2020-07-29T05:00|2021-06-13T16:17:...|       71|  1971/1972|\n",
      "|              male|            16|                    false|Champions League|            false|      Europe|2023-11-18T14:44:...|               null|2023-11-18T14:44:...|                null|      276|  1970/1971|\n",
      "|              male|            87|                    false|    Copa del Rey|            false|       Spain|    2020-07-29T05:00|               null|    2020-07-29T05:00|2021-06-13T16:17:...|       84|  1983/1984|\n",
      "+------------------+--------------+-------------------------+----------------+-----------------+------------+--------------------+-------------------+--------------------+--------------------+---------+-----------+\n",
      "only showing top 20 rows\n",
      "\n"
     ]
    },
    {
     "data": {
      "text/plain": [
       "70"
      ]
     },
     "execution_count": 79,
     "metadata": {},
     "output_type": "execute_result"
    }
   ],
   "source": [
    "df_competition.show()\n",
    "df_competition.count()"
   ]
  },
  {
   "cell_type": "code",
   "execution_count": 70,
   "metadata": {},
   "outputs": [
    {
     "data": {
      "text/plain": [
       "45"
      ]
     },
     "execution_count": 70,
     "metadata": {},
     "output_type": "execute_result"
    }
   ],
   "source": [
    "# Selecionar temporadas distintas\n",
    "df_competition.select(\"season_id\").distinct().orderBy(\"season_id\").count()"
   ]
  },
  {
   "cell_type": "code",
   "execution_count": 50,
   "metadata": {},
   "outputs": [
    {
     "name": "stdout",
     "output_type": "stream",
     "text": [
      "[Row(season_id=1), Row(season_id=2), Row(season_id=3), Row(season_id=4), Row(season_id=21), Row(season_id=22), Row(season_id=23), Row(season_id=24), Row(season_id=25), Row(season_id=26), Row(season_id=27), Row(season_id=30), Row(season_id=37), Row(season_id=38), Row(season_id=39), Row(season_id=40), Row(season_id=41), Row(season_id=42), Row(season_id=43), Row(season_id=44), Row(season_id=48), Row(season_id=51), Row(season_id=54), Row(season_id=55), Row(season_id=68), Row(season_id=71), Row(season_id=75), Row(season_id=76), Row(season_id=84), Row(season_id=86), Row(season_id=90), Row(season_id=106), Row(season_id=107), Row(season_id=108), Row(season_id=235), Row(season_id=268), Row(season_id=269), Row(season_id=270), Row(season_id=272), Row(season_id=274), Row(season_id=275), Row(season_id=276), Row(season_id=277), Row(season_id=278), Row(season_id=279)]\n"
     ]
    }
   ],
   "source": [
    "partitions = df_competition.select('season_id').distinct().orderBy(\"season_id\").collect()\n",
    "print(partitions)"
   ]
  },
  {
   "cell_type": "code",
   "execution_count": 62,
   "metadata": {},
   "outputs": [],
   "source": [
    "dataframes = {}\n",
    "for partition in partitions:\n",
    "    partition_value = partition['season_id']\n",
    "    partition_competition = df_competition.filter(df_competition['season_id'] == partition_value)\n",
    "    dataframes[partition_value] = partition_competition"
   ]
  },
  {
   "cell_type": "code",
   "execution_count": 73,
   "metadata": {},
   "outputs": [],
   "source": [
    "# Caminho base no S3\n",
    "base_path = \"s3://landing/\"\n",
    "\n",
    "# Iterar sobre os DataFrames e salvá-los no S3\n",
    "for partition_value, dataframe in dataframes.items():\n",
    "    path = f\"{base_path}/competitions/season={partition_value}\"\n",
    "    dataframe.write.json(path, mode='overwrite')"
   ]
  },
  {
   "cell_type": "code",
   "execution_count": 78,
   "metadata": {},
   "outputs": [
    {
     "name": "stdout",
     "output_type": "stream",
     "text": [
      "+------------------+--------------+-------------------------+--------------------+-----------------+--------------------+--------------------+--------------------+--------------------+--------------------+---------+-----------+------+\n",
      "|competition_gender|competition_id|competition_international|    competition_name|competition_youth|        country_name|     match_available| match_available_360|       match_updated|   match_updated_360|season_id|season_name|season|\n",
      "+------------------+--------------+-------------------------+--------------------+-----------------+--------------------+--------------------+--------------------+--------------------+--------------------+---------+-----------+------+\n",
      "|              male|             9|                    false|       1. Bundesliga|            false|             Germany|2023-12-12T07:43:...|                null|2023-12-12T07:43:...|                null|       27|  2015/2016|    27|\n",
      "|              male|            16|                    false|    Champions League|            false|              Europe|    2020-07-29T05:00|                null|2021-08-27T11:26:...|2021-06-13T16:17:...|       27|  2015/2016|    27|\n",
      "|              male|            11|                    false|             La Liga|            false|               Spain|2023-09-20T17:21:...|                null|2023-09-20T17:21:...|2021-06-13T16:17:...|       27|  2015/2016|    27|\n",
      "|              male|             7|                    false|             Ligue 1|            false|              France|2023-12-13T00:27:...|                null|2023-12-13T00:27:...|                null|       27|  2015/2016|    27|\n",
      "|              male|             2|                    false|      Premier League|            false|             England|2023-11-14T11:25:...|                null|2023-11-14T11:25:...|2021-06-13T16:17:...|       27|  2015/2016|    27|\n",
      "|              male|            12|                    false|             Serie A|            false|               Italy|2023-12-13T17:32:...|                null|2023-12-13T17:32:...|                null|       27|  2015/2016|    27|\n",
      "|              male|            16|                    false|    Champions League|            false|              Europe|2023-03-07T12:20:...|                null|2023-03-07T12:20:...|2021-06-13T16:17:...|        4|  2018/2019|     4|\n",
      "|            female|            37|                    false|FA Women's Super ...|            false|             England|2023-07-24T19:50:...|                null|2023-07-24T19:50:...|2021-06-13T16:17:...|        4|  2018/2019|     4|\n",
      "|              male|            11|                    false|             La Liga|            false|               Spain|2023-11-05T09:50:...|                null|2023-11-05T09:50:...|2021-07-09T14:53:...|        4|  2018/2019|     4|\n",
      "|              male|            44|                    false| Major League Soccer|            false|United States of ...|2023-12-13T04:51:...|2023-12-13T04:53:...|2023-12-13T04:51:...|2023-12-13T04:53:...|      107|       2023|   107|\n",
      "|            female|            72|                     true|   Women's World Cup|            false|       International|2023-12-12T14:06:...|2023-12-12T14:12:...|2023-12-12T14:06:...|2023-12-12T14:12:...|      107|       2023|   107|\n",
      "|              male|            43|                     true|      FIFA World Cup|            false|       International|2023-11-05T04:23:...|2023-11-21T15:37:...|2023-11-05T04:23:...|2023-11-21T15:37:...|      106|       2022|   106|\n",
      "|            female|            53|                     true|   UEFA Women's Euro|            false|              Europe|2023-10-24T03:36:...|2023-10-24T03:37:...|2023-10-24T03:36:...|2023-10-24T03:37:...|      106|       2022|   106|\n",
      "|            female|            37|                    false|FA Women's Super ...|            false|             England|2023-02-25T14:52:...|                null|2023-02-25T14:52:...|2021-06-13T16:17:...|       90|  2020/2021|    90|\n",
      "|              male|            11|                    false|             La Liga|            false|               Spain|2023-11-15T10:25:...|2023-11-15T10:29:...|2023-11-15T10:25:...|2023-11-15T10:29:...|       90|  2020/2021|    90|\n",
      "|              male|          1238|                    false| Indian Super league|            false|               India|2023-03-31T02:14:...|                null|2023-03-31T02:14:...|                null|      108|  2021/2022|   108|\n",
      "|              male|             7|                    false|             Ligue 1|            false|              France|2023-10-17T06:13:...|2023-10-17T06:16:...|2023-10-17T06:13:...|2023-10-17T06:16:...|      108|  2021/2022|   108|\n",
      "|              male|            43|                     true|      FIFA World Cup|            false|       International|2023-07-24T13:09:...|                null|2023-07-24T13:09:...|2021-06-13T16:17:...|        3|       2018|     3|\n",
      "|            female|            49|                    false|                NWSL|            false|United States of ...|2023-07-24T13:01:...|                null|2023-07-24T13:01:...|2021-06-13T16:17:...|        3|       2018|     3|\n",
      "|            female|            37|                    false|FA Women's Super ...|            false|             England|2023-07-25T01:08:...|                null|2023-07-25T01:08:...|2021-06-13T16:17:...|       42|  2019/2020|    42|\n",
      "+------------------+--------------+-------------------------+--------------------+-----------------+--------------------+--------------------+--------------------+--------------------+--------------------+---------+-----------+------+\n",
      "only showing top 20 rows\n",
      "\n"
     ]
    },
    {
     "data": {
      "text/plain": [
       "70"
      ]
     },
     "execution_count": 78,
     "metadata": {},
     "output_type": "execute_result"
    }
   ],
   "source": [
    "read_df = spark.read.json(f\"{base_path}/competitions\")\n",
    "read_df.show()\n",
    "read_df.count()"
   ]
  },
  {
   "cell_type": "markdown",
   "metadata": {},
   "source": [
    "## Criação das partições de Matches"
   ]
  },
  {
   "cell_type": "code",
   "execution_count": 5,
   "metadata": {},
   "outputs": [
    {
     "name": "stderr",
     "output_type": "stream",
     "text": [
      "                                                                                \r"
     ]
    },
    {
     "name": "stdout",
     "output_type": "stream",
     "text": [
      "+----------+--------------------+--------------------+-------------------+----------+--------------------+------------+--------------------+--------------------+----------+--------+------------+----------------+----------+-------------+--------------------+---------------+--------------------+\n",
      "|away_score|           away_team|         competition|  competition_stage|home_score|           home_team|    kick_off|        last_updated|    last_updated_360|match_date|match_id|match_status|match_status_360|match_week|     metadata|             referee|         season|             stadium|\n",
      "+----------+--------------------+--------------------+-------------------+----------+--------------------+------------+--------------------+--------------------+----------+--------+------------+----------------+----------+-------------+--------------------+---------------+--------------------+\n",
      "|         0|{male, null, 28, ...|{2, Premier Leagu...|{1, Regular Season}|         0|{{68, England}, m...|16:00:00.000|2021-10-29T23:44:...|2021-06-12T16:17:...|2016-01-02| 3754058|   available|      processing|        20|{1.1.0, 2, 2}|{{68, England}, 5...|{27, 2015/2016}|{{68, England}, 2...|\n",
      "|         0|{male, null, 41, ...|{2, Premier Leagu...|{1, Regular Season}|         1|{{68, England}, m...|16:00:00.000|2022-12-01T13:09:...|2021-06-13T16:17:...|2015-10-17| 3754245|   available|       scheduled|         9|{1.1.0, 2, 2}|{{68, England}, 4...|{27, 2015/2016}|{{68, England}, 3...|\n",
      "|         1|{male, null, 59, ...|{2, Premier Leagu...|{1, Regular Season}|         1|{{68, England}, m...|18:30:00.000|2020-11-12T23:48:...|2021-06-13T16:17:...|2015-12-19| 3754136|   available|       scheduled|        17|{1.1.0, 2, 2}|{{68, England}, 4...|{27, 2015/2016}|{{68, England}, 4...|\n",
      "|         1|{male, null, 28, ...|{2, Premier Leagu...|{1, Regular Season}|         2|{{68, England}, m...|16:00:00.000|2021-07-07T17:59:...|2021-06-12T16:17:...|2016-04-30| 3754037|   available|      processing|        36|{1.1.0, 2, 2}|{{68, England}, 7...|{27, 2015/2016}|{{68, England}, 1...|\n",
      "|         2|{male, null, 23, ...|{2, Premier Leagu...|{1, Regular Season}|         1|{{68, England}, m...|16:00:00.000|2021-07-25T18:09:...|2021-06-12T16:17:...|2016-02-13| 3754039|   available|      processing|        26|{1.1.0, 2, 2}|{{68, England}, 9...|{27, 2015/2016}|{{68, England}, 3...|\n",
      "|         0|{male, null, 59, ...|{2, Premier Leagu...|{1, Regular Season}|         4|{{68, England}, m...|16:00:00.000|2021-07-09T16:36:...|2021-06-12T16:17:...|2016-05-15| 3754041|   available|      processing|        38|{1.1.0, 2, 2}|{{68, England}, 7...|{27, 2015/2016}|{{68, England}, 3...|\n",
      "|         1|{male, null, 24, ...|{2, Premier Leagu...|{1, Regular Season}|         1|{{68, England}, m...|16:00:00.000|2021-07-08T21:22:...|2021-06-12T16:17:...|2016-05-15| 3754042|   available|      processing|        38|{1.1.0, 2, 2}|{{68, England}, 9...|{27, 2015/2016}|{{68, England}, 3...|\n",
      "|         0|{male, null, 28, ...|{2, Premier Leagu...|{1, Regular Season}|         3|{{68, England}, m...|17:00:00.000|2021-07-02T17:59:...|2021-06-12T16:17:...|2016-03-20| 3754043|   available|      processing|        31|{1.1.0, 2, 2}|{{68, England}, 7...|{27, 2015/2016}|{{68, England}, 9...|\n",
      "|         0|{male, null, 36, ...|{2, Premier Leagu...|{1, Regular Season}|         0|{{68, England}, m...|20:45:00.000|2021-06-30T19:08:...|2021-06-12T16:17:...|2015-12-29| 3754045|   available|      processing|        19|{1.1.0, 2, 2}|{{68, England}, 2...|{27, 2015/2016}|{{68, England}, 2...|\n",
      "|         0|{male, null, 29, ...|{2, Premier Leagu...|{1, Regular Season}|         0|{{68, England}, m...|21:00:00.000|2021-07-09T13:20:...|2021-06-12T16:17:...|2016-04-13| 3754048|   available|      processing|        35|{1.1.0, 2, 2}|{{68, England}, 1...|{27, 2015/2016}|{{68, England}, 3...|\n",
      "|         0|{male, null, 56, ...|{2, Premier Leagu...|{1, Regular Season}|         1|{{68, England}, m...|16:00:00.000|2021-06-29T20:50:...|2021-06-12T16:17:...|2016-02-27| 3754049|   available|      processing|        27|{1.1.0, 2, 2}|{{68, England}, 7...|{27, 2015/2016}|{{68, England}, 2...|\n",
      "|         2|{male, null, 31, ...|{2, Premier Leagu...|{1, Regular Season}|         2|{{68, England}, m...|20:45:00.000|2022-12-01T14:08:...|2021-06-12T16:17:...|2016-03-01| 3754050|   available|      processing|        28|{1.1.0, 2, 2}|{{68, England}, 8...|{27, 2015/2016}|{{68, England}, 2...|\n",
      "|         1|{male, null, 56, ...|{2, Premier Leagu...|{1, Regular Season}|         0|{{68, England}, m...|16:00:00.000|2021-07-06T17:48:...|2021-06-12T16:17:...|2016-03-19| 3754052|   available|      processing|        31|{1.1.0, 2, 2}|{{68, England}, 8...|{27, 2015/2016}|{{68, England}, 3...|\n",
      "|         2|{male, null, 38, ...|{2, Premier Leagu...|{1, Regular Season}|         0|{{68, England}, m...|17:00:00.000|2021-11-04T18:24:...|2021-06-12T16:17:...|2016-03-13| 3754053|   available|      processing|        30|{1.1.0, 2, 2}|{{68, England}, 8...|{27, 2015/2016}|{{68, England}, 2...|\n",
      "|         1|{male, null, 33, ...|{2, Premier Leagu...|{1, Regular Season}|         1|{{68, England}, m...|21:00:00.000|2022-12-01T14:45:...|2021-06-12T16:17:...|2016-05-11| 3754055|   available|      processing|        30|{1.1.0, 2, 2}|{{68, England}, 1...|{27, 2015/2016}|{{68, England}, 6...|\n",
      "|         1|{male, null, 24, ...|{2, Premier Leagu...|{1, Regular Season}|         0|{{68, England}, m...|20:45:00.000|2021-06-28T15:11:...|2021-06-12T16:17:...|2015-12-30| 3754226|   available|      processing|        19|{1.1.0, 2, 2}|{{68, England}, 1...|{27, 2015/2016}|{{68, England}, 2...|\n",
      "|         0|{male, null, 39, ...|{2, Premier Leagu...|{1, Regular Season}|         2|{{68, England}, m...|13:45:00.000|2022-12-01T13:42:...|2021-06-13T16:17:...|2015-12-26| 3754014|   available|       scheduled|        18|{1.1.0, 2, 2}|{{68, England}, 1...|{27, 2015/2016}|{{68, England}, 2...|\n",
      "|         2|{male, null, 23, ...|{2, Premier Leagu...|{1, Regular Season}|         0|{{68, England}, m...|16:00:00.000|2020-10-20T19:53:...|2021-06-13T16:17:...|2015-10-24| 3754091|   available|       scheduled|        10|{1.1.0, 2, 2}|{{68, England}, 4...|{27, 2015/2016}|{{68, England}, 2...|\n",
      "|         0|{male, null, 36, ...|{2, Premier Leagu...|{1, Regular Season}|         2|{{68, England}, m...|13:45:00.000|2020-10-13T17:34:...|2021-06-13T16:17:...|2015-12-05| 3754135|   available|       scheduled|        15|{1.1.0, 2, 2}|{{68, England}, 4...|{27, 2015/2016}|{{68, England}, 2...|\n",
      "|         0|{male, null, 33, ...|{2, Premier Leagu...|{1, Regular Season}|         1|{{68, England}, m...|18:30:00.000|2022-12-01T13:20:...|2021-06-13T16:17:...|2015-11-07| 3754293|   available|       scheduled|        12|{1.1.0, 2, 2}|{{68, England}, 8...|{27, 2015/2016}|{{68, England}, 2...|\n",
      "+----------+--------------------+--------------------+-------------------+----------+--------------------+------------+--------------------+--------------------+----------+--------+------------+----------------+----------+-------------+--------------------+---------------+--------------------+\n",
      "only showing top 20 rows\n",
      "\n"
     ]
    }
   ],
   "source": [
    "df_matches_competition27 = spark.read.option(\"multiline\", \"true\").json(\"s3://sor/football/data/matches/2/27.json\")\n",
    "df_matches_competition27.show()"
   ]
  },
  {
   "cell_type": "code",
   "execution_count": 21,
   "metadata": {},
   "outputs": [
    {
     "ename": "Py4JJavaError",
     "evalue": "An error occurred while calling o142.load.\n: java.lang.ClassNotFoundException: \nFailed to find data source: s3. Please find packages at\nhttps://spark.apache.org/third-party-projects.html\n       \n\tat org.apache.spark.sql.errors.QueryExecutionErrors$.failedToFindDataSourceError(QueryExecutionErrors.scala:574)\n\tat org.apache.spark.sql.execution.datasources.DataSource$.lookupDataSource(DataSource.scala:675)\n\tat org.apache.spark.sql.execution.datasources.DataSource$.lookupDataSourceV2(DataSource.scala:725)\n\tat org.apache.spark.sql.DataFrameReader.load(DataFrameReader.scala:207)\n\tat org.apache.spark.sql.DataFrameReader.load(DataFrameReader.scala:185)\n\tat sun.reflect.NativeMethodAccessorImpl.invoke0(Native Method)\n\tat sun.reflect.NativeMethodAccessorImpl.invoke(NativeMethodAccessorImpl.java:62)\n\tat sun.reflect.DelegatingMethodAccessorImpl.invoke(DelegatingMethodAccessorImpl.java:43)\n\tat java.lang.reflect.Method.invoke(Method.java:498)\n\tat py4j.reflection.MethodInvoker.invoke(MethodInvoker.java:244)\n\tat py4j.reflection.ReflectionEngine.invoke(ReflectionEngine.java:357)\n\tat py4j.Gateway.invoke(Gateway.java:282)\n\tat py4j.commands.AbstractCommand.invokeMethod(AbstractCommand.java:132)\n\tat py4j.commands.CallCommand.execute(CallCommand.java:79)\n\tat py4j.ClientServerConnection.waitForCommands(ClientServerConnection.java:182)\n\tat py4j.ClientServerConnection.run(ClientServerConnection.java:106)\n\tat java.lang.Thread.run(Thread.java:750)\nCaused by: java.lang.ClassNotFoundException: s3.DefaultSource\n\tat java.net.URLClassLoader.findClass(URLClassLoader.java:387)\n\tat java.lang.ClassLoader.loadClass(ClassLoader.java:418)\n\tat java.lang.ClassLoader.loadClass(ClassLoader.java:351)\n\tat org.apache.spark.sql.execution.datasources.DataSource$.$anonfun$lookupDataSource$5(DataSource.scala:661)\n\tat scala.util.Try$.apply(Try.scala:213)\n\tat org.apache.spark.sql.execution.datasources.DataSource$.$anonfun$lookupDataSource$4(DataSource.scala:661)\n\tat scala.util.Failure.orElse(Try.scala:224)\n\tat org.apache.spark.sql.execution.datasources.DataSource$.lookupDataSource(DataSource.scala:661)\n\t... 15 more\n",
     "output_type": "error",
     "traceback": [
      "\u001b[0;31m---------------------------------------------------------------------------\u001b[0m",
      "\u001b[0;31mPy4JJavaError\u001b[0m                             Traceback (most recent call last)",
      "Cell \u001b[0;32mIn[21], line 6\u001b[0m\n\u001b[1;32m      3\u001b[0m bucket_path \u001b[39m=\u001b[39m \u001b[39m\"\u001b[39m\u001b[39ms3://sor/football/data/matches/\u001b[39m\u001b[39m\"\u001b[39m\n\u001b[1;32m      5\u001b[0m \u001b[39m# Lê dados do bucket usando um DataFrame Spark\u001b[39;00m\n\u001b[0;32m----> 6\u001b[0m df_conteudo_bucket \u001b[39m=\u001b[39m spark\u001b[39m.\u001b[39;49mread\u001b[39m.\u001b[39;49mformat(\u001b[39m\"\u001b[39;49m\u001b[39ms3\u001b[39;49m\u001b[39m\"\u001b[39;49m)\u001b[39m.\u001b[39;49moption(\u001b[39m\"\u001b[39;49m\u001b[39mrecursive\u001b[39;49m\u001b[39m\"\u001b[39;49m, \u001b[39m\"\u001b[39;49m\u001b[39mtrue\u001b[39;49m\u001b[39m\"\u001b[39;49m)\u001b[39m.\u001b[39;49mload(bucket_path)\n\u001b[1;32m      8\u001b[0m df_conteudo_bucket\u001b[39m.\u001b[39mshow()\n",
      "File \u001b[0;32m/home/glue_user/spark/python/pyspark/sql/readwriter.py:177\u001b[0m, in \u001b[0;36mDataFrameReader.load\u001b[0;34m(self, path, format, schema, **options)\u001b[0m\n\u001b[1;32m    175\u001b[0m \u001b[39mself\u001b[39m\u001b[39m.\u001b[39moptions(\u001b[39m*\u001b[39m\u001b[39m*\u001b[39moptions)\n\u001b[1;32m    176\u001b[0m \u001b[39mif\u001b[39;00m \u001b[39misinstance\u001b[39m(path, \u001b[39mstr\u001b[39m):\n\u001b[0;32m--> 177\u001b[0m     \u001b[39mreturn\u001b[39;00m \u001b[39mself\u001b[39m\u001b[39m.\u001b[39m_df(\u001b[39mself\u001b[39;49m\u001b[39m.\u001b[39;49m_jreader\u001b[39m.\u001b[39;49mload(path))\n\u001b[1;32m    178\u001b[0m \u001b[39melif\u001b[39;00m path \u001b[39mis\u001b[39;00m \u001b[39mnot\u001b[39;00m \u001b[39mNone\u001b[39;00m:\n\u001b[1;32m    179\u001b[0m     \u001b[39mif\u001b[39;00m \u001b[39mtype\u001b[39m(path) \u001b[39m!=\u001b[39m \u001b[39mlist\u001b[39m:\n",
      "File \u001b[0;32m/home/glue_user/spark/python/lib/py4j-0.10.9.5-src.zip/py4j/java_gateway.py:1321\u001b[0m, in \u001b[0;36mJavaMember.__call__\u001b[0;34m(self, *args)\u001b[0m\n\u001b[1;32m   1315\u001b[0m command \u001b[39m=\u001b[39m proto\u001b[39m.\u001b[39mCALL_COMMAND_NAME \u001b[39m+\u001b[39m\\\n\u001b[1;32m   1316\u001b[0m     \u001b[39mself\u001b[39m\u001b[39m.\u001b[39mcommand_header \u001b[39m+\u001b[39m\\\n\u001b[1;32m   1317\u001b[0m     args_command \u001b[39m+\u001b[39m\\\n\u001b[1;32m   1318\u001b[0m     proto\u001b[39m.\u001b[39mEND_COMMAND_PART\n\u001b[1;32m   1320\u001b[0m answer \u001b[39m=\u001b[39m \u001b[39mself\u001b[39m\u001b[39m.\u001b[39mgateway_client\u001b[39m.\u001b[39msend_command(command)\n\u001b[0;32m-> 1321\u001b[0m return_value \u001b[39m=\u001b[39m get_return_value(\n\u001b[1;32m   1322\u001b[0m     answer, \u001b[39mself\u001b[39;49m\u001b[39m.\u001b[39;49mgateway_client, \u001b[39mself\u001b[39;49m\u001b[39m.\u001b[39;49mtarget_id, \u001b[39mself\u001b[39;49m\u001b[39m.\u001b[39;49mname)\n\u001b[1;32m   1324\u001b[0m \u001b[39mfor\u001b[39;00m temp_arg \u001b[39min\u001b[39;00m temp_args:\n\u001b[1;32m   1325\u001b[0m     temp_arg\u001b[39m.\u001b[39m_detach()\n",
      "File \u001b[0;32m/home/glue_user/spark/python/pyspark/sql/utils.py:190\u001b[0m, in \u001b[0;36mcapture_sql_exception.<locals>.deco\u001b[0;34m(*a, **kw)\u001b[0m\n\u001b[1;32m    188\u001b[0m \u001b[39mdef\u001b[39;00m \u001b[39mdeco\u001b[39m(\u001b[39m*\u001b[39ma: Any, \u001b[39m*\u001b[39m\u001b[39m*\u001b[39mkw: Any) \u001b[39m-\u001b[39m\u001b[39m>\u001b[39m Any:\n\u001b[1;32m    189\u001b[0m     \u001b[39mtry\u001b[39;00m:\n\u001b[0;32m--> 190\u001b[0m         \u001b[39mreturn\u001b[39;00m f(\u001b[39m*\u001b[39;49ma, \u001b[39m*\u001b[39;49m\u001b[39m*\u001b[39;49mkw)\n\u001b[1;32m    191\u001b[0m     \u001b[39mexcept\u001b[39;00m Py4JJavaError \u001b[39mas\u001b[39;00m e:\n\u001b[1;32m    192\u001b[0m         converted \u001b[39m=\u001b[39m convert_exception(e\u001b[39m.\u001b[39mjava_exception)\n",
      "File \u001b[0;32m/home/glue_user/spark/python/lib/py4j-0.10.9.5-src.zip/py4j/protocol.py:326\u001b[0m, in \u001b[0;36mget_return_value\u001b[0;34m(answer, gateway_client, target_id, name)\u001b[0m\n\u001b[1;32m    324\u001b[0m value \u001b[39m=\u001b[39m OUTPUT_CONVERTER[\u001b[39mtype\u001b[39m](answer[\u001b[39m2\u001b[39m:], gateway_client)\n\u001b[1;32m    325\u001b[0m \u001b[39mif\u001b[39;00m answer[\u001b[39m1\u001b[39m] \u001b[39m==\u001b[39m REFERENCE_TYPE:\n\u001b[0;32m--> 326\u001b[0m     \u001b[39mraise\u001b[39;00m Py4JJavaError(\n\u001b[1;32m    327\u001b[0m         \u001b[39m\"\u001b[39m\u001b[39mAn error occurred while calling \u001b[39m\u001b[39m{0}\u001b[39;00m\u001b[39m{1}\u001b[39;00m\u001b[39m{2}\u001b[39;00m\u001b[39m.\u001b[39m\u001b[39m\\n\u001b[39;00m\u001b[39m\"\u001b[39m\u001b[39m.\u001b[39m\n\u001b[1;32m    328\u001b[0m         \u001b[39mformat\u001b[39m(target_id, \u001b[39m\"\u001b[39m\u001b[39m.\u001b[39m\u001b[39m\"\u001b[39m, name), value)\n\u001b[1;32m    329\u001b[0m \u001b[39melse\u001b[39;00m:\n\u001b[1;32m    330\u001b[0m     \u001b[39mraise\u001b[39;00m Py4JError(\n\u001b[1;32m    331\u001b[0m         \u001b[39m\"\u001b[39m\u001b[39mAn error occurred while calling \u001b[39m\u001b[39m{0}\u001b[39;00m\u001b[39m{1}\u001b[39;00m\u001b[39m{2}\u001b[39;00m\u001b[39m. Trace:\u001b[39m\u001b[39m\\n\u001b[39;00m\u001b[39m{3}\u001b[39;00m\u001b[39m\\n\u001b[39;00m\u001b[39m\"\u001b[39m\u001b[39m.\u001b[39m\n\u001b[1;32m    332\u001b[0m         \u001b[39mformat\u001b[39m(target_id, \u001b[39m\"\u001b[39m\u001b[39m.\u001b[39m\u001b[39m\"\u001b[39m, name, value))\n",
      "\u001b[0;31mPy4JJavaError\u001b[0m: An error occurred while calling o142.load.\n: java.lang.ClassNotFoundException: \nFailed to find data source: s3. Please find packages at\nhttps://spark.apache.org/third-party-projects.html\n       \n\tat org.apache.spark.sql.errors.QueryExecutionErrors$.failedToFindDataSourceError(QueryExecutionErrors.scala:574)\n\tat org.apache.spark.sql.execution.datasources.DataSource$.lookupDataSource(DataSource.scala:675)\n\tat org.apache.spark.sql.execution.datasources.DataSource$.lookupDataSourceV2(DataSource.scala:725)\n\tat org.apache.spark.sql.DataFrameReader.load(DataFrameReader.scala:207)\n\tat org.apache.spark.sql.DataFrameReader.load(DataFrameReader.scala:185)\n\tat sun.reflect.NativeMethodAccessorImpl.invoke0(Native Method)\n\tat sun.reflect.NativeMethodAccessorImpl.invoke(NativeMethodAccessorImpl.java:62)\n\tat sun.reflect.DelegatingMethodAccessorImpl.invoke(DelegatingMethodAccessorImpl.java:43)\n\tat java.lang.reflect.Method.invoke(Method.java:498)\n\tat py4j.reflection.MethodInvoker.invoke(MethodInvoker.java:244)\n\tat py4j.reflection.ReflectionEngine.invoke(ReflectionEngine.java:357)\n\tat py4j.Gateway.invoke(Gateway.java:282)\n\tat py4j.commands.AbstractCommand.invokeMethod(AbstractCommand.java:132)\n\tat py4j.commands.CallCommand.execute(CallCommand.java:79)\n\tat py4j.ClientServerConnection.waitForCommands(ClientServerConnection.java:182)\n\tat py4j.ClientServerConnection.run(ClientServerConnection.java:106)\n\tat java.lang.Thread.run(Thread.java:750)\nCaused by: java.lang.ClassNotFoundException: s3.DefaultSource\n\tat java.net.URLClassLoader.findClass(URLClassLoader.java:387)\n\tat java.lang.ClassLoader.loadClass(ClassLoader.java:418)\n\tat java.lang.ClassLoader.loadClass(ClassLoader.java:351)\n\tat org.apache.spark.sql.execution.datasources.DataSource$.$anonfun$lookupDataSource$5(DataSource.scala:661)\n\tat scala.util.Try$.apply(Try.scala:213)\n\tat org.apache.spark.sql.execution.datasources.DataSource$.$anonfun$lookupDataSource$4(DataSource.scala:661)\n\tat scala.util.Failure.orElse(Try.scala:224)\n\tat org.apache.spark.sql.execution.datasources.DataSource$.lookupDataSource(DataSource.scala:661)\n\t... 15 more\n"
     ]
    }
   ],
   "source": [
    "# Mapear todas as competições dos jogos\n",
    "\n",
    "bucket_path = \"s3://sor/football/data/matches/\"\n",
    "\n",
    "# Lê dados do bucket usando um DataFrame Spark\n",
    "df_conteudo_bucket = spark.read.format(\"s3\").option(\"recursive\", \"true\").load(bucket_path)\n",
    "\n",
    "df_conteudo_bucket.show()\n",
    "\n",
    "\n"
   ]
  },
  {
   "cell_type": "code",
   "execution_count": 6,
   "metadata": {},
   "outputs": [],
   "source": [
    "competition_id = \"2\"\n",
    "\n",
    "colunas_particao = [competition_id, \"season.season_id\"]"
   ]
  },
  {
   "cell_type": "code",
   "execution_count": 7,
   "metadata": {},
   "outputs": [
    {
     "ename": "AnalysisException",
     "evalue": "Partition column `2` not found in schema struct<away_score:bigint,away_team:struct<away_team_gender:string,away_team_group:string,away_team_id:bigint,away_team_name:string,country:struct<id:bigint,name:string>,managers:array<struct<country:struct<id:bigint,name:string>,dob:string,id:bigint,name:string,nickname:string>>>,competition:struct<competition_id:bigint,competition_name:string,country_name:string>,competition_stage:struct<id:bigint,name:string>,home_score:bigint,home_team:struct<country:struct<id:bigint,name:string>,home_team_gender:string,home_team_group:string,home_team_id:bigint,home_team_name:string,managers:array<struct<country:struct<id:bigint,name:string>,dob:string,id:bigint,name:string,nickname:string>>>,kick_off:string,last_updated:string,last_updated_360:string,match_date:string,match_id:bigint,match_status:string,match_status_360:string,match_week:bigint,metadata:struct<data_version:string,shot_fidelity_version:string,xy_fidelity_version:string>,referee:struct<country:struct<id:bigint,name:string>,id:bigint,name:string>,season:struct<season_id:bigint,season_name:string>,stadium:struct<country:struct<id:bigint,name:string>,id:bigint,name:string>>",
     "output_type": "error",
     "traceback": [
      "\u001b[0;31m---------------------------------------------------------------------------\u001b[0m",
      "\u001b[0;31mAnalysisException\u001b[0m                         Traceback (most recent call last)",
      "Cell \u001b[0;32mIn[7], line 5\u001b[0m\n\u001b[1;32m      1\u001b[0m base_path \u001b[39m=\u001b[39m \u001b[39m\"\u001b[39m\u001b[39ms3://landing/\u001b[39m\u001b[39m\"\u001b[39m\n\u001b[1;32m      3\u001b[0m df_matches_competition27\u001b[39m.\u001b[39;49mwrite \\\n\u001b[1;32m      4\u001b[0m     \u001b[39m.\u001b[39;49mpartitionBy(\u001b[39m*\u001b[39;49mcolunas_particao) \\\n\u001b[0;32m----> 5\u001b[0m     \u001b[39m.\u001b[39;49mjson(\u001b[39mf\u001b[39;49m\u001b[39m\"\u001b[39;49m\u001b[39m{\u001b[39;49;00mbase_path\u001b[39m}\u001b[39;49;00m\u001b[39m/matches/\u001b[39;49m\u001b[39m{\u001b[39;49;00mcompetition_id\u001b[39m}\u001b[39;49;00m\u001b[39m/27.json\u001b[39;49m\u001b[39m\"\u001b[39;49m)\n",
      "File \u001b[0;32m/home/glue_user/spark/python/pyspark/sql/readwriter.py:1095\u001b[0m, in \u001b[0;36mDataFrameWriter.json\u001b[0;34m(self, path, mode, compression, dateFormat, timestampFormat, lineSep, encoding, ignoreNullFields)\u001b[0m\n\u001b[1;32m   1086\u001b[0m \u001b[39mself\u001b[39m\u001b[39m.\u001b[39mmode(mode)\n\u001b[1;32m   1087\u001b[0m \u001b[39mself\u001b[39m\u001b[39m.\u001b[39m_set_opts(\n\u001b[1;32m   1088\u001b[0m     compression\u001b[39m=\u001b[39mcompression,\n\u001b[1;32m   1089\u001b[0m     dateFormat\u001b[39m=\u001b[39mdateFormat,\n\u001b[0;32m   (...)\u001b[0m\n\u001b[1;32m   1093\u001b[0m     ignoreNullFields\u001b[39m=\u001b[39mignoreNullFields,\n\u001b[1;32m   1094\u001b[0m )\n\u001b[0;32m-> 1095\u001b[0m \u001b[39mself\u001b[39;49m\u001b[39m.\u001b[39;49m_jwrite\u001b[39m.\u001b[39;49mjson(path)\n",
      "File \u001b[0;32m/home/glue_user/spark/python/lib/py4j-0.10.9.5-src.zip/py4j/java_gateway.py:1321\u001b[0m, in \u001b[0;36mJavaMember.__call__\u001b[0;34m(self, *args)\u001b[0m\n\u001b[1;32m   1315\u001b[0m command \u001b[39m=\u001b[39m proto\u001b[39m.\u001b[39mCALL_COMMAND_NAME \u001b[39m+\u001b[39m\\\n\u001b[1;32m   1316\u001b[0m     \u001b[39mself\u001b[39m\u001b[39m.\u001b[39mcommand_header \u001b[39m+\u001b[39m\\\n\u001b[1;32m   1317\u001b[0m     args_command \u001b[39m+\u001b[39m\\\n\u001b[1;32m   1318\u001b[0m     proto\u001b[39m.\u001b[39mEND_COMMAND_PART\n\u001b[1;32m   1320\u001b[0m answer \u001b[39m=\u001b[39m \u001b[39mself\u001b[39m\u001b[39m.\u001b[39mgateway_client\u001b[39m.\u001b[39msend_command(command)\n\u001b[0;32m-> 1321\u001b[0m return_value \u001b[39m=\u001b[39m get_return_value(\n\u001b[1;32m   1322\u001b[0m     answer, \u001b[39mself\u001b[39;49m\u001b[39m.\u001b[39;49mgateway_client, \u001b[39mself\u001b[39;49m\u001b[39m.\u001b[39;49mtarget_id, \u001b[39mself\u001b[39;49m\u001b[39m.\u001b[39;49mname)\n\u001b[1;32m   1324\u001b[0m \u001b[39mfor\u001b[39;00m temp_arg \u001b[39min\u001b[39;00m temp_args:\n\u001b[1;32m   1325\u001b[0m     temp_arg\u001b[39m.\u001b[39m_detach()\n",
      "File \u001b[0;32m/home/glue_user/spark/python/pyspark/sql/utils.py:196\u001b[0m, in \u001b[0;36mcapture_sql_exception.<locals>.deco\u001b[0;34m(*a, **kw)\u001b[0m\n\u001b[1;32m    192\u001b[0m converted \u001b[39m=\u001b[39m convert_exception(e\u001b[39m.\u001b[39mjava_exception)\n\u001b[1;32m    193\u001b[0m \u001b[39mif\u001b[39;00m \u001b[39mnot\u001b[39;00m \u001b[39misinstance\u001b[39m(converted, UnknownException):\n\u001b[1;32m    194\u001b[0m     \u001b[39m# Hide where the exception came from that shows a non-Pythonic\u001b[39;00m\n\u001b[1;32m    195\u001b[0m     \u001b[39m# JVM exception message.\u001b[39;00m\n\u001b[0;32m--> 196\u001b[0m     \u001b[39mraise\u001b[39;00m converted \u001b[39mfrom\u001b[39;00m \u001b[39mNone\u001b[39;00m\n\u001b[1;32m    197\u001b[0m \u001b[39melse\u001b[39;00m:\n\u001b[1;32m    198\u001b[0m     \u001b[39mraise\u001b[39;00m\n",
      "\u001b[0;31mAnalysisException\u001b[0m: Partition column `2` not found in schema struct<away_score:bigint,away_team:struct<away_team_gender:string,away_team_group:string,away_team_id:bigint,away_team_name:string,country:struct<id:bigint,name:string>,managers:array<struct<country:struct<id:bigint,name:string>,dob:string,id:bigint,name:string,nickname:string>>>,competition:struct<competition_id:bigint,competition_name:string,country_name:string>,competition_stage:struct<id:bigint,name:string>,home_score:bigint,home_team:struct<country:struct<id:bigint,name:string>,home_team_gender:string,home_team_group:string,home_team_id:bigint,home_team_name:string,managers:array<struct<country:struct<id:bigint,name:string>,dob:string,id:bigint,name:string,nickname:string>>>,kick_off:string,last_updated:string,last_updated_360:string,match_date:string,match_id:bigint,match_status:string,match_status_360:string,match_week:bigint,metadata:struct<data_version:string,shot_fidelity_version:string,xy_fidelity_version:string>,referee:struct<country:struct<id:bigint,name:string>,id:bigint,name:string>,season:struct<season_id:bigint,season_name:string>,stadium:struct<country:struct<id:bigint,name:string>,id:bigint,name:string>>"
     ]
    }
   ],
   "source": [
    "base_path = \"s3://landing/\"\n",
    "\n",
    "df_matches_competition27.write \\\n",
    "    .partitionBy(*colunas_particao) \\\n",
    "    .json(f\"{base_path}/matches/{competition_id}/27.json\")"
   ]
  },
  {
   "cell_type": "code",
   "execution_count": null,
   "metadata": {},
   "outputs": [],
   "source": [
    "# Percorrer todos os jogos de todas as competições"
   ]
  }
 ],
 "metadata": {
  "kernelspec": {
   "display_name": "Python 3",
   "language": "python",
   "name": "python3"
  },
  "language_info": {
   "codemirror_mode": {
    "name": "ipython",
    "version": 3
   },
   "file_extension": ".py",
   "mimetype": "text/x-python",
   "name": "python",
   "nbconvert_exporter": "python",
   "pygments_lexer": "ipython3",
   "version": "3.10.2"
  },
  "orig_nbformat": 4
 },
 "nbformat": 4,
 "nbformat_minor": 2
}
