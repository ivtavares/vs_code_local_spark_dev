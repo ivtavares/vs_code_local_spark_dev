{
 "cells": [
  {
   "cell_type": "markdown",
   "metadata": {},
   "source": [
    "## Criação das partições de competition"
   ]
  },
  {
   "cell_type": "code",
   "execution_count": 1,
   "metadata": {},
   "outputs": [],
   "source": [
    "from pyspark.sql import SparkSession\n",
    "from pyspark.sql import functions as sf"
   ]
  },
  {
   "cell_type": "code",
   "execution_count": 2,
   "metadata": {},
   "outputs": [
    {
     "name": "stderr",
     "output_type": "stream",
     "text": [
      "SLF4J: Class path contains multiple SLF4J bindings.\n",
      "SLF4J: Found binding in [jar:file:/home/glue_user/spark/jars/log4j-slf4j-impl-2.17.2.jar!/org/slf4j/impl/StaticLoggerBinder.class]\n",
      "SLF4J: Found binding in [jar:file:/home/glue_user/spark/jars/slf4j-reload4j-1.7.36.jar!/org/slf4j/impl/StaticLoggerBinder.class]\n",
      "SLF4J: Found binding in [jar:file:/home/glue_user/aws-glue-libs/jars/log4j-slf4j-impl-2.17.2.jar!/org/slf4j/impl/StaticLoggerBinder.class]\n",
      "SLF4J: Found binding in [jar:file:/home/glue_user/aws-glue-libs/jars/slf4j-reload4j-1.7.36.jar!/org/slf4j/impl/StaticLoggerBinder.class]\n",
      "SLF4J: See http://www.slf4j.org/codes.html#multiple_bindings for an explanation.\n",
      "SLF4J: Actual binding is of type [org.apache.logging.slf4j.Log4jLoggerFactory]\n",
      "Setting default log level to \"WARN\".\n",
      "To adjust logging level use sc.setLogLevel(newLevel). For SparkR, use setLogLevel(newLevel).\n"
     ]
    }
   ],
   "source": [
    "spark = SparkSession.builder.getOrCreate()"
   ]
  },
  {
   "cell_type": "code",
   "execution_count": 4,
   "metadata": {},
   "outputs": [
    {
     "name": "stderr",
     "output_type": "stream",
     "text": [
      "24/01/09 01:51:37 WARN MetricsConfig: Cannot locate configuration: tried hadoop-metrics2-s3a-file-system.properties,hadoop-metrics2.properties\n",
      "                                                                                \r"
     ]
    }
   ],
   "source": [
    "df_competition = spark.read.option(\"multiline\", \"true\").json(\"s3://sor/football/data/competitions.json\")"
   ]
  },
  {
   "cell_type": "code",
   "execution_count": 50,
   "metadata": {},
   "outputs": [
    {
     "name": "stdout",
     "output_type": "stream",
     "text": [
      "[Row(season_id=1), Row(season_id=2), Row(season_id=3), Row(season_id=4), Row(season_id=21), Row(season_id=22), Row(season_id=23), Row(season_id=24), Row(season_id=25), Row(season_id=26), Row(season_id=27), Row(season_id=30), Row(season_id=37), Row(season_id=38), Row(season_id=39), Row(season_id=40), Row(season_id=41), Row(season_id=42), Row(season_id=43), Row(season_id=44), Row(season_id=48), Row(season_id=51), Row(season_id=54), Row(season_id=55), Row(season_id=68), Row(season_id=71), Row(season_id=75), Row(season_id=76), Row(season_id=84), Row(season_id=86), Row(season_id=90), Row(season_id=106), Row(season_id=107), Row(season_id=108), Row(season_id=235), Row(season_id=268), Row(season_id=269), Row(season_id=270), Row(season_id=272), Row(season_id=274), Row(season_id=275), Row(season_id=276), Row(season_id=277), Row(season_id=278), Row(season_id=279)]\n"
     ]
    }
   ],
   "source": [
    "partitions = df_competition.select('season_id').distinct().orderBy(\"season_id\").collect()\n",
    "print(partitions)"
   ]
  },
  {
   "cell_type": "code",
   "execution_count": 62,
   "metadata": {},
   "outputs": [],
   "source": [
    "dataframes = {}\n",
    "for partition in partitions:\n",
    "    partition_value = partition['season_id']\n",
    "    partition_competition = df_competition.filter(df_competition['season_id'] == partition_value)\n",
    "    dataframes[partition_value] = partition_competition"
   ]
  },
  {
   "cell_type": "code",
   "execution_count": 73,
   "metadata": {},
   "outputs": [],
   "source": [
    "# Caminho base no S3\n",
    "base_path = \"s3://landing/\"\n",
    "\n",
    "# Iterar sobre os DataFrames e salvá-los no S3\n",
    "for partition_value, dataframe in dataframes.items():\n",
    "    path = f\"{base_path}/competitions/season={partition_value}\"\n",
    "    dataframe.write.json(path, mode='overwrite')"
   ]
  },
  {
   "cell_type": "code",
   "execution_count": 78,
   "metadata": {},
   "outputs": [
    {
     "name": "stdout",
     "output_type": "stream",
     "text": [
      "+------------------+--------------+-------------------------+--------------------+-----------------+--------------------+--------------------+--------------------+--------------------+--------------------+---------+-----------+------+\n",
      "|competition_gender|competition_id|competition_international|    competition_name|competition_youth|        country_name|     match_available| match_available_360|       match_updated|   match_updated_360|season_id|season_name|season|\n",
      "+------------------+--------------+-------------------------+--------------------+-----------------+--------------------+--------------------+--------------------+--------------------+--------------------+---------+-----------+------+\n",
      "|              male|             9|                    false|       1. Bundesliga|            false|             Germany|2023-12-12T07:43:...|                null|2023-12-12T07:43:...|                null|       27|  2015/2016|    27|\n",
      "|              male|            16|                    false|    Champions League|            false|              Europe|    2020-07-29T05:00|                null|2021-08-27T11:26:...|2021-06-13T16:17:...|       27|  2015/2016|    27|\n",
      "|              male|            11|                    false|             La Liga|            false|               Spain|2023-09-20T17:21:...|                null|2023-09-20T17:21:...|2021-06-13T16:17:...|       27|  2015/2016|    27|\n",
      "|              male|             7|                    false|             Ligue 1|            false|              France|2023-12-13T00:27:...|                null|2023-12-13T00:27:...|                null|       27|  2015/2016|    27|\n",
      "|              male|             2|                    false|      Premier League|            false|             England|2023-11-14T11:25:...|                null|2023-11-14T11:25:...|2021-06-13T16:17:...|       27|  2015/2016|    27|\n",
      "|              male|            12|                    false|             Serie A|            false|               Italy|2023-12-13T17:32:...|                null|2023-12-13T17:32:...|                null|       27|  2015/2016|    27|\n",
      "|              male|            16|                    false|    Champions League|            false|              Europe|2023-03-07T12:20:...|                null|2023-03-07T12:20:...|2021-06-13T16:17:...|        4|  2018/2019|     4|\n",
      "|            female|            37|                    false|FA Women's Super ...|            false|             England|2023-07-24T19:50:...|                null|2023-07-24T19:50:...|2021-06-13T16:17:...|        4|  2018/2019|     4|\n",
      "|              male|            11|                    false|             La Liga|            false|               Spain|2023-11-05T09:50:...|                null|2023-11-05T09:50:...|2021-07-09T14:53:...|        4|  2018/2019|     4|\n",
      "|              male|            44|                    false| Major League Soccer|            false|United States of ...|2023-12-13T04:51:...|2023-12-13T04:53:...|2023-12-13T04:51:...|2023-12-13T04:53:...|      107|       2023|   107|\n",
      "|            female|            72|                     true|   Women's World Cup|            false|       International|2023-12-12T14:06:...|2023-12-12T14:12:...|2023-12-12T14:06:...|2023-12-12T14:12:...|      107|       2023|   107|\n",
      "|              male|            43|                     true|      FIFA World Cup|            false|       International|2023-11-05T04:23:...|2023-11-21T15:37:...|2023-11-05T04:23:...|2023-11-21T15:37:...|      106|       2022|   106|\n",
      "|            female|            53|                     true|   UEFA Women's Euro|            false|              Europe|2023-10-24T03:36:...|2023-10-24T03:37:...|2023-10-24T03:36:...|2023-10-24T03:37:...|      106|       2022|   106|\n",
      "|            female|            37|                    false|FA Women's Super ...|            false|             England|2023-02-25T14:52:...|                null|2023-02-25T14:52:...|2021-06-13T16:17:...|       90|  2020/2021|    90|\n",
      "|              male|            11|                    false|             La Liga|            false|               Spain|2023-11-15T10:25:...|2023-11-15T10:29:...|2023-11-15T10:25:...|2023-11-15T10:29:...|       90|  2020/2021|    90|\n",
      "|              male|          1238|                    false| Indian Super league|            false|               India|2023-03-31T02:14:...|                null|2023-03-31T02:14:...|                null|      108|  2021/2022|   108|\n",
      "|              male|             7|                    false|             Ligue 1|            false|              France|2023-10-17T06:13:...|2023-10-17T06:16:...|2023-10-17T06:13:...|2023-10-17T06:16:...|      108|  2021/2022|   108|\n",
      "|              male|            43|                     true|      FIFA World Cup|            false|       International|2023-07-24T13:09:...|                null|2023-07-24T13:09:...|2021-06-13T16:17:...|        3|       2018|     3|\n",
      "|            female|            49|                    false|                NWSL|            false|United States of ...|2023-07-24T13:01:...|                null|2023-07-24T13:01:...|2021-06-13T16:17:...|        3|       2018|     3|\n",
      "|            female|            37|                    false|FA Women's Super ...|            false|             England|2023-07-25T01:08:...|                null|2023-07-25T01:08:...|2021-06-13T16:17:...|       42|  2019/2020|    42|\n",
      "+------------------+--------------+-------------------------+--------------------+-----------------+--------------------+--------------------+--------------------+--------------------+--------------------+---------+-----------+------+\n",
      "only showing top 20 rows\n",
      "\n"
     ]
    },
    {
     "data": {
      "text/plain": [
       "70"
      ]
     },
     "execution_count": 78,
     "metadata": {},
     "output_type": "execute_result"
    }
   ],
   "source": [
    "read_df = spark.read.json(f\"{base_path}/competitions\")\n",
    "read_df.show()\n",
    "read_df.count()"
   ]
  },
  {
   "cell_type": "markdown",
   "metadata": {},
   "source": [
    "## Criação das partições de Matches"
   ]
  },
  {
   "cell_type": "code",
   "execution_count": 73,
   "metadata": {},
   "outputs": [],
   "source": [
    "\n",
    "# obs Isso aqui é um paliativo. O correto é ser automatizado.\n",
    "# Criação da lista manual de competicoes e jogos\n",
    "\n",
    "competitions_seasons = [\"2/27\", \"2/44\", \"7/27\", \"7/108\", \"7/235\", \"9/27\",\n",
    "                        \"11/1\", \"11/2\", \"11/4\", \"11/21\", \"11/22\", \"11/23\", \"11/24\", \"11/25\", \"11/26\",\n",
    "                        \"11/27\", \"11/37\", \"11/38\", \"11/39\", \"11/40\", \"11/41\", \"11/42\", \"11/90\", \"11/278\",\n",
    "                        \"12/27\",\"12/86\", \"16/1\", \"16/2\", \"16/4\", \"16/21\", \"16/22\", \"16/23\", \"16/24\", \"16/25\",\n",
    "                        \"16/26\", \"16/27\", \"16/37\", \"16/39\", \"16/41\", \"16/44\", \"16/71\", \"16/76\", \"16/276\", \"16/277\",\n",
    "                        \"35/75\",\"37/4\", \"37/42\", \"37/90\", \"43/3\", \"43/51\", \"43/54\", \"43/55\", \"43/106\", \"43/269\", \"43/270\" ,\"43/272\",\n",
    "                        \"44/107\", \"49/3\", \"53/106\", \"55/43\", \"72/30\", \"72/107\", \"81/48\", \"81/275\", \"87/84\", \"87/268\", \"87/279\", \"116/68\",\n",
    "                        \"1238/108\", \"1470/274\"]"
   ]
  },
  {
   "cell_type": "code",
   "execution_count": 68,
   "metadata": {},
   "outputs": [
    {
     "name": "stdout",
     "output_type": "stream",
     "text": [
      "2/27\n",
      "2/44\n",
      "7/27\n",
      "7/108\n",
      "7/235\n",
      "9/27\n",
      "11/1\n",
      "11/2\n",
      "11/4\n",
      "11/21\n",
      "11/22\n",
      "11/23\n",
      "11/24\n",
      "11/25\n",
      "11/26\n",
      "11/27\n",
      "11/37\n",
      "11/38\n",
      "11/39\n",
      "11/40\n",
      "11/41\n",
      "11/42\n",
      "11/90\n",
      "11/278\n",
      "12/27\n",
      "12/86\n",
      "16/1\n",
      "16/2\n",
      "16/4\n",
      "16/21\n",
      "16/22\n",
      "16/23\n",
      "16/24\n",
      "16/25\n",
      "16/26\n",
      "16/27\n",
      "16/37\n",
      "16/39\n",
      "16/41\n",
      "16/44\n",
      "16/71\n",
      "16/76\n",
      "16/276\n",
      "16/277\n",
      "35/75\n",
      "37/4\n",
      "37/42\n",
      "37/90\n",
      "43/3\n",
      "43/51\n",
      "43/54\n",
      "43/55\n",
      "43/106\n",
      "43/269\n",
      "43/270\n",
      "43/272\n",
      "44/107\n",
      "49/3\n",
      "53/106\n",
      "55/43\n",
      "72/30\n",
      "72/107\n",
      "81/48\n",
      "81/275\n",
      "87/84\n",
      "87/268\n",
      "87/279\n",
      "116/68\n",
      "1238/108\n",
      "1470/274\n"
     ]
    }
   ],
   "source": [
    "# Percorrer todos os arquivos e appendar todos os registros de partidas num só dataframe\n",
    "\n",
    "# Outra solução paliativa:\n",
    "# O arquivo da competição 11 e partida 278 está com uma coluna a menos, não tem a coluna de referee.\n",
    "# Decidi fazer uma validação na hora do empilhamento da base, ignorando arquivos que não tenha quantidade de colunas do primeiro arquivo.\n",
    "\n",
    "for competition_season in competitions_seasons: \n",
    "     \n",
    "    # Leitura dos jogos por competicao e temporada\n",
    "    df_match = spark.read.option(\"multiline\", \"true\").json(f\"s3://sor/football/data/matches/{competition_season}.json\")\n",
    "    \n",
    "    # Quebra os valores de competição e temporada \n",
    "    competition_season_split = competition_season.split(\"/\")\n",
    "    \n",
    "    # Recebe o primeiro valor que é a competição\n",
    "    competition_id = competition_season_split[0]\n",
    "    \n",
    "    # Recebe o segundo valor que é a temporada\n",
    "    season_id = competition_season_split[1]\n",
    "    \n",
    "    # Criação do prefixo para as partições de competição\n",
    "    prefixo_competition = \"competition_id=\"\n",
    "    \n",
    "    # Criação do prefixo para as partições de temporada\n",
    "    prefixo_season = \"season_id=\"\n",
    "    \n",
    "    # Recebe o nome da partição competition\n",
    "    partition_competition = prefixo_competition + competition_id\n",
    "    \n",
    "    # Recebe o nome da partição season\n",
    "    partition_season = prefixo_season + season_id\n",
    "    \n",
    "    # FIltra Datarame e Salva no bucket se o dataframe tiver pelo menos 1 registro\n",
    "    if df_match.count() >= 1 : \n",
    "        \n",
    "        df_partition_season = df_match.filter( \\\n",
    "                                                (sf.col(\"competition\").getItem(\"competition_id\") == competition_id) \\\n",
    "                                                & (sf.col(\"season\").getItem(\"season_id\") == season_id) \\\n",
    "                                            )\n",
    "        \n",
    "        df_partition_season.write.format(\"json\").option(\"multiline\", \"true\").save(f\"s3://landing/matches/{partition_competition}/{partition_season}\", mode='overwrite')\n",
    "        \n",
    "    "
   ]
  },
  {
   "cell_type": "markdown",
   "metadata": {},
   "source": [
    "# análise de casos de matches"
   ]
  },
  {
   "cell_type": "code",
   "execution_count": 64,
   "metadata": {},
   "outputs": [
    {
     "name": "stdout",
     "output_type": "stream",
     "text": [
      "380\n",
      "+----------+--------------------+--------------------+-------------------+----------+--------------------+------------+--------------------+--------------------+----------+--------+------------+----------------+----------+-------------+--------------------+---------------+--------------------+\n",
      "|away_score|           away_team|         competition|  competition_stage|home_score|           home_team|    kick_off|        last_updated|    last_updated_360|match_date|match_id|match_status|match_status_360|match_week|     metadata|             referee|         season|             stadium|\n",
      "+----------+--------------------+--------------------+-------------------+----------+--------------------+------------+--------------------+--------------------+----------+--------+------------+----------------+----------+-------------+--------------------+---------------+--------------------+\n",
      "|         0|{male, null, 28, ...|{2, Premier Leagu...|{1, Regular Season}|         0|{{68, England}, m...|16:00:00.000|2021-10-29T23:44:...|2021-06-12T16:17:...|2016-01-02| 3754058|   available|      processing|        20|{1.1.0, 2, 2}|{{68, England}, 5...|{27, 2015/2016}|{{68, England}, 2...|\n",
      "|         0|{male, null, 41, ...|{2, Premier Leagu...|{1, Regular Season}|         1|{{68, England}, m...|16:00:00.000|2022-12-01T13:09:...|2021-06-13T16:17:...|2015-10-17| 3754245|   available|       scheduled|         9|{1.1.0, 2, 2}|{{68, England}, 4...|{27, 2015/2016}|{{68, England}, 3...|\n",
      "|         1|{male, null, 59, ...|{2, Premier Leagu...|{1, Regular Season}|         1|{{68, England}, m...|18:30:00.000|2020-11-12T23:48:...|2021-06-13T16:17:...|2015-12-19| 3754136|   available|       scheduled|        17|{1.1.0, 2, 2}|{{68, England}, 4...|{27, 2015/2016}|{{68, England}, 4...|\n",
      "|         1|{male, null, 28, ...|{2, Premier Leagu...|{1, Regular Season}|         2|{{68, England}, m...|16:00:00.000|2021-07-07T17:59:...|2021-06-12T16:17:...|2016-04-30| 3754037|   available|      processing|        36|{1.1.0, 2, 2}|{{68, England}, 7...|{27, 2015/2016}|{{68, England}, 1...|\n",
      "|         2|{male, null, 23, ...|{2, Premier Leagu...|{1, Regular Season}|         1|{{68, England}, m...|16:00:00.000|2021-07-25T18:09:...|2021-06-12T16:17:...|2016-02-13| 3754039|   available|      processing|        26|{1.1.0, 2, 2}|{{68, England}, 9...|{27, 2015/2016}|{{68, England}, 3...|\n",
      "|         0|{male, null, 59, ...|{2, Premier Leagu...|{1, Regular Season}|         4|{{68, England}, m...|16:00:00.000|2021-07-09T16:36:...|2021-06-12T16:17:...|2016-05-15| 3754041|   available|      processing|        38|{1.1.0, 2, 2}|{{68, England}, 7...|{27, 2015/2016}|{{68, England}, 3...|\n",
      "|         1|{male, null, 24, ...|{2, Premier Leagu...|{1, Regular Season}|         1|{{68, England}, m...|16:00:00.000|2021-07-08T21:22:...|2021-06-12T16:17:...|2016-05-15| 3754042|   available|      processing|        38|{1.1.0, 2, 2}|{{68, England}, 9...|{27, 2015/2016}|{{68, England}, 3...|\n",
      "|         0|{male, null, 28, ...|{2, Premier Leagu...|{1, Regular Season}|         3|{{68, England}, m...|17:00:00.000|2021-07-02T17:59:...|2021-06-12T16:17:...|2016-03-20| 3754043|   available|      processing|        31|{1.1.0, 2, 2}|{{68, England}, 7...|{27, 2015/2016}|{{68, England}, 9...|\n",
      "|         0|{male, null, 36, ...|{2, Premier Leagu...|{1, Regular Season}|         0|{{68, England}, m...|20:45:00.000|2021-06-30T19:08:...|2021-06-12T16:17:...|2015-12-29| 3754045|   available|      processing|        19|{1.1.0, 2, 2}|{{68, England}, 2...|{27, 2015/2016}|{{68, England}, 2...|\n",
      "|         0|{male, null, 29, ...|{2, Premier Leagu...|{1, Regular Season}|         0|{{68, England}, m...|21:00:00.000|2021-07-09T13:20:...|2021-06-12T16:17:...|2016-04-13| 3754048|   available|      processing|        35|{1.1.0, 2, 2}|{{68, England}, 1...|{27, 2015/2016}|{{68, England}, 3...|\n",
      "|         0|{male, null, 56, ...|{2, Premier Leagu...|{1, Regular Season}|         1|{{68, England}, m...|16:00:00.000|2021-06-29T20:50:...|2021-06-12T16:17:...|2016-02-27| 3754049|   available|      processing|        27|{1.1.0, 2, 2}|{{68, England}, 7...|{27, 2015/2016}|{{68, England}, 2...|\n",
      "|         2|{male, null, 31, ...|{2, Premier Leagu...|{1, Regular Season}|         2|{{68, England}, m...|20:45:00.000|2022-12-01T14:08:...|2021-06-12T16:17:...|2016-03-01| 3754050|   available|      processing|        28|{1.1.0, 2, 2}|{{68, England}, 8...|{27, 2015/2016}|{{68, England}, 2...|\n",
      "|         1|{male, null, 56, ...|{2, Premier Leagu...|{1, Regular Season}|         0|{{68, England}, m...|16:00:00.000|2021-07-06T17:48:...|2021-06-12T16:17:...|2016-03-19| 3754052|   available|      processing|        31|{1.1.0, 2, 2}|{{68, England}, 8...|{27, 2015/2016}|{{68, England}, 3...|\n",
      "|         2|{male, null, 38, ...|{2, Premier Leagu...|{1, Regular Season}|         0|{{68, England}, m...|17:00:00.000|2021-11-04T18:24:...|2021-06-12T16:17:...|2016-03-13| 3754053|   available|      processing|        30|{1.1.0, 2, 2}|{{68, England}, 8...|{27, 2015/2016}|{{68, England}, 2...|\n",
      "|         1|{male, null, 33, ...|{2, Premier Leagu...|{1, Regular Season}|         1|{{68, England}, m...|21:00:00.000|2022-12-01T14:45:...|2021-06-12T16:17:...|2016-05-11| 3754055|   available|      processing|        30|{1.1.0, 2, 2}|{{68, England}, 1...|{27, 2015/2016}|{{68, England}, 6...|\n",
      "|         1|{male, null, 24, ...|{2, Premier Leagu...|{1, Regular Season}|         0|{{68, England}, m...|20:45:00.000|2021-06-28T15:11:...|2021-06-12T16:17:...|2015-12-30| 3754226|   available|      processing|        19|{1.1.0, 2, 2}|{{68, England}, 1...|{27, 2015/2016}|{{68, England}, 2...|\n",
      "|         0|{male, null, 39, ...|{2, Premier Leagu...|{1, Regular Season}|         2|{{68, England}, m...|13:45:00.000|2022-12-01T13:42:...|2021-06-13T16:17:...|2015-12-26| 3754014|   available|       scheduled|        18|{1.1.0, 2, 2}|{{68, England}, 1...|{27, 2015/2016}|{{68, England}, 2...|\n",
      "|         2|{male, null, 23, ...|{2, Premier Leagu...|{1, Regular Season}|         0|{{68, England}, m...|16:00:00.000|2020-10-20T19:53:...|2021-06-13T16:17:...|2015-10-24| 3754091|   available|       scheduled|        10|{1.1.0, 2, 2}|{{68, England}, 4...|{27, 2015/2016}|{{68, England}, 2...|\n",
      "|         0|{male, null, 36, ...|{2, Premier Leagu...|{1, Regular Season}|         2|{{68, England}, m...|13:45:00.000|2020-10-13T17:34:...|2021-06-13T16:17:...|2015-12-05| 3754135|   available|       scheduled|        15|{1.1.0, 2, 2}|{{68, England}, 4...|{27, 2015/2016}|{{68, England}, 2...|\n",
      "|         0|{male, null, 33, ...|{2, Premier Leagu...|{1, Regular Season}|         1|{{68, England}, m...|18:30:00.000|2022-12-01T13:20:...|2021-06-13T16:17:...|2015-11-07| 3754293|   available|       scheduled|        12|{1.1.0, 2, 2}|{{68, England}, 8...|{27, 2015/2016}|{{68, England}, 2...|\n",
      "+----------+--------------------+--------------------+-------------------+----------+--------------------+------------+--------------------+--------------------+----------+--------+------------+----------------+----------+-------------+--------------------+---------------+--------------------+\n",
      "only showing top 20 rows\n",
      "\n"
     ]
    }
   ],
   "source": [
    "# Comparação de valores\n",
    "competition_season = \"2/27\"\n",
    "df_matche_competition =  spark.read.option(\"multiline\", \"true\").json(f\"s3://sor/football/data/matches/{competition_season}.json\")\n",
    "\n",
    "print(df_matche_competition.count())\n",
    "\n",
    "df_matche_competition.show()"
   ]
  },
  {
   "cell_type": "code",
   "execution_count": 70,
   "metadata": {},
   "outputs": [
    {
     "name": "stdout",
     "output_type": "stream",
     "text": [
      "418\n",
      "+----------+--------------------+--------------------+-------------------+----------+--------------------+------------+--------------------+--------------------+----------+--------+------------+----------------+----------+-------------+--------------------+---------------+--------------------+---------+\n",
      "|away_score|           away_team|         competition|  competition_stage|home_score|           home_team|    kick_off|        last_updated|    last_updated_360|match_date|match_id|match_status|match_status_360|match_week|     metadata|             referee|         season|             stadium|season_id|\n",
      "+----------+--------------------+--------------------+-------------------+----------+--------------------+------------+--------------------+--------------------+----------+--------+------------+----------------+----------+-------------+--------------------+---------------+--------------------+---------+\n",
      "|         0|{male, 28, AFC Bo...|{2, Premier Leagu...|{1, Regular Season}|         0|{{68, England}, m...|16:00:00.000|2021-10-29T23:44:...|2021-06-12T16:17:...|2016-01-02| 3754058|   available|      processing|        20|{1.1.0, 2, 2}|{{68, England}, 5...|{27, 2015/2016}|{{68, England}, 2...|       27|\n",
      "|         0|{male, 41, Sunder...|{2, Premier Leagu...|{1, Regular Season}|         1|{{68, England}, m...|16:00:00.000|2022-12-01T13:09:...|2021-06-13T16:17:...|2015-10-17| 3754245|   available|       scheduled|         9|{1.1.0, 2, 2}|{{68, England}, 4...|{27, 2015/2016}|{{68, England}, 3...|       27|\n",
      "|         1|{male, 59, Aston ...|{2, Premier Leagu...|{1, Regular Season}|         1|{{68, England}, m...|18:30:00.000|2020-11-12T23:48:...|2021-06-13T16:17:...|2015-12-19| 3754136|   available|       scheduled|        17|{1.1.0, 2, 2}|{{68, England}, 4...|{27, 2015/2016}|{{68, England}, 4...|       27|\n",
      "|         1|{male, 28, AFC Bo...|{2, Premier Leagu...|{1, Regular Season}|         2|{{68, England}, m...|16:00:00.000|2021-07-07T17:59:...|2021-06-12T16:17:...|2016-04-30| 3754037|   available|      processing|        36|{1.1.0, 2, 2}|{{68, England}, 7...|{27, 2015/2016}|{{68, England}, 1...|       27|\n",
      "|         2|{male, 23, Watfor...|{2, Premier Leagu...|{1, Regular Season}|         1|{{68, England}, m...|16:00:00.000|2021-07-25T18:09:...|2021-06-12T16:17:...|2016-02-13| 3754039|   available|      processing|        26|{1.1.0, 2, 2}|{{68, England}, 9...|{27, 2015/2016}|{{68, England}, 3...|       27|\n",
      "|         0|{male, 59, Aston ...|{2, Premier Leagu...|{1, Regular Season}|         4|{{68, England}, m...|16:00:00.000|2021-07-09T16:36:...|2021-06-12T16:17:...|2016-05-15| 3754041|   available|      processing|        38|{1.1.0, 2, 2}|{{68, England}, 7...|{27, 2015/2016}|{{68, England}, 3...|       27|\n",
      "|         1|{male, 24, Liverp...|{2, Premier Leagu...|{1, Regular Season}|         1|{{68, England}, m...|16:00:00.000|2021-07-08T21:22:...|2021-06-12T16:17:...|2016-05-15| 3754042|   available|      processing|        38|{1.1.0, 2, 2}|{{68, England}, 9...|{27, 2015/2016}|{{68, England}, 3...|       27|\n",
      "|         0|{male, 28, AFC Bo...|{2, Premier Leagu...|{1, Regular Season}|         3|{{68, England}, m...|17:00:00.000|2021-07-02T17:59:...|2021-06-12T16:17:...|2016-03-20| 3754043|   available|      processing|        31|{1.1.0, 2, 2}|{{68, England}, 7...|{27, 2015/2016}|{{68, England}, 9...|       27|\n",
      "|         0|{male, 36, Manche...|{2, Premier Leagu...|{1, Regular Season}|         0|{{68, England}, m...|20:45:00.000|2021-06-30T19:08:...|2021-06-12T16:17:...|2015-12-29| 3754045|   available|      processing|        19|{1.1.0, 2, 2}|{{68, England}, 2...|{27, 2015/2016}|{{68, England}, 2...|       27|\n",
      "|         0|{male, 29, Everto...|{2, Premier Leagu...|{1, Regular Season}|         0|{{68, England}, m...|21:00:00.000|2021-07-09T13:20:...|2021-06-12T16:17:...|2016-04-13| 3754048|   available|      processing|        35|{1.1.0, 2, 2}|{{68, England}, 1...|{27, 2015/2016}|{{68, England}, 3...|       27|\n",
      "|         0|{male, 56, Norwic...|{2, Premier Leagu...|{1, Regular Season}|         1|{{68, England}, m...|16:00:00.000|2021-06-29T20:50:...|2021-06-12T16:17:...|2016-02-27| 3754049|   available|      processing|        27|{1.1.0, 2, 2}|{{68, England}, 7...|{27, 2015/2016}|{{68, England}, 2...|       27|\n",
      "|         2|{male, 31, Crysta...|{2, Premier Leagu...|{1, Regular Season}|         2|{{68, England}, m...|20:45:00.000|2022-12-01T14:08:...|2021-06-12T16:17:...|2016-03-01| 3754050|   available|      processing|        28|{1.1.0, 2, 2}|{{68, England}, 8...|{27, 2015/2016}|{{68, England}, 2...|       27|\n",
      "|         1|{male, 56, Norwic...|{2, Premier Leagu...|{1, Regular Season}|         0|{{68, England}, m...|16:00:00.000|2021-07-06T17:48:...|2021-06-12T16:17:...|2016-03-19| 3754052|   available|      processing|        31|{1.1.0, 2, 2}|{{68, England}, 8...|{27, 2015/2016}|{{68, England}, 3...|       27|\n",
      "|         2|{male, 38, Totten...|{2, Premier Leagu...|{1, Regular Season}|         0|{{68, England}, m...|17:00:00.000|2021-11-04T18:24:...|2021-06-12T16:17:...|2016-03-13| 3754053|   available|      processing|        30|{1.1.0, 2, 2}|{{68, England}, 8...|{27, 2015/2016}|{{68, England}, 2...|       27|\n",
      "|         1|{male, 33, Chelse...|{2, Premier Leagu...|{1, Regular Season}|         1|{{68, England}, m...|21:00:00.000|2022-12-01T14:45:...|2021-06-12T16:17:...|2016-05-11| 3754055|   available|      processing|        30|{1.1.0, 2, 2}|{{68, England}, 1...|{27, 2015/2016}|{{68, England}, 6...|       27|\n",
      "|         1|{male, 24, Liverp...|{2, Premier Leagu...|{1, Regular Season}|         0|{{68, England}, m...|20:45:00.000|2021-06-28T15:11:...|2021-06-12T16:17:...|2015-12-30| 3754226|   available|      processing|        19|{1.1.0, 2, 2}|{{68, England}, 1...|{27, 2015/2016}|{{68, England}, 2...|       27|\n",
      "|         0|{male, 39, Manche...|{2, Premier Leagu...|{1, Regular Season}|         2|{{68, England}, m...|13:45:00.000|2022-12-01T13:42:...|2021-06-13T16:17:...|2015-12-26| 3754014|   available|       scheduled|        18|{1.1.0, 2, 2}|{{68, England}, 1...|{27, 2015/2016}|{{68, England}, 2...|       27|\n",
      "|         2|{male, 23, Watfor...|{2, Premier Leagu...|{1, Regular Season}|         0|{{68, England}, m...|16:00:00.000|2020-10-20T19:53:...|2021-06-13T16:17:...|2015-10-24| 3754091|   available|       scheduled|        10|{1.1.0, 2, 2}|{{68, England}, 4...|{27, 2015/2016}|{{68, England}, 2...|       27|\n",
      "|         0|{male, 36, Manche...|{2, Premier Leagu...|{1, Regular Season}|         2|{{68, England}, m...|13:45:00.000|2020-10-13T17:34:...|2021-06-13T16:17:...|2015-12-05| 3754135|   available|       scheduled|        15|{1.1.0, 2, 2}|{{68, England}, 4...|{27, 2015/2016}|{{68, England}, 2...|       27|\n",
      "|         0|{male, 33, Chelse...|{2, Premier Leagu...|{1, Regular Season}|         1|{{68, England}, m...|18:30:00.000|2022-12-01T13:20:...|2021-06-13T16:17:...|2015-11-07| 3754293|   available|       scheduled|        12|{1.1.0, 2, 2}|{{68, England}, 8...|{27, 2015/2016}|{{68, England}, 2...|       27|\n",
      "+----------+--------------------+--------------------+-------------------+----------+--------------------+------------+--------------------+--------------------+----------+--------+------------+----------------+----------+-------------+--------------------+---------------+--------------------+---------+\n",
      "only showing top 20 rows\n",
      "\n"
     ]
    }
   ],
   "source": [
    "# Consulta por competicao e temporada\n",
    "\n",
    "competition_id = \"2\"\n",
    "season_id = \"27\"\n",
    "\n",
    "df_competition2_season27 = spark.read.json(f\"s3://landing/matches/competition_id={competition_id}/season_id={season_id}\")\n",
    "print(df_competition2_season27.count())\n",
    "df_competition2_season27.show()\n",
    "\n"
   ]
  },
  {
   "cell_type": "code",
   "execution_count": 72,
   "metadata": {},
   "outputs": [
    {
     "name": "stdout",
     "output_type": "stream",
     "text": [
      "+---------+\n",
      "|season_id|\n",
      "+---------+\n",
      "|       27|\n",
      "|       44|\n",
      "+---------+\n",
      "\n"
     ]
    }
   ],
   "source": [
    "# consulta por competicao, exibindo temporadas distintas\n",
    "df_competition2 = spark.read.json(f\"s3://landing/matches/competition_id={competition_id}\")\n",
    "df_competition2.select(\"season_id\").distinct().show()"
   ]
  },
  {
   "cell_type": "code",
   "execution_count": null,
   "metadata": {},
   "outputs": [],
   "source": [
    "df_competition_season = spark.read.json(f\"s3://landing/matches/\")\n",
    "print(df_competition_season.count())\n",
    "df_competition_season.show()\n"
   ]
  },
  {
   "cell_type": "markdown",
   "metadata": {},
   "source": [
    "## Particao LineUp"
   ]
  },
  {
   "cell_type": "code",
   "execution_count": null,
   "metadata": {},
   "outputs": [],
   "source": [
    "df_lineup = spark.read.json"
   ]
  }
 ],
 "metadata": {
  "kernelspec": {
   "display_name": "Python 3",
   "language": "python",
   "name": "python3"
  },
  "language_info": {
   "codemirror_mode": {
    "name": "ipython",
    "version": 3
   },
   "file_extension": ".py",
   "mimetype": "text/x-python",
   "name": "python",
   "nbconvert_exporter": "python",
   "pygments_lexer": "ipython3",
   "version": "3.10.2"
  },
  "orig_nbformat": 4
 },
 "nbformat": 4,
 "nbformat_minor": 2
}
