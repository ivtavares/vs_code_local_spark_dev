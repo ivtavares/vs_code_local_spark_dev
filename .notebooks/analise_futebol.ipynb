{
 "cells": [
  {
   "cell_type": "code",
   "execution_count": 30,
   "metadata": {},
   "outputs": [],
   "source": [
    "from pyspark.sql import SparkSession\n",
    "from pyspark.sql.functions import col"
   ]
  },
  {
   "cell_type": "code",
   "execution_count": 2,
   "metadata": {},
   "outputs": [
    {
     "name": "stderr",
     "output_type": "stream",
     "text": [
      "SLF4J: Class path contains multiple SLF4J bindings.\n",
      "SLF4J: Found binding in [jar:file:/home/glue_user/spark/jars/log4j-slf4j-impl-2.17.2.jar!/org/slf4j/impl/StaticLoggerBinder.class]\n",
      "SLF4J: Found binding in [jar:file:/home/glue_user/spark/jars/slf4j-reload4j-1.7.36.jar!/org/slf4j/impl/StaticLoggerBinder.class]\n",
      "SLF4J: Found binding in [jar:file:/home/glue_user/aws-glue-libs/jars/log4j-slf4j-impl-2.17.2.jar!/org/slf4j/impl/StaticLoggerBinder.class]\n",
      "SLF4J: Found binding in [jar:file:/home/glue_user/aws-glue-libs/jars/slf4j-reload4j-1.7.36.jar!/org/slf4j/impl/StaticLoggerBinder.class]\n",
      "SLF4J: See http://www.slf4j.org/codes.html#multiple_bindings for an explanation.\n",
      "SLF4J: Actual binding is of type [org.apache.logging.slf4j.Log4jLoggerFactory]\n",
      "Setting default log level to \"WARN\".\n",
      "To adjust logging level use sc.setLogLevel(newLevel). For SparkR, use setLogLevel(newLevel).\n"
     ]
    }
   ],
   "source": [
    "spark = SparkSession.builder.getOrCreate()"
   ]
  },
  {
   "cell_type": "code",
   "execution_count": 6,
   "metadata": {},
   "outputs": [],
   "source": [
    "df_competition = spark.read.option(\"multiline\", \"true\").json(\"s3://sor/football/data/competitions.json\")"
   ]
  },
  {
   "cell_type": "code",
   "execution_count": 9,
   "metadata": {},
   "outputs": [
    {
     "data": {
      "text/plain": [
       "<bound method DataFrame.printSchema of DataFrame[competition_gender: string, competition_id: bigint, competition_international: boolean, competition_name: string, competition_youth: boolean, country_name: string, match_available: string, match_available_360: string, match_updated: string, match_updated_360: string, season_id: bigint, season_name: string]>"
      ]
     },
     "execution_count": 9,
     "metadata": {},
     "output_type": "execute_result"
    }
   ],
   "source": [
    "df_competition.printSchema"
   ]
  },
  {
   "cell_type": "code",
   "execution_count": 10,
   "metadata": {},
   "outputs": [
    {
     "data": {
      "text/plain": [
       "DataFrame[competition_gender: string, competition_id: bigint, competition_international: boolean, competition_name: string, competition_youth: boolean, country_name: string, match_available: string, match_available_360: string, match_updated: string, match_updated_360: string, season_id: bigint, season_name: string]"
      ]
     },
     "metadata": {},
     "output_type": "display_data"
    }
   ],
   "source": [
    "display(df_competition)"
   ]
  },
  {
   "cell_type": "code",
   "execution_count": 11,
   "metadata": {},
   "outputs": [
    {
     "name": "stdout",
     "output_type": "stream",
     "text": [
      "+------------------+--------------+-------------------------+----------------+-----------------+------------+--------------------+-------------------+--------------------+--------------------+---------+-----------+\n",
      "|competition_gender|competition_id|competition_international|competition_name|competition_youth|country_name|     match_available|match_available_360|       match_updated|   match_updated_360|season_id|season_name|\n",
      "+------------------+--------------+-------------------------+----------------+-----------------+------------+--------------------+-------------------+--------------------+--------------------+---------+-----------+\n",
      "|              male|             9|                    false|   1. Bundesliga|            false|     Germany|2023-12-12T07:43:...|               null|2023-12-12T07:43:...|                null|       27|  2015/2016|\n",
      "|              male|            16|                    false|Champions League|            false|      Europe|2023-03-07T12:20:...|               null|2023-03-07T12:20:...|2021-06-13T16:17:...|        4|  2018/2019|\n",
      "|              male|            16|                    false|Champions League|            false|      Europe|2021-01-23T21:55:...|               null|2021-08-27T11:26:...|2021-06-13T16:17:...|        1|  2017/2018|\n",
      "|              male|            16|                    false|Champions League|            false|      Europe|    2020-07-29T05:00|               null|2021-08-27T11:26:...|2021-06-13T16:17:...|        2|  2016/2017|\n",
      "|              male|            16|                    false|Champions League|            false|      Europe|    2020-07-29T05:00|               null|2021-08-27T11:26:...|2021-06-13T16:17:...|       27|  2015/2016|\n",
      "|              male|            16|                    false|Champions League|            false|      Europe|    2020-07-29T05:00|               null|2021-08-27T11:26:...|2021-06-13T16:17:...|       26|  2014/2015|\n",
      "|              male|            16|                    false|Champions League|            false|      Europe|    2020-07-29T05:00|               null|2021-08-27T11:26:...|2021-06-13T16:17:...|       25|  2013/2014|\n",
      "|              male|            16|                    false|Champions League|            false|      Europe|2021-07-10T13:41:...|               null|2021-08-27T11:26:...|2021-06-13T16:17:...|       24|  2012/2013|\n",
      "|              male|            16|                    false|Champions League|            false|      Europe|    2020-07-29T05:00|               null|2021-08-27T11:26:...|2021-06-13T16:17:...|       23|  2011/2012|\n",
      "|              male|            16|                    false|Champions League|            false|      Europe|2022-01-26T21:07:...|               null|2022-01-26T21:07:...|2021-06-13T16:17:...|       22|  2010/2011|\n",
      "|              male|            16|                    false|Champions League|            false|      Europe|2022-11-15T17:26:...|               null|2022-11-15T17:26:...|2021-06-13T16:17:...|       21|  2009/2010|\n",
      "|              male|            16|                    false|Champions League|            false|      Europe|2021-11-07T14:20:...|               null|2021-11-07T14:20:...|2021-06-13T16:17:...|       41|  2008/2009|\n",
      "|              male|            16|                    false|Champions League|            false|      Europe|2021-03-31T04:18:...|               null|2021-03-31T04:18:...|2021-06-13T16:17:...|       39|  2006/2007|\n",
      "|              male|            16|                    false|Champions League|            false|      Europe|2021-04-01T06:18:...|               null|2021-04-01T06:18:...|2021-06-13T16:17:...|       37|  2004/2005|\n",
      "|              male|            16|                    false|Champions League|            false|      Europe|2022-11-24T21:06:...|               null|2022-11-24T21:06:...|2021-06-13T16:17:...|       44|  2003/2004|\n",
      "|              male|            16|                    false|Champions League|            false|      Europe|    2020-07-29T05:00|               null|    2020-07-29T05:00|2021-06-13T16:17:...|       76|  1999/2000|\n",
      "|              male|            16|                    false|Champions League|            false|      Europe|2023-07-06T12:49:...|               null|2023-07-06T12:49:...|                null|      277|  1972/1973|\n",
      "|              male|            16|                    false|Champions League|            false|      Europe|    2020-07-29T05:00|               null|    2020-07-29T05:00|2021-06-13T16:17:...|       71|  1971/1972|\n",
      "|              male|            16|                    false|Champions League|            false|      Europe|2023-11-18T14:44:...|               null|2023-11-18T14:44:...|                null|      276|  1970/1971|\n",
      "|              male|            87|                    false|    Copa del Rey|            false|       Spain|    2020-07-29T05:00|               null|    2020-07-29T05:00|2021-06-13T16:17:...|       84|  1983/1984|\n",
      "+------------------+--------------+-------------------------+----------------+-----------------+------------+--------------------+-------------------+--------------------+--------------------+---------+-----------+\n",
      "only showing top 20 rows\n",
      "\n"
     ]
    }
   ],
   "source": [
    "df_competition.show()"
   ]
  },
  {
   "cell_type": "markdown",
   "metadata": {},
   "source": [
    "# Explorando os dados "
   ]
  },
  {
   "cell_type": "markdown",
   "metadata": {},
   "source": [
    "## Quais competições tem na base ?"
   ]
  },
  {
   "cell_type": "code",
   "execution_count": 26,
   "metadata": {},
   "outputs": [
    {
     "name": "stdout",
     "output_type": "stream",
     "text": [
      "+-----------------------+--------------+\n",
      "|competition_name       |competition_id|\n",
      "+-----------------------+--------------+\n",
      "|1. Bundesliga          |9             |\n",
      "|Champions League       |16            |\n",
      "|Copa del Rey           |87            |\n",
      "|FA Women's Super League|37            |\n",
      "|FIFA U20 World Cup     |1470          |\n",
      "|FIFA World Cup         |43            |\n",
      "|Indian Super league    |1238          |\n",
      "|La Liga                |11            |\n",
      "|Liga Profesional       |81            |\n",
      "|Ligue 1                |7             |\n",
      "|Major League Soccer    |44            |\n",
      "|NWSL                   |49            |\n",
      "|North American League  |116           |\n",
      "|Premier League         |2             |\n",
      "|Serie A                |12            |\n",
      "|UEFA Euro              |55            |\n",
      "|UEFA Europa League     |35            |\n",
      "|UEFA Women's Euro      |53            |\n",
      "|Women's World Cup      |72            |\n",
      "+-----------------------+--------------+\n",
      "\n"
     ]
    }
   ],
   "source": [
    "df_competition.select(\"competition_name\", \"competition_id\").distinct().orderBy(\"competition_name\").show(truncate=False)"
   ]
  },
  {
   "cell_type": "markdown",
   "metadata": {},
   "source": [
    "## Qual é a edição de Champions League mais recente ?"
   ]
  },
  {
   "cell_type": "code",
   "execution_count": 78,
   "metadata": {},
   "outputs": [
    {
     "name": "stdout",
     "output_type": "stream",
     "text": [
      "+----------------+-----------+\n",
      "|competition_name|season_name|\n",
      "+----------------+-----------+\n",
      "|Champions League|  2018/2019|\n",
      "|Champions League|  2017/2018|\n",
      "|Champions League|  2016/2017|\n",
      "|Champions League|  2015/2016|\n",
      "|Champions League|  2014/2015|\n",
      "|Champions League|  2013/2014|\n",
      "|Champions League|  2012/2013|\n",
      "|Champions League|  2011/2012|\n",
      "|Champions League|  2010/2011|\n",
      "|Champions League|  2009/2010|\n",
      "|Champions League|  2008/2009|\n",
      "|Champions League|  2006/2007|\n",
      "|Champions League|  2004/2005|\n",
      "|Champions League|  2003/2004|\n",
      "|Champions League|  1999/2000|\n",
      "|Champions League|  1972/1973|\n",
      "|Champions League|  1971/1972|\n",
      "|Champions League|  1970/1971|\n",
      "+----------------+-----------+\n",
      "\n"
     ]
    }
   ],
   "source": [
    "df_champions = df_competition.select(\"competition_name\", \"season_name\").where(\"competition_id = 16\").orderBy(df_competition.season_name.desc())\n",
    "df_champions.show()"
   ]
  },
  {
   "cell_type": "code",
   "execution_count": 77,
   "metadata": {},
   "outputs": [
    {
     "name": "stdout",
     "output_type": "stream",
     "text": [
      "+----------+\n",
      "|season_max|\n",
      "+----------+\n",
      "| 2018/2019|\n",
      "+----------+\n",
      "\n"
     ]
    }
   ],
   "source": [
    "champions_mais_recente = df_champions.agg({\"season_name\":\"max\"}).withColumnRenamed(\"max(season_name)\", \"season_mais_recente\")\n",
    "\n",
    "champions_mais_recente.show()\n"
   ]
  },
  {
   "cell_type": "markdown",
   "metadata": {},
   "source": []
  }
 ],
 "metadata": {
  "kernelspec": {
   "display_name": "Python 3",
   "language": "python",
   "name": "python3"
  },
  "language_info": {
   "codemirror_mode": {
    "name": "ipython",
    "version": 3
   },
   "file_extension": ".py",
   "mimetype": "text/x-python",
   "name": "python",
   "nbconvert_exporter": "python",
   "pygments_lexer": "ipython3",
   "version": "3.10.2"
  },
  "orig_nbformat": 4
 },
 "nbformat": 4,
 "nbformat_minor": 2
}
