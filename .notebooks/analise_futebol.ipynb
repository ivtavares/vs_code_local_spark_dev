{
 "cells": [
  {
   "cell_type": "code",
   "execution_count": 1,
   "metadata": {},
   "outputs": [],
   "source": [
    "from pyspark.sql import SparkSession\n",
    "from pyspark.sql import functions as sf"
   ]
  },
  {
   "cell_type": "code",
   "execution_count": 2,
   "metadata": {},
   "outputs": [
    {
     "name": "stderr",
     "output_type": "stream",
     "text": [
      "SLF4J: Class path contains multiple SLF4J bindings.\n",
      "SLF4J: Found binding in [jar:file:/home/glue_user/spark/jars/log4j-slf4j-impl-2.17.2.jar!/org/slf4j/impl/StaticLoggerBinder.class]\n",
      "SLF4J: Found binding in [jar:file:/home/glue_user/spark/jars/slf4j-reload4j-1.7.36.jar!/org/slf4j/impl/StaticLoggerBinder.class]\n",
      "SLF4J: Found binding in [jar:file:/home/glue_user/aws-glue-libs/jars/log4j-slf4j-impl-2.17.2.jar!/org/slf4j/impl/StaticLoggerBinder.class]\n",
      "SLF4J: Found binding in [jar:file:/home/glue_user/aws-glue-libs/jars/slf4j-reload4j-1.7.36.jar!/org/slf4j/impl/StaticLoggerBinder.class]\n",
      "SLF4J: See http://www.slf4j.org/codes.html#multiple_bindings for an explanation.\n",
      "SLF4J: Actual binding is of type [org.apache.logging.slf4j.Log4jLoggerFactory]\n",
      "Setting default log level to \"WARN\".\n",
      "To adjust logging level use sc.setLogLevel(newLevel). For SparkR, use setLogLevel(newLevel).\n"
     ]
    }
   ],
   "source": [
    "spark = SparkSession.builder.getOrCreate()"
   ]
  },
  {
   "cell_type": "code",
   "execution_count": 3,
   "metadata": {},
   "outputs": [
    {
     "name": "stderr",
     "output_type": "stream",
     "text": [
      "23/12/25 20:50:20 WARN MetricsConfig: Cannot locate configuration: tried hadoop-metrics2-s3a-file-system.properties,hadoop-metrics2.properties\n",
      "                                                                                \r"
     ]
    }
   ],
   "source": [
    "df_competition = spark.read.option(\"multiline\", \"true\").json(\"s3://sor/football/data/competitions.json\")"
   ]
  },
  {
   "cell_type": "code",
   "execution_count": 4,
   "metadata": {},
   "outputs": [
    {
     "data": {
      "text/plain": [
       "<bound method DataFrame.printSchema of DataFrame[competition_gender: string, competition_id: bigint, competition_international: boolean, competition_name: string, competition_youth: boolean, country_name: string, match_available: string, match_available_360: string, match_updated: string, match_updated_360: string, season_id: bigint, season_name: string]>"
      ]
     },
     "execution_count": 4,
     "metadata": {},
     "output_type": "execute_result"
    }
   ],
   "source": [
    "df_competition.printSchema"
   ]
  },
  {
   "cell_type": "code",
   "execution_count": 5,
   "metadata": {},
   "outputs": [
    {
     "data": {
      "text/plain": [
       "DataFrame[competition_gender: string, competition_id: bigint, competition_international: boolean, competition_name: string, competition_youth: boolean, country_name: string, match_available: string, match_available_360: string, match_updated: string, match_updated_360: string, season_id: bigint, season_name: string]"
      ]
     },
     "metadata": {},
     "output_type": "display_data"
    }
   ],
   "source": [
    "display(df_competition)"
   ]
  },
  {
   "cell_type": "code",
   "execution_count": 6,
   "metadata": {},
   "outputs": [
    {
     "name": "stdout",
     "output_type": "stream",
     "text": [
      "+------------------+--------------+-------------------------+----------------+-----------------+------------+--------------------+-------------------+--------------------+--------------------+---------+-----------+\n",
      "|competition_gender|competition_id|competition_international|competition_name|competition_youth|country_name|     match_available|match_available_360|       match_updated|   match_updated_360|season_id|season_name|\n",
      "+------------------+--------------+-------------------------+----------------+-----------------+------------+--------------------+-------------------+--------------------+--------------------+---------+-----------+\n",
      "|              male|             9|                    false|   1. Bundesliga|            false|     Germany|2023-12-12T07:43:...|               null|2023-12-12T07:43:...|                null|       27|  2015/2016|\n",
      "|              male|            16|                    false|Champions League|            false|      Europe|2023-03-07T12:20:...|               null|2023-03-07T12:20:...|2021-06-13T16:17:...|        4|  2018/2019|\n",
      "|              male|            16|                    false|Champions League|            false|      Europe|2021-01-23T21:55:...|               null|2021-08-27T11:26:...|2021-06-13T16:17:...|        1|  2017/2018|\n",
      "|              male|            16|                    false|Champions League|            false|      Europe|    2020-07-29T05:00|               null|2021-08-27T11:26:...|2021-06-13T16:17:...|        2|  2016/2017|\n",
      "|              male|            16|                    false|Champions League|            false|      Europe|    2020-07-29T05:00|               null|2021-08-27T11:26:...|2021-06-13T16:17:...|       27|  2015/2016|\n",
      "|              male|            16|                    false|Champions League|            false|      Europe|    2020-07-29T05:00|               null|2021-08-27T11:26:...|2021-06-13T16:17:...|       26|  2014/2015|\n",
      "|              male|            16|                    false|Champions League|            false|      Europe|    2020-07-29T05:00|               null|2021-08-27T11:26:...|2021-06-13T16:17:...|       25|  2013/2014|\n",
      "|              male|            16|                    false|Champions League|            false|      Europe|2021-07-10T13:41:...|               null|2021-08-27T11:26:...|2021-06-13T16:17:...|       24|  2012/2013|\n",
      "|              male|            16|                    false|Champions League|            false|      Europe|    2020-07-29T05:00|               null|2021-08-27T11:26:...|2021-06-13T16:17:...|       23|  2011/2012|\n",
      "|              male|            16|                    false|Champions League|            false|      Europe|2022-01-26T21:07:...|               null|2022-01-26T21:07:...|2021-06-13T16:17:...|       22|  2010/2011|\n",
      "|              male|            16|                    false|Champions League|            false|      Europe|2022-11-15T17:26:...|               null|2022-11-15T17:26:...|2021-06-13T16:17:...|       21|  2009/2010|\n",
      "|              male|            16|                    false|Champions League|            false|      Europe|2021-11-07T14:20:...|               null|2021-11-07T14:20:...|2021-06-13T16:17:...|       41|  2008/2009|\n",
      "|              male|            16|                    false|Champions League|            false|      Europe|2021-03-31T04:18:...|               null|2021-03-31T04:18:...|2021-06-13T16:17:...|       39|  2006/2007|\n",
      "|              male|            16|                    false|Champions League|            false|      Europe|2021-04-01T06:18:...|               null|2021-04-01T06:18:...|2021-06-13T16:17:...|       37|  2004/2005|\n",
      "|              male|            16|                    false|Champions League|            false|      Europe|2022-11-24T21:06:...|               null|2022-11-24T21:06:...|2021-06-13T16:17:...|       44|  2003/2004|\n",
      "|              male|            16|                    false|Champions League|            false|      Europe|    2020-07-29T05:00|               null|    2020-07-29T05:00|2021-06-13T16:17:...|       76|  1999/2000|\n",
      "|              male|            16|                    false|Champions League|            false|      Europe|2023-07-06T12:49:...|               null|2023-07-06T12:49:...|                null|      277|  1972/1973|\n",
      "|              male|            16|                    false|Champions League|            false|      Europe|    2020-07-29T05:00|               null|    2020-07-29T05:00|2021-06-13T16:17:...|       71|  1971/1972|\n",
      "|              male|            16|                    false|Champions League|            false|      Europe|2023-11-18T14:44:...|               null|2023-11-18T14:44:...|                null|      276|  1970/1971|\n",
      "|              male|            87|                    false|    Copa del Rey|            false|       Spain|    2020-07-29T05:00|               null|    2020-07-29T05:00|2021-06-13T16:17:...|       84|  1983/1984|\n",
      "+------------------+--------------+-------------------------+----------------+-----------------+------------+--------------------+-------------------+--------------------+--------------------+---------+-----------+\n",
      "only showing top 20 rows\n",
      "\n"
     ]
    }
   ],
   "source": [
    "df_competition.show()"
   ]
  },
  {
   "cell_type": "markdown",
   "metadata": {},
   "source": [
    "# Explorando os dados "
   ]
  },
  {
   "cell_type": "markdown",
   "metadata": {},
   "source": [
    "## Quais competições tem na base ?"
   ]
  },
  {
   "cell_type": "code",
   "execution_count": 7,
   "metadata": {},
   "outputs": [
    {
     "name": "stderr",
     "output_type": "stream",
     "text": [
      "[Stage 2:>                                                          (0 + 1) / 1]\r"
     ]
    },
    {
     "name": "stdout",
     "output_type": "stream",
     "text": [
      "+-----------------------+--------------+\n",
      "|competition_name       |competition_id|\n",
      "+-----------------------+--------------+\n",
      "|1. Bundesliga          |9             |\n",
      "|Champions League       |16            |\n",
      "|Copa del Rey           |87            |\n",
      "|FA Women's Super League|37            |\n",
      "|FIFA U20 World Cup     |1470          |\n",
      "|FIFA World Cup         |43            |\n",
      "|Indian Super league    |1238          |\n",
      "|La Liga                |11            |\n",
      "|Liga Profesional       |81            |\n",
      "|Ligue 1                |7             |\n",
      "|Major League Soccer    |44            |\n",
      "|NWSL                   |49            |\n",
      "|North American League  |116           |\n",
      "|Premier League         |2             |\n",
      "|Serie A                |12            |\n",
      "|UEFA Euro              |55            |\n",
      "|UEFA Europa League     |35            |\n",
      "|UEFA Women's Euro      |53            |\n",
      "|Women's World Cup      |72            |\n",
      "+-----------------------+--------------+\n",
      "\n"
     ]
    },
    {
     "name": "stderr",
     "output_type": "stream",
     "text": [
      "                                                                                \r"
     ]
    }
   ],
   "source": [
    "df_competition.select(\"competition_name\", \"competition_id\").distinct().orderBy(\"competition_name\").show(truncate=False)"
   ]
  },
  {
   "cell_type": "markdown",
   "metadata": {},
   "source": [
    "## Qual é a edição de Champions League mais recente ?"
   ]
  },
  {
   "cell_type": "code",
   "execution_count": 8,
   "metadata": {},
   "outputs": [
    {
     "name": "stdout",
     "output_type": "stream",
     "text": [
      "+--------------+----------------+---------+-----------+\n",
      "|competition_id|competition_name|season_id|season_name|\n",
      "+--------------+----------------+---------+-----------+\n",
      "|            16|Champions League|        4|  2018/2019|\n",
      "|            16|Champions League|        1|  2017/2018|\n",
      "|            16|Champions League|        2|  2016/2017|\n",
      "|            16|Champions League|       27|  2015/2016|\n",
      "|            16|Champions League|       26|  2014/2015|\n",
      "|            16|Champions League|       25|  2013/2014|\n",
      "|            16|Champions League|       24|  2012/2013|\n",
      "|            16|Champions League|       23|  2011/2012|\n",
      "|            16|Champions League|       22|  2010/2011|\n",
      "|            16|Champions League|       21|  2009/2010|\n",
      "|            16|Champions League|       41|  2008/2009|\n",
      "|            16|Champions League|       39|  2006/2007|\n",
      "|            16|Champions League|       37|  2004/2005|\n",
      "|            16|Champions League|       44|  2003/2004|\n",
      "|            16|Champions League|       76|  1999/2000|\n",
      "|            16|Champions League|      277|  1972/1973|\n",
      "|            16|Champions League|       71|  1971/1972|\n",
      "|            16|Champions League|      276|  1970/1971|\n",
      "+--------------+----------------+---------+-----------+\n",
      "\n"
     ]
    }
   ],
   "source": [
    "df_champions = df_competition.select(\"competition_id\", \"competition_name\", \"season_id\", \"season_name\").where(\"competition_id = 16\").orderBy(df_competition.season_name.desc())\n",
    "df_champions.show()"
   ]
  },
  {
   "cell_type": "code",
   "execution_count": 9,
   "metadata": {},
   "outputs": [
    {
     "name": "stdout",
     "output_type": "stream",
     "text": [
      "+-------------------+\n",
      "|season_mais_recente|\n",
      "+-------------------+\n",
      "|          2018/2019|\n",
      "+-------------------+\n",
      "\n"
     ]
    }
   ],
   "source": [
    "champions_mais_recente = df_champions.agg({\"season_name\":\"max\"}).withColumnRenamed(\"max(season_name)\", \"season_mais_recente\")\n",
    "\n",
    "champions_mais_recente.show()\n"
   ]
  },
  {
   "cell_type": "markdown",
   "metadata": {},
   "source": [
    "## Qual o time campeão da última edição da Champions League ?"
   ]
  },
  {
   "cell_type": "code",
   "execution_count": 11,
   "metadata": {},
   "outputs": [],
   "source": [
    "competition_id  = 16\n",
    "season_id = 4\n",
    "\n",
    "df_jogos_ultima_temporada_champions = spark.read.option(\"multiline\", \"true\").json(f\"s3://sor/football/data/matches/{competition_id}/{season_id}.json\")\n",
    "\n"
   ]
  },
  {
   "cell_type": "code",
   "execution_count": 13,
   "metadata": {},
   "outputs": [
    {
     "name": "stdout",
     "output_type": "stream",
     "text": [
      "root\n",
      " |-- away_score: long (nullable = true)\n",
      " |-- away_team: struct (nullable = true)\n",
      " |    |-- away_team_gender: string (nullable = true)\n",
      " |    |-- away_team_group: string (nullable = true)\n",
      " |    |-- away_team_id: long (nullable = true)\n",
      " |    |-- away_team_name: string (nullable = true)\n",
      " |    |-- country: struct (nullable = true)\n",
      " |    |    |-- id: long (nullable = true)\n",
      " |    |    |-- name: string (nullable = true)\n",
      " |    |-- managers: array (nullable = true)\n",
      " |    |    |-- element: struct (containsNull = true)\n",
      " |    |    |    |-- country: struct (nullable = true)\n",
      " |    |    |    |    |-- id: long (nullable = true)\n",
      " |    |    |    |    |-- name: string (nullable = true)\n",
      " |    |    |    |-- dob: string (nullable = true)\n",
      " |    |    |    |-- id: long (nullable = true)\n",
      " |    |    |    |-- name: string (nullable = true)\n",
      " |    |    |    |-- nickname: string (nullable = true)\n",
      " |-- competition: struct (nullable = true)\n",
      " |    |-- competition_id: long (nullable = true)\n",
      " |    |-- competition_name: string (nullable = true)\n",
      " |    |-- country_name: string (nullable = true)\n",
      " |-- competition_stage: struct (nullable = true)\n",
      " |    |-- id: long (nullable = true)\n",
      " |    |-- name: string (nullable = true)\n",
      " |-- home_score: long (nullable = true)\n",
      " |-- home_team: struct (nullable = true)\n",
      " |    |-- country: struct (nullable = true)\n",
      " |    |    |-- id: long (nullable = true)\n",
      " |    |    |-- name: string (nullable = true)\n",
      " |    |-- home_team_gender: string (nullable = true)\n",
      " |    |-- home_team_group: string (nullable = true)\n",
      " |    |-- home_team_id: long (nullable = true)\n",
      " |    |-- home_team_name: string (nullable = true)\n",
      " |    |-- managers: array (nullable = true)\n",
      " |    |    |-- element: struct (containsNull = true)\n",
      " |    |    |    |-- country: struct (nullable = true)\n",
      " |    |    |    |    |-- id: long (nullable = true)\n",
      " |    |    |    |    |-- name: string (nullable = true)\n",
      " |    |    |    |-- dob: string (nullable = true)\n",
      " |    |    |    |-- id: long (nullable = true)\n",
      " |    |    |    |-- name: string (nullable = true)\n",
      " |    |    |    |-- nickname: string (nullable = true)\n",
      " |-- kick_off: string (nullable = true)\n",
      " |-- last_updated: string (nullable = true)\n",
      " |-- last_updated_360: string (nullable = true)\n",
      " |-- match_date: string (nullable = true)\n",
      " |-- match_id: long (nullable = true)\n",
      " |-- match_status: string (nullable = true)\n",
      " |-- match_status_360: string (nullable = true)\n",
      " |-- match_week: long (nullable = true)\n",
      " |-- metadata: struct (nullable = true)\n",
      " |    |-- data_version: string (nullable = true)\n",
      " |    |-- shot_fidelity_version: string (nullable = true)\n",
      " |    |-- xy_fidelity_version: string (nullable = true)\n",
      " |-- referee: struct (nullable = true)\n",
      " |    |-- country: struct (nullable = true)\n",
      " |    |    |-- id: long (nullable = true)\n",
      " |    |    |-- name: string (nullable = true)\n",
      " |    |-- id: long (nullable = true)\n",
      " |    |-- name: string (nullable = true)\n",
      " |-- season: struct (nullable = true)\n",
      " |    |-- season_id: long (nullable = true)\n",
      " |    |-- season_name: string (nullable = true)\n",
      " |-- stadium: struct (nullable = true)\n",
      " |    |-- country: struct (nullable = true)\n",
      " |    |    |-- id: long (nullable = true)\n",
      " |    |    |-- name: string (nullable = true)\n",
      " |    |-- id: long (nullable = true)\n",
      " |    |-- name: string (nullable = true)\n",
      "\n"
     ]
    }
   ],
   "source": [
    "df_jogos_ultima_temporada_champions.printSchema()"
   ]
  },
  {
   "cell_type": "code",
   "execution_count": 14,
   "metadata": {},
   "outputs": [
    {
     "name": "stdout",
     "output_type": "stream",
     "text": [
      "+----------+--------------------+--------------------+-----------------+----------+--------------------+------------+--------------------+--------------------+----------+--------+------------+----------------+----------+-------------+--------------------+--------------+--------------------+\n",
      "|away_score|           away_team|         competition|competition_stage|home_score|           home_team|    kick_off|        last_updated|    last_updated_360|match_date|match_id|match_status|match_status_360|match_week|     metadata|             referee|        season|             stadium|\n",
      "+----------+--------------------+--------------------+-----------------+----------+--------------------+------------+--------------------+--------------------+----------+--------+------------+----------------+----------+-------------+--------------------+--------------+--------------------+\n",
      "|         2|{male, null, 24, ...|{16, Champions Le...|      {26, Final}|         0|{{68, England}, m...|21:00:00.000|2022-11-28T14:45:...|2021-06-13T16:17:...|2019-06-01|   22912|   available|       scheduled|        13|{1.1.0, 2, 2}|{{208, Slovenia},...|{4, 2018/2019}|{{214, Spain}, 46...|\n",
      "+----------+--------------------+--------------------+-----------------+----------+--------------------+------------+--------------------+--------------------+----------+--------+------------+----------------+----------+-------------+--------------------+--------------+--------------------+\n",
      "\n"
     ]
    }
   ],
   "source": [
    "df_jogos_ultima_temporada_champions.show()"
   ]
  },
  {
   "cell_type": "code",
   "execution_count": 18,
   "metadata": {},
   "outputs": [
    {
     "name": "stdout",
     "output_type": "stream",
     "text": [
      "+-----------------+----------+--------------+----------+\n",
      "|   home_team_name|home_score|away_team_name|away_score|\n",
      "+-----------------+----------+--------------+----------+\n",
      "|Tottenham Hotspur|         0|     Liverpool|         2|\n",
      "+-----------------+----------+--------------+----------+\n",
      "\n"
     ]
    }
   ],
   "source": [
    "df_final_champions = df_jogos_ultima_temporada_champions.select(\"home_team.home_team_name\", \"home_score\", \"away_team.away_team_name\", \"away_score\").where(\"competition_stage.id = 26\")\n",
    "\n",
    "df_final_champions.show()"
   ]
  },
  {
   "cell_type": "code",
   "execution_count": 23,
   "metadata": {},
   "outputs": [
    {
     "name": "stdout",
     "output_type": "stream",
     "text": [
      "+---------+\n",
      "|  campeao|\n",
      "+---------+\n",
      "|Liverpool|\n",
      "+---------+\n",
      "\n"
     ]
    }
   ],
   "source": [
    "df_campeao =  df_final_champions.select(\\\n",
    "                                        sf.when(df_final_champions.home_score > df_final_champions.away_score, df_final_champions.home_team_name)\\\n",
    "                                        .otherwise(df_final_champions.away_team_name)\\\n",
    "                                        )\\\n",
    "                                .withColumnRenamed(\"CASE WHEN (home_score > away_score) THEN home_team_name ELSE away_team_name END\", \"campeao\")\n",
    "df_campeao.show()"
   ]
  },
  {
   "cell_type": "markdown",
   "metadata": {},
   "source": [
    "## Qual jogador marcou o ultimo gol da edição mais recente da Champions League ?"
   ]
  },
  {
   "cell_type": "code",
   "execution_count": 26,
   "metadata": {},
   "outputs": [
    {
     "name": "stdout",
     "output_type": "stream",
     "text": [
      "root\n",
      " |-- 50_50: struct (nullable = true)\n",
      " |    |-- outcome: struct (nullable = true)\n",
      " |    |    |-- id: long (nullable = true)\n",
      " |    |    |-- name: string (nullable = true)\n",
      " |-- ball_receipt: struct (nullable = true)\n",
      " |    |-- outcome: struct (nullable = true)\n",
      " |    |    |-- id: long (nullable = true)\n",
      " |    |    |-- name: string (nullable = true)\n",
      " |-- ball_recovery: struct (nullable = true)\n",
      " |    |-- recovery_failure: boolean (nullable = true)\n",
      " |-- block: struct (nullable = true)\n",
      " |    |-- deflection: boolean (nullable = true)\n",
      " |    |-- offensive: boolean (nullable = true)\n",
      " |-- carry: struct (nullable = true)\n",
      " |    |-- end_location: array (nullable = true)\n",
      " |    |    |-- element: double (containsNull = true)\n",
      " |-- clearance: struct (nullable = true)\n",
      " |    |-- aerial_won: boolean (nullable = true)\n",
      " |    |-- body_part: struct (nullable = true)\n",
      " |    |    |-- id: long (nullable = true)\n",
      " |    |    |-- name: string (nullable = true)\n",
      " |    |-- head: boolean (nullable = true)\n",
      " |    |-- left_foot: boolean (nullable = true)\n",
      " |    |-- other: boolean (nullable = true)\n",
      " |    |-- right_foot: boolean (nullable = true)\n",
      " |-- counterpress: boolean (nullable = true)\n",
      " |-- dribble: struct (nullable = true)\n",
      " |    |-- nutmeg: boolean (nullable = true)\n",
      " |    |-- outcome: struct (nullable = true)\n",
      " |    |    |-- id: long (nullable = true)\n",
      " |    |    |-- name: string (nullable = true)\n",
      " |    |-- overrun: boolean (nullable = true)\n",
      " |-- duel: struct (nullable = true)\n",
      " |    |-- outcome: struct (nullable = true)\n",
      " |    |    |-- id: long (nullable = true)\n",
      " |    |    |-- name: string (nullable = true)\n",
      " |    |-- type: struct (nullable = true)\n",
      " |    |    |-- id: long (nullable = true)\n",
      " |    |    |-- name: string (nullable = true)\n",
      " |-- duration: double (nullable = true)\n",
      " |-- foul_committed: struct (nullable = true)\n",
      " |    |-- advantage: boolean (nullable = true)\n",
      " |    |-- offensive: boolean (nullable = true)\n",
      " |    |-- penalty: boolean (nullable = true)\n",
      " |    |-- type: struct (nullable = true)\n",
      " |    |    |-- id: long (nullable = true)\n",
      " |    |    |-- name: string (nullable = true)\n",
      " |-- foul_won: struct (nullable = true)\n",
      " |    |-- advantage: boolean (nullable = true)\n",
      " |    |-- defensive: boolean (nullable = true)\n",
      " |-- goalkeeper: struct (nullable = true)\n",
      " |    |-- body_part: struct (nullable = true)\n",
      " |    |    |-- id: long (nullable = true)\n",
      " |    |    |-- name: string (nullable = true)\n",
      " |    |-- end_location: array (nullable = true)\n",
      " |    |    |-- element: double (containsNull = true)\n",
      " |    |-- outcome: struct (nullable = true)\n",
      " |    |    |-- id: long (nullable = true)\n",
      " |    |    |-- name: string (nullable = true)\n",
      " |    |-- position: struct (nullable = true)\n",
      " |    |    |-- id: long (nullable = true)\n",
      " |    |    |-- name: string (nullable = true)\n",
      " |    |-- punched_out: boolean (nullable = true)\n",
      " |    |-- technique: struct (nullable = true)\n",
      " |    |    |-- id: long (nullable = true)\n",
      " |    |    |-- name: string (nullable = true)\n",
      " |    |-- type: struct (nullable = true)\n",
      " |    |    |-- id: long (nullable = true)\n",
      " |    |    |-- name: string (nullable = true)\n",
      " |-- id: string (nullable = true)\n",
      " |-- index: long (nullable = true)\n",
      " |-- interception: struct (nullable = true)\n",
      " |    |-- outcome: struct (nullable = true)\n",
      " |    |    |-- id: long (nullable = true)\n",
      " |    |    |-- name: string (nullable = true)\n",
      " |-- location: array (nullable = true)\n",
      " |    |-- element: double (containsNull = true)\n",
      " |-- minute: long (nullable = true)\n",
      " |-- off_camera: boolean (nullable = true)\n",
      " |-- out: boolean (nullable = true)\n",
      " |-- pass: struct (nullable = true)\n",
      " |    |-- aerial_won: boolean (nullable = true)\n",
      " |    |-- angle: double (nullable = true)\n",
      " |    |-- assisted_shot_id: string (nullable = true)\n",
      " |    |-- body_part: struct (nullable = true)\n",
      " |    |    |-- id: long (nullable = true)\n",
      " |    |    |-- name: string (nullable = true)\n",
      " |    |-- cross: boolean (nullable = true)\n",
      " |    |-- cut_back: boolean (nullable = true)\n",
      " |    |-- deflected: boolean (nullable = true)\n",
      " |    |-- end_location: array (nullable = true)\n",
      " |    |    |-- element: double (containsNull = true)\n",
      " |    |-- goal_assist: boolean (nullable = true)\n",
      " |    |-- height: struct (nullable = true)\n",
      " |    |    |-- id: long (nullable = true)\n",
      " |    |    |-- name: string (nullable = true)\n",
      " |    |-- inswinging: boolean (nullable = true)\n",
      " |    |-- length: double (nullable = true)\n",
      " |    |-- outcome: struct (nullable = true)\n",
      " |    |    |-- id: long (nullable = true)\n",
      " |    |    |-- name: string (nullable = true)\n",
      " |    |-- outswinging: boolean (nullable = true)\n",
      " |    |-- recipient: struct (nullable = true)\n",
      " |    |    |-- id: long (nullable = true)\n",
      " |    |    |-- name: string (nullable = true)\n",
      " |    |-- shot_assist: boolean (nullable = true)\n",
      " |    |-- straight: boolean (nullable = true)\n",
      " |    |-- switch: boolean (nullable = true)\n",
      " |    |-- technique: struct (nullable = true)\n",
      " |    |    |-- id: long (nullable = true)\n",
      " |    |    |-- name: string (nullable = true)\n",
      " |    |-- through_ball: boolean (nullable = true)\n",
      " |    |-- type: struct (nullable = true)\n",
      " |    |    |-- id: long (nullable = true)\n",
      " |    |    |-- name: string (nullable = true)\n",
      " |-- period: long (nullable = true)\n",
      " |-- play_pattern: struct (nullable = true)\n",
      " |    |-- id: long (nullable = true)\n",
      " |    |-- name: string (nullable = true)\n",
      " |-- player: struct (nullable = true)\n",
      " |    |-- id: long (nullable = true)\n",
      " |    |-- name: string (nullable = true)\n",
      " |-- position: struct (nullable = true)\n",
      " |    |-- id: long (nullable = true)\n",
      " |    |-- name: string (nullable = true)\n",
      " |-- possession: long (nullable = true)\n",
      " |-- possession_team: struct (nullable = true)\n",
      " |    |-- id: long (nullable = true)\n",
      " |    |-- name: string (nullable = true)\n",
      " |-- related_events: array (nullable = true)\n",
      " |    |-- element: string (containsNull = true)\n",
      " |-- second: long (nullable = true)\n",
      " |-- shot: struct (nullable = true)\n",
      " |    |-- aerial_won: boolean (nullable = true)\n",
      " |    |-- body_part: struct (nullable = true)\n",
      " |    |    |-- id: long (nullable = true)\n",
      " |    |    |-- name: string (nullable = true)\n",
      " |    |-- end_location: array (nullable = true)\n",
      " |    |    |-- element: double (containsNull = true)\n",
      " |    |-- first_time: boolean (nullable = true)\n",
      " |    |-- freeze_frame: array (nullable = true)\n",
      " |    |    |-- element: struct (containsNull = true)\n",
      " |    |    |    |-- location: array (nullable = true)\n",
      " |    |    |    |    |-- element: double (containsNull = true)\n",
      " |    |    |    |-- player: struct (nullable = true)\n",
      " |    |    |    |    |-- id: long (nullable = true)\n",
      " |    |    |    |    |-- name: string (nullable = true)\n",
      " |    |    |    |-- position: struct (nullable = true)\n",
      " |    |    |    |    |-- id: long (nullable = true)\n",
      " |    |    |    |    |-- name: string (nullable = true)\n",
      " |    |    |    |-- teammate: boolean (nullable = true)\n",
      " |    |-- key_pass_id: string (nullable = true)\n",
      " |    |-- outcome: struct (nullable = true)\n",
      " |    |    |-- id: long (nullable = true)\n",
      " |    |    |-- name: string (nullable = true)\n",
      " |    |-- statsbomb_xg: double (nullable = true)\n",
      " |    |-- technique: struct (nullable = true)\n",
      " |    |    |-- id: long (nullable = true)\n",
      " |    |    |-- name: string (nullable = true)\n",
      " |    |-- type: struct (nullable = true)\n",
      " |    |    |-- id: long (nullable = true)\n",
      " |    |    |-- name: string (nullable = true)\n",
      " |-- substitution: struct (nullable = true)\n",
      " |    |-- outcome: struct (nullable = true)\n",
      " |    |    |-- id: long (nullable = true)\n",
      " |    |    |-- name: string (nullable = true)\n",
      " |    |-- replacement: struct (nullable = true)\n",
      " |    |    |-- id: long (nullable = true)\n",
      " |    |    |-- name: string (nullable = true)\n",
      " |-- tactics: struct (nullable = true)\n",
      " |    |-- formation: long (nullable = true)\n",
      " |    |-- lineup: array (nullable = true)\n",
      " |    |    |-- element: struct (containsNull = true)\n",
      " |    |    |    |-- jersey_number: long (nullable = true)\n",
      " |    |    |    |-- player: struct (nullable = true)\n",
      " |    |    |    |    |-- id: long (nullable = true)\n",
      " |    |    |    |    |-- name: string (nullable = true)\n",
      " |    |    |    |-- position: struct (nullable = true)\n",
      " |    |    |    |    |-- id: long (nullable = true)\n",
      " |    |    |    |    |-- name: string (nullable = true)\n",
      " |-- team: struct (nullable = true)\n",
      " |    |-- id: long (nullable = true)\n",
      " |    |-- name: string (nullable = true)\n",
      " |-- timestamp: string (nullable = true)\n",
      " |-- type: struct (nullable = true)\n",
      " |    |-- id: long (nullable = true)\n",
      " |    |-- name: string (nullable = true)\n",
      " |-- under_pressure: boolean (nullable = true)\n",
      "\n"
     ]
    }
   ],
   "source": [
    "final_ultima_champions_id = 22912\n",
    "\n",
    "df_lances_da_final = spark.read.option(\"multiline\", \"true\").json(f\"s3://sor/football/data/events/{final_ultima_champions_id}.json\")\n",
    "\n",
    "df_lances_da_final.printSchema()\n"
   ]
  },
  {
   "cell_type": "code",
   "execution_count": 27,
   "metadata": {},
   "outputs": [
    {
     "name": "stderr",
     "output_type": "stream",
     "text": [
      "23/12/25 21:40:18 WARN package: Truncated the string representation of a plan since it was too large. This behavior can be adjusted by setting 'spark.sql.debug.maxToStringFields'.\n",
      "[Stage 21:>                                                         (0 + 1) / 1]\r"
     ]
    },
    {
     "name": "stdout",
     "output_type": "stream",
     "text": [
      "+-----+-----------------+-------------+-----+--------------+---------+------------+-------+--------------------+--------+--------------+--------+----------+--------------------+-----+------------+------------+------+----------+----+--------------------+------+------------------+--------------------+--------------------+----------+--------------------+--------------------+------+----+------------+--------------------+--------------------+------------+-------------------+--------------+\n",
      "|50_50|     ball_receipt|ball_recovery|block|         carry|clearance|counterpress|dribble|                duel|duration|foul_committed|foul_won|goalkeeper|                  id|index|interception|    location|minute|off_camera| out|                pass|period|      play_pattern|              player|            position|possession|     possession_team|      related_events|second|shot|substitution|             tactics|                team|   timestamp|               type|under_pressure|\n",
      "+-----+-----------------+-------------+-----+--------------+---------+------------+-------+--------------------+--------+--------------+--------+----------+--------------------+-----+------------+------------+------+----------+----+--------------------+------+------------------+--------------------+--------------------+----------+--------------------+--------------------+------+----+------------+--------------------+--------------------+------------+-------------------+--------------+\n",
      "| null|             null|         null| null|          null|     null|        null|   null|                null|     0.0|          null|    null|      null|9ec3d009-c15b-4a8...|    1|        null|        null|     0|      null|null|                null|     1| {1, Regular Play}|                null|                null|         1|{38, Tottenham Ho...|                null|     0|null|        null|{4231, [{1, {3099...|{38, Tottenham Ho...|00:00:00.000|  {35, Starting XI}|          null|\n",
      "| null|             null|         null| null|          null|     null|        null|   null|                null|     0.0|          null|    null|      null|e8bdb5d1-8bcb-4a0...|    2|        null|        null|     0|      null|null|                null|     1| {1, Regular Play}|                null|                null|         1|{38, Tottenham Ho...|                null|     0|null|        null|{433, [{13, {5547...|     {24, Liverpool}|00:00:00.000|  {35, Starting XI}|          null|\n",
      "| null|             null|         null| null|          null|     null|        null|   null|                null|     0.0|          null|    null|      null|00b678a4-3767-4d0...|    3|        null|        null|     0|      null|null|                null|     1| {1, Regular Play}|                null|                null|         1|{38, Tottenham Ho...|[05840f64-0fb7-4f...|     0|null|        null|                null|     {24, Liverpool}|00:00:00.000|   {18, Half Start}|          null|\n",
      "| null|             null|         null| null|          null|     null|        null|   null|                null|     0.0|          null|    null|      null|05840f64-0fb7-4f2...|    4|        null|        null|     0|      null|null|                null|     1| {1, Regular Play}|                null|                null|         1|{38, Tottenham Ho...|[00b678a4-3767-4d...|     0|null|        null|                null|{38, Tottenham Ho...|00:00:00.000|   {18, Half Start}|          null|\n",
      "| null|             null|         null| null|          null|     null|        null|   null|                null|1.666205|          null|    null|      null|b67ef6a9-e877-4db...|    5|        null|[61.0, 40.1]|     0|      null|null|{null, 3.005404, ...|     1|{9, From Kick Off}|{3532, Jordan Bri...|{13, Right Center...|         2|     {24, Liverpool}|[c7297515-ae92-4f...|     0|null|        null|                null|     {24, Liverpool}|00:00:00.208|         {30, Pass}|          null|\n",
      "| null|             null|         null| null|          null|     null|        null|   null|                null|    null|          null|    null|      null|c7297515-ae92-4fb...|    6|        null|[34.0, 43.8]|     0|      null|null|                null|     1|{9, From Kick Off}|{3502, Joël Andre...|{3, Right Center ...|         2|     {24, Liverpool}|[b67ef6a9-e877-4d...|     1|null|        null|                null|     {24, Liverpool}|00:00:01.875|{42, Ball Receipt*}|          null|\n",
      "| null|             null|         null| null|{[36.1, 44.0]}|     null|        null|   null|                null|1.482954|          null|    null|      null|609587a5-193c-469...|    7|        null|[34.0, 43.8]|     0|      null|null|                null|     1|{9, From Kick Off}|{3502, Joël Andre...|{3, Right Center ...|         2|     {24, Liverpool}|[10f8eed9-fa49-41...|     1|null|        null|                null|     {24, Liverpool}|00:00:01.875|        {43, Carry}|          null|\n",
      "| null|             null|         null| null|          null|     null|        null|   null|                null|2.040173|          null|    null|      null|10f8eed9-fa49-417...|    8|        null|[36.1, 44.0]|     0|      null|null|{null, -0.6759472...|     1|{9, From Kick Off}|{3502, Joël Andre...|{3, Right Center ...|         2|     {24, Liverpool}|[07a666b8-c9d8-43...|     3|null|        null|                null|     {24, Liverpool}|00:00:03.358|         {30, Pass}|          null|\n",
      "| null|{{9, Incomplete}}|         null| null|          null|     null|        null|   null|                null|    null|          null|    null|      null|07a666b8-c9d8-437...|    9|        null| [87.4, 1.6]|     0|      null|null|                null|     1|{9, From Kick Off}|  {3629, Sadio Mané}|     {21, Left Wing}|         2|     {24, Liverpool}|[10f8eed9-fa49-41...|     5|null|        null|                null|     {24, Liverpool}|00:00:05.398|{42, Ball Receipt*}|          null|\n",
      "| null|             null|         null| null|          null|     null|        null|   null|                null|2.305768|          null|    null|      null|3cb70cbe-9267-43e...|   10|        null|[33.5, 76.6]|     0|      null|null|{null, -0.4712376...|     1|{9, From Kick Off}|{3308, Kieran Tri...|     {2, Right Back}|         2|     {24, Liverpool}|[0c45c33c-2e7b-48...|     5|null|        null|                null|{38, Tottenham Ho...|00:00:05.398|         {30, Pass}|          null|\n",
      "| null|{{9, Incomplete}}|         null| null|          null|     null|        null|   null|                null|    null|          null|    null|      null|0c45c33c-2e7b-482...|   11|        null|[51.2, 69.1]|     0|      null|null|                null|     1|{9, From Kick Off}| {10955, Harry Kane}|{23, Center Forward}|         2|     {24, Liverpool}|[3cb70cbe-9267-43...|     7|null|        null|                null|{38, Tottenham Ho...|00:00:07.704|{42, Ball Receipt*}|          null|\n",
      "| null|             null|         null| null|          null|     null|        null|   null|                null|1.150397|          null|    null|      null|9babcee7-0db0-4cf...|   12|        null|[65.6, 14.2]|     0|      null|null|{null, 0.16703369...|     1|{9, From Kick Off}|{3247, Fábio Henr...|{10, Center Defen...|         2|     {24, Liverpool}|[3cb70cbe-9267-43...|     7|null|        null|                null|     {24, Liverpool}|00:00:07.704|         {30, Pass}|          null|\n",
      "| null|{{9, Incomplete}}|         null| null|          null|     null|        null|   null|                null|    null|          null|    null|      null|c1eae3aa-6fd0-459...|   13|        null|[78.8, 12.9]|     0|      null|null|                null|     1|{9, From Kick Off}|{3535, Roberto Fi...|{23, Center Forward}|         2|     {24, Liverpool}|[9babcee7-0db0-4c...|     8|null|        null|                null|     {24, Liverpool}|00:00:08.854|{42, Ball Receipt*}|          null|\n",
      "| null|             null|         null| null|          null|     null|        null|   null|                null|1.564903|          null|    null|      null|ed845f12-5ed4-40e...|   14|        null|[37.3, 63.0]|     0|      null|null|{null, -0.2938693...|     1|{9, From Kick Off}|{3091, Moussa Sis...|{9, Right Defensi...|         2|     {24, Liverpool}|[70ba5469-65c6-45...|     8|null|        null|                null|{38, Tottenham Ho...|00:00:08.854|         {30, Pass}|          null|\n",
      "| null|{{9, Incomplete}}|         null| null|          null|     null|        null|   null|                null|    null|          null|    null|      null|7d2c9d00-6155-483...|   15|        null|[42.8, 59.0]|     0|      null|null|                null|     1|{9, From Kick Off}| {3082, Harry Winks}|{15, Left Center ...|         2|     {24, Liverpool}|[ed845f12-5ed4-40...|    10|null|        null|                null|{38, Tottenham Ho...|00:00:10.419|{42, Ball Receipt*}|          null|\n",
      "| null|             null|         null| null|          null|     null|        null|   null|{null, {10, Aeria...|     0.0|          null|    null|      null|8887961c-cda3-4c7...|   16|        null|[44.9, 60.7]|     0|      null|null|                null|     1|{9, From Kick Off}| {3082, Harry Winks}|{15, Left Center ...|         2|     {24, Liverpool}|[70ba5469-65c6-45...|    10|null|        null|                null|{38, Tottenham Ho...|00:00:10.419|          {4, Duel}|          true|\n",
      "| null|             null|         null| null|          null|     null|        null|   null|                null|0.687803|          null|    null|      null|70ba5469-65c6-457...|   17|        null|[75.2, 19.4]|     0|      null|null|{true, 0.08018485...|     1|{9, From Kick Off}|{3532, Jordan Bri...|{13, Right Center...|         2|     {24, Liverpool}|[1691bc21-e242-4b...|    10|null|        null|                null|     {24, Liverpool}|00:00:10.419|         {30, Pass}|          true|\n",
      "| null|{{9, Incomplete}}|         null| null|          null|     null|        null|   null|                null|    null|          null|    null|      null|1691bc21-e242-4ba...|   18|        null|[91.0, 18.6]|     0|      null|null|                null|     1|{9, From Kick Off}|  {3629, Sadio Mané}|     {21, Left Wing}|         2|     {24, Liverpool}|[70ba5469-65c6-45...|    11|null|        null|                null|     {24, Liverpool}|00:00:11.107|{42, Ball Receipt*}|          null|\n",
      "| null|             null|         null| null|          null|     null|        null|   null|                null|3.797797|          null|    null|      null|66785f3c-c999-447...|   19|        null|[33.7, 59.8]|     0|      null|null|{null, 0.02601643...|     1|{9, From Kick Off}|{20005, Toby Alde...|{3, Right Center ...|         2|     {24, Liverpool}|[3b52ec7a-0b60-48...|    11|null|        null|                null|{38, Tottenham Ho...|00:00:11.107|         {30, Pass}|          null|\n",
      "| null|{{9, Incomplete}}|         null| null|          null|     null|        null|   null|                null|    null|          null|    null|      null|5dd70c63-4030-47d...|   20|        null|[60.8, 62.6]|     0|      null|null|                null|     1|{9, From Kick Off}| {10955, Harry Kane}|{23, Center Forward}|         2|     {24, Liverpool}|[66785f3c-c999-44...|    14|null|        null|                null|{38, Tottenham Ho...|00:00:14.904|{42, Ball Receipt*}|          null|\n",
      "+-----+-----------------+-------------+-----+--------------+---------+------------+-------+--------------------+--------+--------------+--------+----------+--------------------+-----+------------+------------+------+----------+----+--------------------+------+------------------+--------------------+--------------------+----------+--------------------+--------------------+------+----+------------+--------------------+--------------------+------------+-------------------+--------------+\n",
      "only showing top 20 rows\n",
      "\n"
     ]
    },
    {
     "name": "stderr",
     "output_type": "stream",
     "text": [
      "                                                                                \r"
     ]
    }
   ],
   "source": [
    "df_lances_da_final.show()"
   ]
  },
  {
   "cell_type": "code",
   "execution_count": 28,
   "metadata": {},
   "outputs": [
    {
     "data": {
      "text/plain": [
       "['50_50',\n",
       " 'ball_receipt',\n",
       " 'ball_recovery',\n",
       " 'block',\n",
       " 'carry',\n",
       " 'clearance',\n",
       " 'counterpress',\n",
       " 'dribble',\n",
       " 'duel',\n",
       " 'duration',\n",
       " 'foul_committed',\n",
       " 'foul_won',\n",
       " 'goalkeeper',\n",
       " 'id',\n",
       " 'index',\n",
       " 'interception',\n",
       " 'location',\n",
       " 'minute',\n",
       " 'off_camera',\n",
       " 'out',\n",
       " 'pass',\n",
       " 'period',\n",
       " 'play_pattern',\n",
       " 'player',\n",
       " 'position',\n",
       " 'possession',\n",
       " 'possession_team',\n",
       " 'related_events',\n",
       " 'second',\n",
       " 'shot',\n",
       " 'substitution',\n",
       " 'tactics',\n",
       " 'team',\n",
       " 'timestamp',\n",
       " 'type',\n",
       " 'under_pressure']"
      ]
     },
     "execution_count": 28,
     "metadata": {},
     "output_type": "execute_result"
    }
   ],
   "source": [
    "df_lances_da_final.columns"
   ]
  },
  {
   "cell_type": "code",
   "execution_count": 31,
   "metadata": {},
   "outputs": [
    {
     "name": "stdout",
     "output_type": "stream",
     "text": [
      "[]\n"
     ]
    }
   ],
   "source": [
    "# Verificando se a chave 'outcome' está como coluna no dataframe\n",
    "selected_cols = [col for col in df_lances_da_final.columns if col == \"outcome\"]\n",
    "print(selected_cols)\n",
    "\n"
   ]
  },
  {
   "cell_type": "code",
   "execution_count": 33,
   "metadata": {},
   "outputs": [
    {
     "name": "stdout",
     "output_type": "stream",
     "text": [
      "['shot']\n"
     ]
    }
   ],
   "source": [
    "# Verificando se a chave 'shot' está como coluna no dataframe\n",
    "selected_cols = [col for col in df_lances_da_final.columns if col == \"shot\"]\n",
    "print(selected_cols)"
   ]
  },
  {
   "cell_type": "code",
   "execution_count": 44,
   "metadata": {},
   "outputs": [
    {
     "name": "stdout",
     "output_type": "stream",
     "text": [
      "+------------------+------+\n",
      "|              name|minute|\n",
      "+------------------+------+\n",
      "|Divock Okoth Origi|    86|\n",
      "|     Mohamed Salah|     1|\n",
      "+------------------+------+\n",
      "\n"
     ]
    }
   ],
   "source": [
    "lance_tipo_gol_id = 97\n",
    "df_gols_da_final = df_lances_da_final.select(\"player.name\", \"minute\").where(f\"shot.outcome.id = {lance_tipo_gol_id}\").orderBy(df_lances_da_final.minute.desc())\n",
    "\n",
    "df_gols_da_final.show()"
   ]
  },
  {
   "cell_type": "code",
   "execution_count": 46,
   "metadata": {},
   "outputs": [
    {
     "name": "stdout",
     "output_type": "stream",
     "text": [
      "+------------------+------+\n",
      "|              name|minute|\n",
      "+------------------+------+\n",
      "|Divock Okoth Origi|    86|\n",
      "+------------------+------+\n",
      "\n"
     ]
    }
   ],
   "source": [
    "df_ultimo_gol = df_gols_da_final.select(\"name\", \"minute\").limit(1)\n",
    "\n",
    "df_ultimo_gol.show()"
   ]
  },
  {
   "cell_type": "markdown",
   "metadata": {},
   "source": [
    "## Quais são os estádios da base ?"
   ]
  },
  {
   "cell_type": "code",
   "execution_count": 56,
   "metadata": {},
   "outputs": [
    {
     "name": "stdout",
     "output_type": "stream",
     "text": [
      "+--------------+----------------+---------+-----------+\n",
      "|competition_id|competition_name|season_id|season_name|\n",
      "+--------------+----------------+---------+-----------+\n",
      "|             2|  Premier League|       44|  2003/2004|\n",
      "|             2|  Premier League|       27|  2015/2016|\n",
      "|             7|         Ligue 1|      235|  2022/2023|\n",
      "|             7|         Ligue 1|      108|  2021/2022|\n",
      "|             7|         Ligue 1|       27|  2015/2016|\n",
      "|             9|   1. Bundesliga|       27|  2015/2016|\n",
      "|            11|         La Liga|      278|  1973/1974|\n",
      "|            11|         La Liga|       90|  2020/2021|\n",
      "|            11|         La Liga|       42|  2019/2020|\n",
      "|            11|         La Liga|       41|  2008/2009|\n",
      "|            11|         La Liga|       40|  2007/2008|\n",
      "|            11|         La Liga|       39|  2006/2007|\n",
      "|            11|         La Liga|       38|  2005/2006|\n",
      "|            11|         La Liga|       37|  2004/2005|\n",
      "|            11|         La Liga|       27|  2015/2016|\n",
      "|            11|         La Liga|       26|  2014/2015|\n",
      "|            11|         La Liga|       25|  2013/2014|\n",
      "|            11|         La Liga|       24|  2012/2013|\n",
      "|            11|         La Liga|       23|  2011/2012|\n",
      "|            11|         La Liga|       22|  2010/2011|\n",
      "+--------------+----------------+---------+-----------+\n",
      "only showing top 20 rows\n",
      "\n"
     ]
    }
   ],
   "source": [
    "# mapear todas as competições\n",
    "df_competitions_id = df_competition.select(\"competition_id\").distinct().orderBy(\"competition_id\")\n",
    "#df_competitions_id.show()\n",
    "# mapear todas as temporadas dessas competições\n",
    "df_seasons_competitions = df_competition.select(\"competition_id\", \"competition_name\", \"season_id\", \"season_name\").distinct().orderBy(\"competition_id\",sf.desc(\"season_id\"))\n",
    "\n",
    "\n",
    "\n",
    "# percorrer todos os jogos e guardar o nome e id dos estádios\n"
   ]
  },
  {
   "cell_type": "code",
   "execution_count": 3,
   "metadata": {},
   "outputs": [
    {
     "name": "stderr",
     "output_type": "stream",
     "text": [
      "23/12/31 23:31:58 WARN MetricsConfig: Cannot locate configuration: tried hadoop-metrics2-s3a-file-system.properties,hadoop-metrics2.properties\n",
      "                                                                                \r"
     ]
    }
   ],
   "source": [
    "df_event = spark.read.option(\"multiline\", \"true\").json(\"s3://sor/football/data/events/7298.json\")"
   ]
  },
  {
   "cell_type": "code",
   "execution_count": 4,
   "metadata": {},
   "outputs": [
    {
     "name": "stderr",
     "output_type": "stream",
     "text": [
      "23/12/31 23:32:14 WARN package: Truncated the string representation of a plan since it was too large. This behavior can be adjusted by setting 'spark.sql.debug.maxToStringFields'.\n",
      "[Stage 1:>                                                          (0 + 1) / 1]\r"
     ]
    },
    {
     "name": "stdout",
     "output_type": "stream",
     "text": [
      "+-------------+-----------------+-------------+-----+---------------+------------+-------+----+--------+--------------+--------+----------+--------------------+-----+---------------+------------+-------------+------+--------------------+------+-------------------+--------------------+--------------------+----------+--------------------+--------------------+------+----+------------+--------------------+--------------------+------------+-------------------+--------------+\n",
      "|bad_behaviour|     ball_receipt|ball_recovery|block|          carry|counterpress|dribble|duel|duration|foul_committed|foul_won|goalkeeper|                  id|index|injury_stoppage|interception|     location|minute|                pass|period|       play_pattern|              player|            position|possession|     possession_team|      related_events|second|shot|substitution|             tactics|                team|   timestamp|               type|under_pressure|\n",
      "+-------------+-----------------+-------------+-----+---------------+------------+-------+----+--------+--------------+--------+----------+--------------------+-----+---------------+------------+-------------+------+--------------------+------+-------------------+--------------------+--------------------+----------+--------------------+--------------------+------+----+------------+--------------------+--------------------+------------+-------------------+--------------+\n",
      "|         null|             null|         null| null|           null|        null|   null|null|     0.0|          null|    null|      null|0b483cd2-1d36-49a...|    1|           null|        null|         null|     0|                null|     1|  {1, Regular Play}|                null|                null|         1|{746, Manchester ...|                null|     0|null|        null|{433, [{26, {4637...|{746, Manchester ...|00:00:00.000|  {35, Starting XI}|          null|\n",
      "|         null|             null|         null| null|           null|        null|   null|null|     0.0|          null|    null|      null|2c873afb-73bb-48a...|    2|           null|        null|         null|     0|                null|     1|  {1, Regular Play}|                null|                null|         1|{746, Manchester ...|                null|     0|null|        null|{352, [{1, {4640,...|  {971, Chelsea FCW}|00:00:00.000|  {35, Starting XI}|          null|\n",
      "|         null|             null|         null| null|           null|        null|   null|null|    7.96|          null|    null|      null|040940a1-5972-431...|    3|           null|        null|         null|     0|                null|     1|  {1, Regular Play}|                null|                null|         1|{746, Manchester ...|[5ba286bd-c397-4a...|     0|null|        null|                null|{746, Manchester ...|00:00:00.000|   {18, Half Start}|          null|\n",
      "|         null|             null|         null| null|           null|        null|   null|null|    8.16|          null|    null|      null|5ba286bd-c397-4ac...|    4|           null|        null|         null|     0|                null|     1|  {1, Regular Play}|                null|                null|         1|{746, Manchester ...|[040940a1-5972-43...|     0|null|        null|                null|  {971, Chelsea FCW}|00:00:00.000|   {18, Half Start}|          null|\n",
      "|         null|             null|         null| null|           null|        null|   null|null|     0.0|          null|    null|      null|2a456ec2-352c-499...|    5|           null|        null| [61.0, 40.0]|     0|{null, -0.9827937...|     1| {9, From Kick Off}|   {4647, So-Yun Ji}|{14, Center Midfi...|         2|  {971, Chelsea FCW}|[483b7286-e75e-41...|     0|null|        null|                null|  {971, Chelsea FCW}|00:00:00.100|         {30, Pass}|          null|\n",
      "|         null|             null|         null| null|           null|        null|   null|null|    null|          null|    null|      null|483b7286-e75e-419...|    6|           null|        null| [63.0, 37.0]|     0|                null|     1| {9, From Kick Off}|{4659, Ramona Bac...|{24, Left Center ...|         2|  {971, Chelsea FCW}|[2a456ec2-352c-49...|     0|null|        null|                null|  {971, Chelsea FCW}|00:00:00.100|{42, Ball Receipt*}|          null|\n",
      "|         null|             null|         null| null| {[69.0, 33.0]}|        null|   null|null|     0.4|          null|    null|      null|7e908bd8-8e2f-44f...|    7|           null|        null| [63.0, 37.0]|     0|                null|     1| {9, From Kick Off}|{4659, Ramona Bac...|{24, Left Center ...|         2|  {971, Chelsea FCW}|[22f23387-caec-4d...|     0|null|        null|                null|  {971, Chelsea FCW}|00:00:00.100|        {43, Carry}|          true|\n",
      "|         null|             null|         null| null|           null|        null|   null|null|   0.373|          null|    null|      null|22f23387-caec-4dd...|    8|           null|        null| [47.0, 41.0]|     0|                null|     1| {9, From Kick Off}| {4658, Keira Walsh}|{14, Center Midfi...|         2|  {971, Chelsea FCW}|[38023613-6b26-44...|     0|null|        null|                null|{746, Manchester ...|00:00:00.340|     {17, Pressure}|          null|\n",
      "|         null|             null|         null| null|           null|        null|   null|null|    1.64|          null|    null|      null|38023613-6b26-44e...|    9|           null|        null| [69.0, 33.0]|     0|{null, -1.0789871...|     1| {9, From Kick Off}|{4659, Ramona Bac...|{24, Left Center ...|         2|  {971, Chelsea FCW}|[22f23387-caec-4d...|     0|null|        null|                null|  {971, Chelsea FCW}|00:00:00.500|         {30, Pass}|          true|\n",
      "|         null|             null|         null| null|           null|        null|   null|null|    null|          null|    null|      null|f69fd6f1-9f85-4c4...|   10|           null|        null|  [84.0, 5.0]|     0|                null|     1| {9, From Kick Off}|{5088, Crystal Al...| {16, Left Midfield}|         2|  {971, Chelsea FCW}|[38023613-6b26-44...|     2|null|        null|                null|  {971, Chelsea FCW}|00:00:02.140|{42, Ball Receipt*}|          null|\n",
      "|         null|             null|         null| null|{[108.0, 10.0]}|        null|   null|null|     4.6|          null|    null|      null|0d016edd-87cf-4e7...|   11|           null|        null|  [84.0, 5.0]|     0|                null|     1| {9, From Kick Off}|{5088, Crystal Al...| {16, Left Midfield}|         2|  {971, Chelsea FCW}|[ad16a4e6-c1e1-42...|     2|null|        null|                null|  {971, Chelsea FCW}|00:00:02.140|        {43, Carry}|          true|\n",
      "|         null|             null|         null| null|           null|        null|   null|null|   0.733|          null|    null|      null|ad16a4e6-c1e1-42b...|   12|           null|        null| [35.0, 69.0]|     0|                null|     1| {9, From Kick Off}|{4654, Nikita Par...|    {17, Right Wing}|         2|  {971, Chelsea FCW}|[0d016edd-87cf-4e...|     2|null|        null|                null|{746, Manchester ...|00:00:02.700|     {17, Pressure}|          null|\n",
      "|         null|             null|         null| null|           null|        null|   null|null|    null|          null|    null|      null|ccb57323-17d3-43d...|   13|           null|        null|[108.0, 10.0]|     0|                null|     1| {9, From Kick Off}|{5088, Crystal Al...| {16, Left Midfield}|         2|  {971, Chelsea FCW}|                null|     6|null|        null|                null|  {971, Chelsea FCW}|00:00:06.740|   {38, Miscontrol}|          null|\n",
      "|         null|             null|         null| null|           null|        null|   null|null|   0.773|          null|    null|      null|9b12dc9e-c243-40f...|   14|           null|        null| [11.0, 72.0]|     0|                null|     1| {9, From Kick Off}|{4654, Nikita Par...|    {17, Right Wing}|         2|  {971, Chelsea FCW}|                null|     6|null|        null|                null|{746, Manchester ...|00:00:06.980|     {17, Pressure}|          null|\n",
      "|         null|             null|         null| null|           null|        null|   null|null|   2.587|          null|    null|      null|b8c43bec-de04-4cb...|   15|           null|        null|  [6.0, 43.0]|     0|{null, 0.456072, ...|     1|{7, From Goal Kick}|{4637, Ellie Roeb...|     {1, Goalkeeper}|         3|{746, Manchester ...|[e2fbc93d-d820-45...|    25|null|        null|                null|{746, Manchester ...|00:00:25.873|         {30, Pass}|          null|\n",
      "|         null|{{9, Incomplete}}|         null| null|           null|        null|   null|null|    null|          null|    null|      null|e2fbc93d-d820-459...|   16|           null|        null| [59.0, 71.0]|     0|                null|     1|{7, From Goal Kick}|{4654, Nikita Par...|    {17, Right Wing}|         3|{746, Manchester ...|[b8c43bec-de04-4c...|    28|null|        null|                null|{746, Manchester ...|00:00:28.460|{42, Ball Receipt*}|          null|\n",
      "|         null|             null|         null| null|           null|        null|   null|null|   1.173|          null|    null|      null|fa7be948-c79a-4f6...|   17|           null|        null| [62.0, 12.0]|     0|{null, -0.1106572...|     1|{7, From Goal Kick}|{4633, Magdalena ...|{5, Left Center B...|         3|{746, Manchester ...|[7cc1c0c6-2c01-44...|    28|null|        null|                null|  {971, Chelsea FCW}|00:00:28.460|         {30, Pass}|          null|\n",
      "|         null|             null|         null| null|           null|        null|   null|null|    0.16|          null|    null|      null|eec5d261-30c2-468...|   18|           null|        null|  [78.0, 5.0]|     0|                null|     1|{7, From Goal Kick}|{5088, Crystal Al...| {16, Left Midfield}|         3|{746, Manchester ...|[7cc1c0c6-2c01-44...|    29|null|        null|                null|  {971, Chelsea FCW}|00:00:29.620|     {17, Pressure}|          null|\n",
      "|         null|{{9, Incomplete}}|         null| null|           null|        null|   null|null|    null|          null|    null|      null|994e9fef-8ab6-4f1...|   19|           null|        null|  [75.0, 8.0]|     0|                null|     1|{7, From Goal Kick}|{5088, Crystal Al...| {16, Left Midfield}|         3|{746, Manchester ...|[fa7be948-c79a-4f...|    29|null|        null|                null|  {971, Chelsea FCW}|00:00:29.633|{42, Ball Receipt*}|          null|\n",
      "|         null|             null|         null| null|           null|        null|   null|null|   0.147|          null|    null|      null|7cc1c0c6-2c01-44d...|   20|           null|        null| [41.0, 71.0]|     0|{null, 0.7853982,...|     1|{7, From Goal Kick}|{4649, Esme Beth ...|     {2, Right Back}|         3|{746, Manchester ...|[30cb10cd-5f73-47...|    29|null|        null|                null|{746, Manchester ...|00:00:29.633|         {30, Pass}|          true|\n",
      "+-------------+-----------------+-------------+-----+---------------+------------+-------+----+--------+--------------+--------+----------+--------------------+-----+---------------+------------+-------------+------+--------------------+------+-------------------+--------------------+--------------------+----------+--------------------+--------------------+------+----+------------+--------------------+--------------------+------------+-------------------+--------------+\n",
      "only showing top 20 rows\n",
      "\n"
     ]
    },
    {
     "name": "stderr",
     "output_type": "stream",
     "text": [
      "                                                                                \r"
     ]
    }
   ],
   "source": [
    "df_event.show()"
   ]
  },
  {
   "cell_type": "markdown",
   "metadata": {},
   "source": []
  }
 ],
 "metadata": {
  "kernelspec": {
   "display_name": "Python 3",
   "language": "python",
   "name": "python3"
  },
  "language_info": {
   "codemirror_mode": {
    "name": "ipython",
    "version": 3
   },
   "file_extension": ".py",
   "mimetype": "text/x-python",
   "name": "python",
   "nbconvert_exporter": "python",
   "pygments_lexer": "ipython3",
   "version": "3.10.2"
  },
  "orig_nbformat": 4
 },
 "nbformat": 4,
 "nbformat_minor": 2
}
